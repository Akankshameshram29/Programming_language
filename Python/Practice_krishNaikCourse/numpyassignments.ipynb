{
 "cells": [
  {
   "cell_type": "markdown",
   "metadata": {},
   "source": [
    "# Module: NumPy Assignments\n",
    "## Lesson: NumPy\n",
    "### Assignment 1: Array Creation and Manipulation\n",
    "\n",
    "1. Create a NumPy array of shape (5, 5) filled with random integers between 1 and 20. Replace all the elements in the third column with 1.\n",
    "2. Create a NumPy array of shape (4, 4) with values from 1 to 16. Replace the diagonal elements with 0.\n",
    "\n",
    "### Assignment 2: Array Indexing and Slicing\n",
    "\n",
    "1. Create a NumPy array of shape (6, 6) with values from 1 to 36. Extract the sub-array consisting of the 3rd to 5th rows and 2nd to 4th columns.\n",
    "2. Create a NumPy array of shape (5, 5) with random integers. Extract the elements on the border.\n",
    "\n",
    "### Assignment 3: Array Operations\n",
    "\n",
    "1. Create two NumPy arrays of shape (3, 4) filled with random integers. Perform element-wise addition, subtraction, multiplication, and division.\n",
    "2. Create a NumPy array of shape (4, 4) with values from 1 to 16. Compute the row-wise and column-wise sum.\n",
    "\n",
    "### Assignment 4: Statistical Operations\n",
    "\n",
    "1. Create a NumPy array of shape (5, 5) filled with random integers. Compute the mean, median, standard deviation, and variance of the array.\n",
    "2. Create a NumPy array of shape (3, 3) with values from 1 to 9. Normalize the array (i.e., scale the values to have a mean of 0 and a standard deviation of 1).\n",
    "\n",
    "### Assignment 5: Broadcasting\n",
    "\n",
    "1. Create a NumPy array of shape (3, 3) filled with random integers. Add a 1D array of shape (3,) to each row of the 2D array using broadcasting.\n",
    "2. Create a NumPy array of shape (4, 4) filled with random integers. Subtract a 1D array of shape (4,) from each column of the 2D array using broadcasting.\n",
    "\n",
    "### Assignment 6: Linear Algebra\n",
    "\n",
    "1. Create a NumPy array of shape (3, 3) representing a matrix. Compute its determinant, inverse, and eigenvalues.\n",
    "2. Create two NumPy arrays of shape (2, 3) and (3, 2). Perform matrix multiplication on these arrays.\n",
    "\n",
    "### Assignment 7: Advanced Array Manipulation\n",
    "\n",
    "1. Create a NumPy array of shape (3, 3) with values from 1 to 9. Reshape the array to shape (1, 9) and then to shape (9, 1).\n",
    "2. Create a NumPy array of shape (5, 5) filled with random integers. Flatten the array and then reshape it back to (5, 5).\n",
    "\n",
    "### Assignment 8: Fancy Indexing and Boolean Indexing\n",
    "\n",
    "1. Create a NumPy array of shape (5, 5) filled with random integers. Use fancy indexing to extract the elements at the corners of the array.\n",
    "2. Create a NumPy array of shape (4, 4) filled with random integers. Use boolean indexing to set all elements greater than 10 to 10.\n",
    "\n",
    "### Assignment 9: Structured Arrays\n",
    "\n",
    "1. Create a structured array with fields 'name' (string), 'age' (integer), and 'weight' (float). Add some data and sort the array by age.\n",
    "2. Create a structured array with fields 'x' and 'y' (both integers). Add some data and compute the Euclidean distance between each pair of points.\n",
    "\n",
    "### Assignment 10: Masked Arrays\n",
    "\n",
    "1. Create a masked array of shape (4, 4) with random integers and mask the elements greater than 10. Compute the sum of the unmasked elements.\n",
    "2. Create a masked array of shape (3, 3) with random integers and mask the diagonal elements. Replace the masked elements with the mean of the unmasked elements."
   ]
  },
  {
   "cell_type": "code",
   "execution_count": null,
   "metadata": {},
   "outputs": [],
   "source": [
    "## Assignment 1: Array Creation and Manipulation\n",
    "#1. Create a NumPy array of shape (5, 5) filled with random integers between 1 and 20. Replace all the elements in the third column with 1.\n",
    "#2. Create a NumPy array of shape (4, 4) with values from 1 to 16. Replace the diagonal elements with 0.\n",
    "\n",
    "import numpy as np \n",
    "#1\n",
    "arr = np.random.randint(1, 21,size = (5,5))\n",
    "print(\"ARRAY :\",arr)\n",
    "\n",
    "arr[:,2] = 1\n",
    "print(\"Modified Array:\",arr)\n",
    "\n",
    "\n",
    "#2\n",
    "arr2 = np.arange(1,17).reshape(4,4)\n",
    "print(\"Second Array\",arr2)\n",
    "\n",
    "np.fill_diagonal(arr2,0)\n",
    "print(\"Modified Second array\",arr2)"
   ]
  },
  {
   "cell_type": "code",
   "execution_count": null,
   "id": "8925c193",
   "metadata": {},
   "outputs": [],
   "source": [
    "### Assignment 2: Array Indexing and Slicing\n",
    "\n",
    "#1. Create a NumPy array of shape (6, 6) with values from 1 to 36. Extract the sub-array consisting of the 3rd to 5th rows and 2nd to 4th columns.\n",
    "#2. Create a NumPy array of shape (5, 5) with random integers. Extract the elements on the border.\n",
    "\n",
    "new_arr = np.arange(1,37).reshape(6,6)\n",
    "print(\"Array\",new_arr)\n",
    "\n",
    "sub_arr = new_arr[2:5,1:4]\n",
    "print(\"Sub-Array of the  above array\",sub_arr)\n",
    "\n",
    "num_arr = np.random.randint(50,size=(5,5))\n",
    "print('original Array',num_arr)\n",
    "border_elements = np.concatenate((num_arr[0, :], num_arr[-1, :], num_arr[1:-1, 0], num_arr[1:-1, -1]))\n",
    "print(\"Border elements:\")\n",
    "print(border_elements)\n"
   ]
  },
  {
   "cell_type": "code",
   "execution_count": null,
   "id": "35e65a7e",
   "metadata": {},
   "outputs": [],
   "source": [
    "### Assignment 3: Array Operations\n",
    "\n",
    "#1. Create two NumPy arrays of shape (3, 4) filled with random integers. Perform element-wise addition, subtraction, multiplication, and division.\n",
    "\n",
    "N1 = np.random.randint(1,50,size = (3,4))\n",
    "N2 = np.random.randint(1,50,size=(3,4))\n",
    "print(\"N1:\",N1)\n",
    "print(\"N2:\",N2)\n",
    "print(\"Element wise Addition\",N1+N2)\n",
    "print(\"Element wise Subtraction\",N1-N2)\n",
    "print(\"Element wise Multiplication\",N1*N2)\n",
    "print(\"Element wise Division\",N1/N2)\n"
   ]
  },
  {
   "cell_type": "code",
   "execution_count": 10,
   "id": "7a1392a9",
   "metadata": {},
   "outputs": [
    {
     "name": "stdout",
     "output_type": "stream",
     "text": [
      "original array [[ 1  2  3  4]\n",
      " [ 5  6  7  8]\n",
      " [ 9 10 11 12]\n",
      " [13 14 15 16]]\n",
      "row wise sum [10 26 42 58]\n",
      "col wise [28 32 36 40]\n"
     ]
    }
   ],
   "source": [
    "### Assignment 3: Array  \n",
    "#2. Create a NumPy array of shape (4, 4) with values from 1 to 16. Compute the row-wise and column-wise sum.\n",
    "Num_arr = np.arange(1,17).reshape(4,4)\n",
    "print(\"original array\",Num_arr)\n",
    "\n",
    "row_sum = np.sum(Num_arr,axis = 1)\n",
    "col_sum = np.sum(Num_arr,axis =0)\n",
    "print(\"row wise sum\",row_sum)\n",
    "print(\"col wise\",col_sum)"
   ]
  },
  {
   "cell_type": "code",
   "execution_count": null,
   "id": "ca2bb456",
   "metadata": {},
   "outputs": [],
   "source": [
    "## Assignment 4: Statistical Operations\n",
    "\n",
    "#1. Create a NumPy array of shape (5, 5) filled with random integers. Compute the mean, median, standard deviation, and variance of the array.\n",
    "numbers = np.random.randint(1,100,size = (5,5))\n",
    "print(\"Original array\",numbers)\n",
    "\n",
    "mean = np.mean(numbers)\n",
    "print(\"Mean of the array\",mean)\n",
    "median = np.median(numbers)\n",
    "print(\"Median of the array\",median)\n",
    "std_var = np.std(numbers)\n",
    "print(\"Standard Varience of the array\",std_var)\n",
    "var = np.var(numbers)\n",
    "print(\"Varience of the Array\",var)"
   ]
  },
  {
   "cell_type": "code",
   "execution_count": 20,
   "id": "1003652b",
   "metadata": {},
   "outputs": [
    {
     "name": "stdout",
     "output_type": "stream",
     "text": [
      "Array: [[1 2 3]\n",
      " [4 5 6]\n",
      " [7 8 9]]\n",
      "Normalized Array [[-0.93649167  0.06350833  1.06350833]\n",
      " [ 2.06350833  3.06350833  4.06350833]\n",
      " [ 5.06350833  6.06350833  7.06350833]]\n"
     ]
    }
   ],
   "source": [
    "# Assignment 4: Statistical Operations\n",
    "#2. Create a NumPy array of shape (3, 3) with values from 1 to 9. \n",
    "# Normalize the array (i.e., scale the values to have a mean of 0 and a standard deviation of 1).\n",
    "\n",
    "Array = np.arange(1,10).reshape(3,3)\n",
    "print(\"Array:\",Array)\n",
    "\n",
    "mean = np.mean(Array)\n",
    "std = np.std(Array)\n",
    "Normalized_Array = Array - mean/std\n",
    "print(\"Normalized Array\",Normalized_Array)\n"
   ]
  },
  {
   "cell_type": "code",
   "execution_count": 22,
   "id": "d15ec92e",
   "metadata": {},
   "outputs": [
    {
     "name": "stdout",
     "output_type": "stream",
     "text": [
      "2D Array [[16 14 15]\n",
      " [16 18  7]\n",
      " [ 1  3 12]]\n",
      "1D Array [1, 2, 3]\n",
      "result [[17 16 18]\n",
      " [17 20 10]\n",
      " [ 2  5 15]]\n"
     ]
    }
   ],
   "source": [
    "## Assignment 5: Broadcasting\n",
    "#1. Create a NumPy array of shape (3, 3) filled with random integers. Add a 1D array of shape (3,) to each row of the 2D array using broadcasting.\n",
    "\n",
    "Arr = np.random.randint(1,20,size = (3,3))\n",
    "print('2D Array',Arr)\n",
    "Arr_1d = [1,2,3]\n",
    "print(\"1D Array\",Arr_1d)\n",
    "\n",
    "resulting_Array = Arr + Arr_1d\n",
    "print(\"result\",resulting_Array)\n"
   ]
  },
  {
   "cell_type": "code",
   "execution_count": null,
   "id": "84262a2b",
   "metadata": {},
   "outputs": [],
   "source": [
    "### Assignment 5: Broadcasting\n",
    "#2. Create a NumPy array of shape (4, 4) filled with random integers. Subtract a 1D array of shape (4,) from each column of the 2D array using broadcasting.\n",
    "\n",
    "Arr = np.random.randint(1,50,size = (4,4))\n",
    "print(\"2d Array\",Arr)\n",
    "Arr_1D = np.random.randint(1,10,size=(4,))\n",
    "print(\"1d array\",Arr_1D)\n",
    "\n",
    "resulting_Array = Arr - Arr_1D\n",
    "print(\"result of subtraction\",resulting_Array)\n"
   ]
  },
  {
   "cell_type": "code",
   "execution_count": null,
   "id": "fbc48c2e",
   "metadata": {},
   "outputs": [
    {
     "name": "stdout",
     "output_type": "stream",
     "text": [
      "Matrix: [[1 2 3]\n",
      " [4 5 6]\n",
      " [7 8 9]]\n",
      "Determinant of the matrix 6.66133814775094e-16\n",
      "Inverse of the matrix [[-4.50359963e+15  9.00719925e+15 -4.50359963e+15]\n",
      " [ 9.00719925e+15 -1.80143985e+16  9.00719925e+15]\n",
      " [-4.50359963e+15  9.00719925e+15 -4.50359963e+15]]\n",
      "Eigenvalues [ 1.61168440e+01 -1.11684397e+00 -4.22209278e-16]\n"
     ]
    }
   ],
   "source": [
    "### Assignment 6: Linear Algebra\n",
    "#1. Create a NumPy array of shape (3, 3) representing a matrix. Compute its determinant, inverse, and eigenvalues.\n",
    "\n",
    "matrix = np.arange(1,10).reshape(3,3)\n",
    "print(\"Matrix:\",matrix)\n",
    "\n",
    "determinant = np.linalg.det(matrix)\n",
    "print(\"Determinant of the matrix\",determinant)\n",
    "Inverse = np.linalg.inv(matrix)\n",
    "print(\"Inverse of the matrix\",Inverse)\n",
    "eigenvalues = np.linalg.eigvals(matrix)\n",
    "print(\"Eigenvalues\",eigenvalues)\n"
   ]
  },
  {
   "cell_type": "code",
   "execution_count": 30,
   "id": "fd9fffbf",
   "metadata": {},
   "outputs": [
    {
     "name": "stdout",
     "output_type": "stream",
     "text": [
      "n1  [[ 5  4 18]\n",
      " [ 5 13 16]]\n",
      "n2  [[10 12]\n",
      " [14  7]\n",
      " [ 6 15]]\n",
      "resulting matrix after multiplication [[214 358]\n",
      " [328 391]]\n"
     ]
    }
   ],
   "source": [
    "### Assignment 6: Linear Algebra\n",
    "#2. Create two NumPy arrays of shape (2, 3) and (3, 2). Perform matrix multiplication on these arrays.\n",
    "n1 =np.random.randint(1,20,size=(2,3))\n",
    "print(\"n1 \",n1)\n",
    "n2 = np.random.randint(1,20,size=(3,2))\n",
    "print(\"n2 \",n2)\n",
    "\n",
    "mat_multiply = np.dot(n1,n2)\n",
    "print(\"resulting matrix after multiplication\",mat_multiply)\n"
   ]
  },
  {
   "cell_type": "code",
   "execution_count": 37,
   "id": "a7722f61",
   "metadata": {},
   "outputs": [
    {
     "name": "stdout",
     "output_type": "stream",
     "text": [
      "original array [[1 2 3]\n",
      " [4 5 6]\n",
      " [7 8 9]]\n",
      "Reshaped Array [[1 2 3 4 5 6 7 8 9]]\n",
      "Reshaped Array [[1]\n",
      " [2]\n",
      " [3]\n",
      " [4]\n",
      " [5]\n",
      " [6]\n",
      " [7]\n",
      " [8]\n",
      " [9]]\n"
     ]
    }
   ],
   "source": [
    "## Assignment 7: Advanced Array Manipulation\n",
    "#1. Create a NumPy array of shape (3, 3) with values from 1 to 9. Reshape the array to shape (1, 9) and then to shape (9, 1).\n",
    "Array = np.arange(1,10).reshape((3,3))\n",
    "print(\"original array\",Array)\n",
    "\n",
    "Reshaped_arr = Array.reshape((1,9))\n",
    "print(\"Reshaped Array\",Reshaped_arr)\n",
    "Reshaped_arr1 = Array.reshape((9,1))\n",
    "print(\"Reshaped Array\",Reshaped_arr1)"
   ]
  },
  {
   "cell_type": "code",
   "execution_count": null,
   "id": "822e50cd",
   "metadata": {},
   "outputs": [],
   "source": [
    "## Assignment 7: Advanced Array Manipulation\n",
    "#2. Create a NumPy array of shape (5, 5) filled with random integers. Flatten the array and then reshape it back to (5, 5).\n",
    "Num_arr = np.random.randint(1,25,size=(5,5))\n",
    "print(\"original array\",Num_arr)\n",
    "\n",
    "flattened = Num_arr.flatten()\n",
    "print('flatten array',flattened)\n",
    "\n",
    "reshaped = flattened.reshape(5,5)\n",
    "print(\"Reshaped Array\",reshaped)"
   ]
  },
  {
   "cell_type": "code",
   "execution_count": null,
   "id": "0fa5d7a4",
   "metadata": {},
   "outputs": [
    {
     "name": "stdout",
     "output_type": "stream",
     "text": [
      "original array [[ 4 17  2 11 12]\n",
      " [16  1 13 11  3]\n",
      " [12 13  4  4 15]\n",
      " [ 9  8 18  7 17]\n",
      " [19 13  8 13 15]]\n",
      "Corner elements:\n",
      "[ 4 12 19 15]\n"
     ]
    }
   ],
   "source": [
    "## Assignment 8: Fancy Indexing and Boolean Indexing\n",
    "#1. Create a NumPy array of shape (5, 5) filled with random integers. Use fancy indexing to extract the elements at the corners of the array.\n",
    "\n",
    "num = np.random.randint(1,21,size= (5,5))\n",
    "print(\"original array\",num)\n",
    "\n",
    "corners = num[[0, 0, -1, -1], [0, -1, 0, -1]]\n",
    "print(\"Corner elements:\")\n",
    "print(corners)\n"
   ]
  },
  {
   "cell_type": "code",
   "execution_count": null,
   "id": "99a18592",
   "metadata": {},
   "outputs": [],
   "source": [
    "# Assignment 8: Fancy Indexing and Boolean Indexing\n",
    "#2. Create a NumPy array of shape (4, 4) filled with random integers. Use boolean indexing to set all elements greater than 10 to 10.\n",
    "Array = np.random.randint(1,30,size=(4,4))\n",
    "print(\"original array\",Array)\n",
    "\n",
    "Array[Array > 10] = 10\n",
    "print(\"Modified array:\",Array)\n",
    "\n"
   ]
  },
  {
   "cell_type": "code",
   "execution_count": 46,
   "id": "8f88f35c",
   "metadata": {},
   "outputs": [
    {
     "name": "stdout",
     "output_type": "stream",
     "text": [
      "Original array: [('Alice', 25, 55.5) ('Bob', 30, 85.3) ('Charlie', 20, 65.2)]\n",
      "Sorted array by age: [('Charlie', 20, 65.2) ('Alice', 25, 55.5) ('Bob', 30, 85.3)]\n"
     ]
    }
   ],
   "source": [
    "### Assignment 9: Structured Arrays\n",
    "#1. Create a structured array with fields 'name' (string), 'age' (integer), and 'weight' (float). Add some data and sort the array by age.\n",
    "\n",
    "data_type = [('name', 'U10'), ('age', 'i4'), ('weight', 'f4')]\n",
    "data = np.array([('Alice', 25, 55.5), ('Bob', 30, 85.3), ('Charlie', 20, 65.2)], dtype=data_type)\n",
    "print(\"Original array:\",data)\n",
    "\n",
    "sorted_data = np.sort(data, order='age')\n",
    "print(\"Sorted array by age:\",sorted_data)\n"
   ]
  },
  {
   "cell_type": "code",
   "execution_count": null,
   "id": "a74d7aa2",
   "metadata": {},
   "outputs": [
    {
     "name": "stdout",
     "output_type": "stream",
     "text": [
      "Original array: [(1, 2) (3, 4) (5, 6)]\n",
      "Euclidean distances: [[0.         2.82842712 5.65685425]\n",
      " [2.82842712 0.         2.82842712]\n",
      " [5.65685425 2.82842712 0.        ]]\n"
     ]
    }
   ],
   "source": [
    "### Assignment 9: Structured Arrays\n",
    "#2. Create a structured array with fields 'x' and 'y' (both integers). Add some data and compute the Euclidean distance between each pair of points.\n",
    "data_type = [('x', 'i4'), ('y', 'i4')]\n",
    "data = np.array([(1, 2), (3, 4), (5, 6)], dtype=data_type)\n",
    "print(\"Original array:\",data)\n",
    "\n",
    "distances = np.sqrt((data['x'][:, np.newaxis] - data['x'])**2 + (data['y'][:, np.newaxis] - data['y'])**2)\n",
    "print(\"Euclidean distances:\",distances)\n"
   ]
  },
  {
   "cell_type": "code",
   "execution_count": null,
   "id": "ef6da489",
   "metadata": {},
   "outputs": [
    {
     "name": "stdout",
     "output_type": "stream",
     "text": [
      "Original array: [[10 17 11 20]\n",
      " [ 7 13 17 12]\n",
      " [20 16  2 20]\n",
      " [ 6  8 20 16]]\n",
      "Masked array: [[10 -- -- --]\n",
      " [7 -- -- --]\n",
      " [-- -- 2 --]\n",
      " [6 8 -- --]]\n",
      "Sum of unmasked elements: 33\n"
     ]
    }
   ],
   "source": [
    "### Assignment 10: Masked Arrays\n",
    "#1. Create a masked array of shape (4, 4) with random integers and mask the elements greater than 10. Compute the sum of the unmasked elements.\n",
    "import numpy.ma as ma\n",
    "array = np.random.randint(1, 21, size=(4, 4))\n",
    "masked_array = ma.masked_greater(array, 10)\n",
    "print(\"Original array:\",array)\n",
    "print(\"Masked array:\",masked_array)\n",
    "sum_unmasked = masked_array.sum()\n",
    "print(\"Sum of unmasked elements:\", sum_unmasked)"
   ]
  },
  {
   "cell_type": "code",
   "execution_count": 52,
   "id": "90a415ab",
   "metadata": {},
   "outputs": [
    {
     "name": "stdout",
     "output_type": "stream",
     "text": [
      "Original array:\n",
      "[[11 14  6]\n",
      " [19 20 15]\n",
      " [10  9  8]]\n",
      "Masked array:\n",
      "[[-- 14 6]\n",
      " [19 -- 15]\n",
      " [10 9 --]]\n",
      "Modified masked array:\n",
      "[[12 14  6]\n",
      " [19 12 15]\n",
      " [10  9 12]]\n"
     ]
    }
   ],
   "source": [
    "\n",
    "### Assignment 10: Masked Arrays\n",
    "#2. Create a masked array of shape (3, 3) with random integers and mask the diagonal elements. Replace the masked elements with the mean of the unmasked elements.\n",
    "array = np.random.randint(1, 21, size=(3, 3))\n",
    "masked_array = ma.masked_array(array, mask=np.eye(3, dtype=bool))\n",
    "print(\"Original array:\")\n",
    "print(array)\n",
    "print(\"Masked array:\")\n",
    "print(masked_array)\n",
    "\n",
    "mean_unmasked = masked_array.mean()\n",
    "masked_array = masked_array.filled(mean_unmasked)\n",
    "print(\"Modified masked array:\")\n",
    "print(masked_array)"
   ]
  }
 ],
 "metadata": {
  "kernelspec": {
   "display_name": "base",
   "language": "python",
   "name": "python3"
  },
  "language_info": {
   "codemirror_mode": {
    "name": "ipython",
    "version": 3
   },
   "file_extension": ".py",
   "mimetype": "text/x-python",
   "name": "python",
   "nbconvert_exporter": "python",
   "pygments_lexer": "ipython3",
   "version": "3.12.4"
  }
 },
 "nbformat": 4,
 "nbformat_minor": 5
}
