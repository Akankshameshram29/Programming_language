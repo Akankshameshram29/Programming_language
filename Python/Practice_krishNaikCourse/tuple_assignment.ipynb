{
 "cells": [
  {
   "cell_type": "markdown",
   "id": "6cade624",
   "metadata": {},
   "source": [
    "# Module 3: Data Structures Assignments\n",
    "## Lesson 3.2: Tuples\n",
    "### Assignment 1: Creating and Accessing Tuples\n",
    "\n",
    "Create a tuple with the first 10 positive integers. Print the tuple.\n",
    "\n",
    "### Assignment 2: Accessing Tuple Elements\n",
    "\n",
    "Print the first, middle, and last elements of the tuple created in Assignment 1.\n",
    "\n",
    "### Assignment 3: Tuple Slicing\n",
    "\n",
    "Print the first three elements, the last three elements, and the elements from index 2 to 5 of the tuple created in Assignment 1.\n",
    "\n",
    "### Assignment 4: Nested Tuples\n",
    "\n",
    "Create a nested tuple representing a 3x3 matrix and print the matrix. Access and print the element at the second row and third column.\n",
    "\n",
    "### Assignment 5: Tuple Concatenation\n",
    "\n",
    "Concatenate two tuples: (1, 2, 3) and (4, 5, 6). Print the resulting tuple.\n",
    "\n",
    "### Assignment 6: Tuple Methods\n",
    "\n",
    "Create a tuple with duplicate elements and count the occurrences of an element. Find the index of the first occurrence of an element in the tuple.\n",
    "\n",
    "### Assignment 7: Unpacking Tuples\n",
    "\n",
    "Create a tuple with 5 elements and unpack it into 5 variables. Print the variables.\n",
    "\n",
    "### Assignment 8: Tuple Conversion\n",
    "\n",
    "Convert a list of the first 5 positive integers to a tuple. Print the tuple.\n",
    "\n",
    "### Assignment 9: Tuple of Tuples\n",
    "\n",
    "Create a tuple containing 3 tuples, each with 3 elements. Print the tuple of tuples.\n",
    "\n",
    "### Assignment 10: Tuple and List\n",
    "\n",
    "Create a tuple with the first 5 positive integers. Convert it to a list, append the number 6, and convert it back to a tuple. Print the resulting tuple.\n",
    "\n",
    "### Assignment 11: Tuple and String\n",
    "\n",
    "Create a tuple with the characters of a string. Join the tuple elements into a single string. Print the string.\n",
    "\n",
    "### Assignment 12: Tuple and Dictionary\n",
    "\n",
    "Create a dictionary with tuple keys and integer values. Print the dictionary.\n",
    "\n",
    "### Assignment 13: Nested Tuple Iteration\n",
    "\n",
    "Create a nested tuple and iterate over the elements, printing each element.\n",
    "\n",
    "### Assignment 14: Tuple and Set\n",
    "\n",
    "Create a tuple with duplicate elements. Convert it to a set to remove duplicates and print the resulting set.\n",
    "\n",
    "### Assignment 15: Tuple Functions\n",
    "\n",
    "Write functions that take a tuple and return the minimum, maximum, and sum of the elements. Print the results for a sample tuple."
   ]
  },
  {
   "cell_type": "code",
   "execution_count": 50,
   "metadata": {},
   "outputs": [
    {
     "name": "stdout",
     "output_type": "stream",
     "text": [
      "first ten positive integers: (1, 2, 3, 4, 5, 6, 7, 8, 9, 10)\n"
     ]
    }
   ],
   "source": [
    "\n",
    "### Assignment 1: Creating and Accessing Tuples\n",
    "#Create a tuple with the first 10 positive integers. Print the tuple.\n",
    "tuple1 = tuple(range(1,11))\n",
    "print(\"first ten positive integers:\",tuple1)\n"
   ]
  },
  {
   "cell_type": "code",
   "execution_count": 40,
   "id": "4d694642",
   "metadata": {},
   "outputs": [
    {
     "name": "stdout",
     "output_type": "stream",
     "text": [
      "First element 1\n",
      "middle element 6\n",
      "third element 10\n"
     ]
    }
   ],
   "source": [
    "### Assignment 2: Accessing Tuple Elements\n",
    "#Print the first, middle, and last elements of the tuple created in Assignment 1.\n",
    "\n",
    "print(\"First element\",tuple1[0])\n",
    "print(\"middle element\",tuple1[len(tuple1)//2])\n",
    "print(\"third element\",tuple1[-1])"
   ]
  },
  {
   "cell_type": "code",
   "execution_count": 41,
   "id": "11e3ecf6",
   "metadata": {},
   "outputs": [
    {
     "name": "stdout",
     "output_type": "stream",
     "text": [
      "first three element (1, 2, 3)\n",
      "last three element (8, 9, 10)\n",
      "element from index 2 to 5 (3, 4, 5)\n"
     ]
    }
   ],
   "source": [
    "### Assignment 3: Tuple Slicing\n",
    "#Print the first three elements, the last three elements, and the elements from index 2 to 5 of the tuple created in Assignment 1.\n",
    "print(\"first three element\",tuple1[0:3])\n",
    "print(\"last three element\",tuple1[-3:len(tuple1)])\n",
    "print(\"element from index 2 to 5\",tuple1[2:5])\n"
   ]
  },
  {
   "cell_type": "code",
   "execution_count": 42,
   "id": "c64b3468",
   "metadata": {},
   "outputs": [
    {
     "name": "stdout",
     "output_type": "stream",
     "text": [
      "3*3 tuple matrix ((2, 4, 6), (3, 6, 9), (4, 8, 12))\n",
      "second row and third column 9\n"
     ]
    }
   ],
   "source": [
    "### Assignment 4: Nested Tuples\n",
    "#Create a nested tuple representing a 3x3 matrix and print the matrix. Access and print the element at the second row and third column.\n",
    "\n",
    "mat_tuple = ((2,4,6),(3,6,9),(4,8,12))\n",
    "print(\"3*3 tuple matrix\",mat_tuple)\n",
    "print(\"second row and third column\",mat_tuple[1][2])"
   ]
  },
  {
   "cell_type": "code",
   "execution_count": 43,
   "id": "e6b00c3c",
   "metadata": {},
   "outputs": [
    {
     "name": "stdout",
     "output_type": "stream",
     "text": [
      "result after concatenating: (1, 2, 3, 4, 5, 6)\n"
     ]
    }
   ],
   "source": [
    "### Assignment 5: Tuple Concatenation\n",
    "#Concatenate two tuples: (1, 2, 3) and (4, 5, 6). Print the resulting tuple.\n",
    "\n",
    "tuple_1 = (1,2,3)\n",
    "tuple_2 = (4,5,6)\n",
    "concate_tuple = tuple_1+tuple_2\n",
    "print(\"result after concatenating:\",concate_tuple)"
   ]
  },
  {
   "cell_type": "code",
   "execution_count": 53,
   "id": "b856ae58",
   "metadata": {},
   "outputs": [
    {
     "name": "stdout",
     "output_type": "stream",
     "text": [
      "occurence of 4 2\n",
      "index of first occurence of 4 2\n"
     ]
    }
   ],
   "source": [
    "### Assignment 6: Tuple Methods\n",
    "#Create a tuple with duplicate elements and count the occurrences of an element. Find the index of the first occurrence of an element in the tuple.\n",
    "\n",
    "duplicate_tuple = (1,2,4,5,2,7,6,8,3,4,5,9)\n",
    "print(\"occurence of 4:\",duplicate_tuple.count(4))\n",
    "print(\"index of first occurence of 4:\",duplicate_tuple.index(4))"
   ]
  },
  {
   "cell_type": "code",
   "execution_count": 46,
   "id": "746ec6de",
   "metadata": {},
   "outputs": [
    {
     "name": "stdout",
     "output_type": "stream",
     "text": [
      "five variales after unpacking\n",
      "a: 3.11\n",
      "b: 1.44\n",
      "c: 2.27\n",
      "d: 4.45\n",
      "e: 6.7\n"
     ]
    }
   ],
   "source": [
    "### Assignment 7: Unpacking Tuples\n",
    "#Create a tuple with 5 elements and unpack it into 5 variables. Print the variables.\n",
    "\n",
    "tupleA = (3.11,1.44,2.27,4.45,6.7)\n",
    "a,b,c,d,e = tupleA\n",
    "print(\"five variales after unpacking\")\n",
    "print(\"a:\",a)\n",
    "print(\"b:\",b)\n",
    "print(\"c:\",c)\n",
    "print(\"d:\",d)\n",
    "print(\"e:\",e)\n",
    "\n"
   ]
  },
  {
   "cell_type": "code",
   "execution_count": 47,
   "id": "f7fe3c55",
   "metadata": {},
   "outputs": [
    {
     "name": "stdout",
     "output_type": "stream",
     "text": [
      "(1, 2, 3, 4, 5)\n"
     ]
    }
   ],
   "source": [
    "### Assignment 8: Tuple Conversion\n",
    "#Convert a list of the first 5 positive integers to a tuple. Print the tuple.\n",
    "\n",
    "list1 = [1,2,3,4,5]\n",
    "print(tuple(list1))\n"
   ]
  },
  {
   "cell_type": "code",
   "execution_count": 54,
   "id": "ec4cfac9",
   "metadata": {},
   "outputs": [
    {
     "name": "stdout",
     "output_type": "stream",
     "text": [
      "tuple of tuples ((1, 2, 3), (4, 5, 6), (7, 8, 9))\n"
     ]
    }
   ],
   "source": [
    "### Assignment 9: Tuple of Tuples\n",
    "#Create a tuple containing 3 tuples, each with 3 elements. Print the tuple of tuples.\n",
    "tot = ((1,2,3),(4,5,6),(7,8,9))\n",
    "print(\"tuple of tuples\",tot)\n"
   ]
  },
  {
   "cell_type": "code",
   "execution_count": 68,
   "id": "65537feb",
   "metadata": {},
   "outputs": [
    {
     "name": "stdout",
     "output_type": "stream",
     "text": [
      "final tuple: (1, 2, 3, 4, 5, 6)\n"
     ]
    }
   ],
   "source": [
    "### Assignment 10: Tuple and List\n",
    "#Create a tuple with the first 5 positive integers. Convert it to a list, append the number 6, and convert it back to a tuple. Print the resulting tuple.\n",
    "inital_tuple = (1,2,3,4,5)\n",
    "lst=list(inital_tuple)\n",
    "lst.append(6)\n",
    "new_tuple=tuple(lst)\n",
    "print(\"final tuple:\",new_tuple)\n",
    "\n"
   ]
  },
  {
   "cell_type": "code",
   "execution_count": 77,
   "id": "c5a261dd",
   "metadata": {},
   "outputs": [
    {
     "name": "stdout",
     "output_type": "stream",
     "text": [
      "('h', 'e', 'l', 'l', 'o')\n",
      "hello\n"
     ]
    }
   ],
   "source": [
    "### Assignment 11: Tuple and String\n",
    "#Create a tuple with the characters of a string. Join the tuple elements into a single string. Print the string.\n",
    "\n",
    "string = \"hello\"\n",
    "tup= tuple(string)\n",
    "print(tup)\n",
    "new_str = ''.join(tup)\n",
    "print(new_str)"
   ]
  },
  {
   "cell_type": "code",
   "execution_count": 79,
   "id": "21231fd6",
   "metadata": {},
   "outputs": [
    {
     "name": "stdout",
     "output_type": "stream",
     "text": [
      "{(1, 3): 2, (2, 6): 4, (3, 9): 6}\n"
     ]
    }
   ],
   "source": [
    "### Assignment 12: Tuple and Dictionary\n",
    "#Create a dictionary with tuple keys and integer values. Print the dictionary.\n",
    "dict = {\n",
    "    (1, 3): 2,\n",
    "    (2, 6): 4,\n",
    "    (3, 9): 6\n",
    "}\n",
    "print(dict)"
   ]
  },
  {
   "cell_type": "code",
   "execution_count": 80,
   "id": "40e17561",
   "metadata": {},
   "outputs": [
    {
     "name": "stdout",
     "output_type": "stream",
     "text": [
      "(2, 3, 4)\n",
      "(7, 8, 9)\n",
      "\n"
     ]
    }
   ],
   "source": [
    "### Assignment 13: Nested Tuple Iteration\n",
    "#Create a nested tuple and iterate over the elements, printing each element.\n",
    "nested_tpl=((2,3,4),(7,8,9))\n",
    "for i in nested_tpl:\n",
    "    print(i)\n",
    "print()"
   ]
  },
  {
   "cell_type": "code",
   "execution_count": 81,
   "id": "3966a4f0",
   "metadata": {},
   "outputs": [
    {
     "name": "stdout",
     "output_type": "stream",
     "text": [
      "{1, 2, 3, 4, 5, 6, 7, 8, 9}\n"
     ]
    }
   ],
   "source": [
    "### Assignment 14: Tuple and Set\n",
    "#Create a tuple with duplicate elements. Convert it to a set to remove duplicates and print the resulting set.\n",
    "dup_tup = (1,2,3,4,5,2,3,4,5,6,7,8,9)\n",
    "original = set(dup_tup)\n",
    "print(original)"
   ]
  },
  {
   "cell_type": "code",
   "execution_count": 85,
   "id": "59974d29",
   "metadata": {},
   "outputs": [
    {
     "name": "stdout",
     "output_type": "stream",
     "text": [
      "(1, 3, 6)\n"
     ]
    }
   ],
   "source": [
    "### Assignment 15: Tuple Functions\n",
    "#Write functions that take a tuple and return the minimum, maximum, and sum of the elements. Print the results for a sample tuple.\n",
    "\n",
    "def func(tup):\n",
    "    mini = min(tup)\n",
    "    maxi = max(tup)\n",
    "    summation = sum(tup)\n",
    "    return mini,maxi,summation\n",
    "\n",
    "tup = (1,2,3)\n",
    "\n",
    "print(func(tup))"
   ]
  }
 ],
 "metadata": {
  "kernelspec": {
   "display_name": "base",
   "language": "python",
   "name": "python3"
  },
  "language_info": {
   "codemirror_mode": {
    "name": "ipython",
    "version": 3
   },
   "file_extension": ".py",
   "mimetype": "text/x-python",
   "name": "python",
   "nbconvert_exporter": "python",
   "pygments_lexer": "ipython3",
   "version": "3.12.4"
  }
 },
 "nbformat": 4,
 "nbformat_minor": 5
}
