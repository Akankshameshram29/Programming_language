{
 "cells": [
  {
   "cell_type": "markdown",
   "metadata": {},
   "source": [
    "# Module 5: Modules and Packages Assignments\n",
    "## Lesson 5.1: Importing Modules\n",
    "### Assignment 1: Importing and Using Modules\n",
    "\n",
    "Import the `math` module and use it to calculate the square root of 25 and the sine of 90 degrees.\n",
    "\n",
    "### Assignment 2: Aliasing Modules\n",
    "\n",
    "Import the `datetime` module with an alias and use it to print the current date and time.\n",
    "\n",
    "### Assignment 3: Importing Specific Functions\n",
    "\n",
    "Import the `randint` function from the `random` module and use it to generate a random integer between 1 and 100.\n",
    "\n",
    "### Assignment 4: Importing Multiple Functions\n",
    "\n",
    "Import the `sqrt` and `pow` functions from the `math` module and use them to calculate the square root of 16 and 2 raised to the power of 3.\n",
    "\n",
    "### Assignment 5: Handling Import Errors\n",
    "\n",
    "Write code that attempts to import a non-existent module and gracefully handles the import error by printing an error message.\n",
    "\n",
    "## Lesson 5.2: Standard Library Overview\n",
    "### Assignment 6: Working with the `os` Module\n",
    "\n",
    "Use the `os` module to create a new directory, list the contents of the current directory, and remove the newly created directory.\n",
    "\n",
    "### Assignment 7: Working with the `sys` Module\n",
    "\n",
    "Use the `sys` module to print the Python version currently in use and the command-line arguments passed to the script.\n",
    "\n",
    "### Assignment 8: Working with the `math` Module\n",
    "\n",
    "Use the `math` module to calculate the greatest common divisor (GCD) of two numbers and the factorial of a number.\n",
    "\n",
    "### Assignment 9: Working with the `datetime` Module\n",
    "\n",
    "Use the `datetime` module to print the current date, calculate the date 100 days from today, and determine the day of the week for a given date.\n",
    "\n",
    "### Assignment 10: Working with the `random` Module\n",
    "\n",
    "Use the `random` module to generate a list of 5 random numbers between 1 and 50 and shuffle the elements of a list.\n",
    "\n",
    "## Lesson 5.3: Creating and Using Packages\n",
    "### Assignment 11: Creating a Simple Package\n",
    "\n",
    "Create a package named `mypackage` with two modules: `module1` and `module2`. `module1` should contain a function that adds two numbers, and `module2` should contain a function that multiplies two numbers. Write code to use these functions.\n",
    "\n",
    "### Assignment 12: Using `__init__.py`\n",
    "\n",
    "Modify the `mypackage` package to include an `__init__.py` file that imports the functions from `module1` and `module2`. Write code to use these functions.\n",
    "\n",
    "### Assignment 13: Importing from a Package\n",
    "\n",
    "Write code to import and use the functions from `mypackage` without explicitly importing `module1` and `module2`.\n",
    "\n",
    "### Assignment 14: Relative Imports\n",
    "\n",
    "Create a subpackage named `subpackage` within `mypackage` and move `module2` into `subpackage`. Modify the import statements in `__init__.py` to use relative imports. Write code to use the functions from both modules.\n",
    "\n",
    "### Assignment 15: Handling Package Import Errors\n",
    "\n",
    "Write code that attempts to import a non-existent function from `mypackage` and gracefully handles the import error by printing an error message."
   ]
  },
  {
   "cell_type": "code",
   "execution_count": 2,
   "id": "1f1fb62d",
   "metadata": {},
   "outputs": [
    {
     "name": "stdout",
     "output_type": "stream",
     "text": [
      "The GCD of 36 and 48 is: 12\n",
      "The factorial of 5 is: 120\n"
     ]
    }
   ],
   "source": [
    "### Assignment 8: Working with the math Module\n",
    "\n",
    "#Use the math module to calculate the greatest common divisor (GCD) of two \n",
    "# numbers and the factorial of a number.\n",
    "\n",
    "import math\n",
    "\n",
    "# Define two numbers for GCD calculation\n",
    "num1 = 36\n",
    "num2 = 48\n",
    "\n",
    "# Calculate GCD\n",
    "gcd_result = math.gcd(num1, num2)\n",
    "print(f\"The GCD of {num1} and {num2} is: {gcd_result}\")\n",
    "\n",
    "# Define a number for factorial calculation\n",
    "num_factorial = 5\n",
    "\n",
    "# Calculate Factorial\n",
    "factorial_result = math.factorial(num_factorial)\n",
    "print(f\"The factorial of {num_factorial} is: {factorial_result}\")\n",
    "\n"
   ]
  },
  {
   "cell_type": "code",
   "execution_count": 1,
   "id": "a410c1f6",
   "metadata": {},
   "outputs": [
    {
     "name": "stdout",
     "output_type": "stream",
     "text": [
      "Error: The function 'non_existent_function' could not be imported from 'mypackage'. Please check if it exists.\n"
     ]
    }
   ],
   "source": [
    "### Assignment 15: Handling Package Import Errors\n",
    "#Write code that attempts to import a non-existent function from `mypackage` and\n",
    "# gracefully handles the import error by printing an error message.\n",
    "try:\n",
    "    from mypackage import non_existent_function\n",
    "except ImportError:\n",
    "    print(\"Error: The function 'non_existent_function' could not be imported from 'mypackage'. Please check if it exists.\")\n"
   ]
  },
  {
   "cell_type": "code",
   "execution_count": 7,
   "metadata": {},
   "outputs": [
    {
     "name": "stdout",
     "output_type": "stream",
     "text": [
      "squareroot: 5.0\n",
      "sine of 1.5707963267948966: 1.0\n"
     ]
    }
   ],
   "source": [
    "### Assignment 1: Importing and Using Modules\n",
    "#Import the `math` module and use it to calculate the square root of 25 and the sine of 90 degrees.\n",
    "import math\n",
    "\n",
    "num = int(input())\n",
    "squareroot = math.sqrt(num)\n",
    "print(\"squareroot:\",squareroot)\n",
    "\n",
    "degree = math.radians(90)\n",
    "sine = math.sin(degree)\n",
    "print(f\"sine of {degree}:\",sine)\n"
   ]
  },
  {
   "cell_type": "code",
   "execution_count": 11,
   "id": "9d78e0ce",
   "metadata": {},
   "outputs": [
    {
     "name": "stdout",
     "output_type": "stream",
     "text": [
      "2025-01-31 15:11:58.664289+00:00\n"
     ]
    }
   ],
   "source": [
    "### Assignment 2: Aliasing Modules\n",
    "#Import the `datetime` module with an alias and use it to print the current date and time.\n",
    "\n",
    "import datetime as dt \n",
    "real_time = dt.datetime.now(dt.timezone.utc)\n",
    "print(real_time)\n"
   ]
  },
  {
   "cell_type": "code",
   "execution_count": 13,
   "id": "0176f637",
   "metadata": {},
   "outputs": [
    {
     "name": "stdout",
     "output_type": "stream",
     "text": [
      "number: 15\n"
     ]
    }
   ],
   "source": [
    "### Assignment 3: Importing Specific Functions\n",
    "#Import the `randint` function from the `random` module and use it to generate a random integer between 1 and 100.\n",
    "import random \n",
    "\n",
    "number = random.randint(1,100)\n",
    "print(\"number:\",number)"
   ]
  },
  {
   "cell_type": "code",
   "execution_count": 17,
   "id": "11db8d56",
   "metadata": {},
   "outputs": [
    {
     "name": "stdout",
     "output_type": "stream",
     "text": [
      "4.0\n",
      "8.0\n"
     ]
    }
   ],
   "source": [
    "### Assignment 4: Importing Multiple Functions\n",
    "#Import the `sqrt` and `pow` functions from the `math` module and \n",
    "# use them to calculate the square root of 16 and 2 raised to the power of 3.\n",
    "\n",
    "import math\n",
    "\n",
    "number = 16\n",
    "square1 = math.sqrt(number)\n",
    "print(square1)\n",
    "power = math.pow(2,3)\n",
    "print(power)"
   ]
  },
  {
   "cell_type": "code",
   "execution_count": 2,
   "id": "315be4c6",
   "metadata": {},
   "outputs": [
    {
     "name": "stdout",
     "output_type": "stream",
     "text": [
      "Error: The module 'port' does not exist.\n"
     ]
    }
   ],
   "source": [
    "### Assignment 5: Handling Import Errors\n",
    "#Write code that attempts to import a non-existent module and gracefully\n",
    "# handles the import error by printing an error message.\n",
    "try:\n",
    "    import port  # Attempting to import a non-existent module\n",
    "except ImportError:\n",
    "    print(\"Error: The module 'port' does not exist.\")\n",
    "\n",
    "    "
   ]
  },
  {
   "cell_type": "code",
   "execution_count": 5,
   "id": "e80d75f8",
   "metadata": {},
   "outputs": [
    {
     "name": "stdout",
     "output_type": "stream",
     "text": [
      "Directory 'test_dir' created.\n",
      "Current directory contents: ['.git', 'advancefunctions.ipynb', 'assignments.ipynb', 'assignment_question.ipynb', 'dictionaries_assignment.ipynb', 'function.ipynb', 'list_Assignment.ipynb', 'packagesquestion.ipynb', 'sets_assignment.ipynb', 'test_dir', 'tuple_assignment.ipynb']\n",
      "Directory 'test_dir' removed.\n"
     ]
    }
   ],
   "source": [
    "### Assignment 6: Working with the `os` Module\n",
    "\n",
    "#Use the `os` module to create a new directory, \n",
    "# list the contents of the current directory, and remove the newly created directory.\n",
    "import os \n",
    "new_directory = \"test_dir\"\n",
    "os.mkdir(new_directory)\n",
    "print(f\"Directory '{new_directory}' created.\")  \n",
    "print(\"Current directory contents:\", os.listdir())  \n",
    "os.rmdir(new_directory)  \n",
    "print(f\"Directory '{new_directory}' removed.\")  \n"
   ]
  },
  {
   "cell_type": "code",
   "execution_count": 7,
   "id": "3b140498",
   "metadata": {},
   "outputs": [
    {
     "name": "stdout",
     "output_type": "stream",
     "text": [
      "Python version: 3.12.4 | packaged by Anaconda, Inc. | (main, Jun 18 2024, 15:03:56) [MSC v.1929 64 bit (AMD64)]\n",
      "command-line arguements: ['c:\\\\Users\\\\akanksha meshram\\\\anaconda3\\\\Lib\\\\site-packages\\\\ipykernel_launcher.py', '--f=\"c:\\\\Users\\\\akanksha meshram\\\\AppData\\\\Roaming\\\\jupyter\\\\runtime\\\\kernel-v30bbb2d7790b08db69271c0b5197e5122c839bcf2.json\"']\n"
     ]
    }
   ],
   "source": [
    "### Assignment 7: Working with the `sys` Module\n",
    "\n",
    "#Use the `sys` module to print the Python version currently in use and the \n",
    "# command-line arguments passed to the script.\n",
    "\n",
    "import sys\n",
    "print(\"Python version:\",sys.version)\n",
    "print(\"command-line arguements:\",sys.argv)"
   ]
  },
  {
   "cell_type": "code",
   "execution_count": 16,
   "id": "18739654",
   "metadata": {},
   "outputs": [
    {
     "name": "stdout",
     "output_type": "stream",
     "text": [
      "2025-01-31\n",
      "2025-05-11\n",
      "2025-01-10\n"
     ]
    }
   ],
   "source": [
    "### Assignment 9: Working with the `datetime` Module\n",
    "#Use the `datetime` module to print the current date, calculate the date \n",
    "# 100 days from today, and determine the day of the week for a given date.\n",
    "\n",
    "import datetime\n",
    "\n",
    "date = datetime.date.today()\n",
    "print(date)\n",
    "\n",
    "upcoming= date + datetime.timedelta(days=100)\n",
    "print(upcoming)\n",
    "\n",
    "given_data = datetime.date(2025,1,10)\n",
    "print(given_data)"
   ]
  },
  {
   "cell_type": "code",
   "execution_count": 1,
   "id": "ef87860b",
   "metadata": {},
   "outputs": [
    {
     "name": "stdout",
     "output_type": "stream",
     "text": [
      "[15, 45, 16, 9, 20]\n",
      "[45, 9, 15, 20, 16]\n"
     ]
    }
   ],
   "source": [
    "### Assignment 10: Working with the `random` Module\n",
    "\n",
    "#Use the `random` module to generate a list of 5 random numbers between 1 and 50 \n",
    "# and shuffle the elements of a list.\n",
    "\n",
    "import random\n",
    "lst =[]\n",
    "for i in range(5):\n",
    "    lst.append(random.randint(1,50))\n",
    "print(lst)\n",
    "random.shuffle(lst)\n",
    "print(lst)"
   ]
  },
  {
   "cell_type": "code",
   "execution_count": 1,
   "id": "15ee7d84",
   "metadata": {},
   "outputs": [
    {
     "name": "stdout",
     "output_type": "stream",
     "text": [
      "sum 7\n",
      "product 10\n"
     ]
    }
   ],
   "source": [
    "### Assignment 11: Creating a Simple Package\n",
    "#Create a package named `mypackage` with two modules: `module1` and `module2`. \n",
    "# `module1` should contain a function that adds two numbers, and `module2` should contain a function \n",
    "# that multiplies two numbers. Write code to use these functions.\n",
    "\n",
    "### Assignment 12: Using `__init__.py`\n",
    "\n",
    "#Modify the `mypackage` package to include an `__init__.py` file that \n",
    "# imports the functions from `module1` and `module2`.\n",
    "#  Write code to use these functions.\n",
    "\n",
    "### Assignment 13: Importing from a Package\n",
    "\n",
    "#Write code to import and use the functions from `mypackage` \n",
    "# without explicitly importing `module1` and `module2`.\n",
    "\n",
    "\n",
    "from mypackage import module1,module2\n",
    "from mypackage import add_numbers, multiply_numbers\n",
    "\n",
    "sum = module1.addition_num(5,2)\n",
    "product = module2.multiply_num(5,2)\n",
    "print(\"sum\",sum)\n",
    "print(\"product\",product)\n"
   ]
  }
 ],
 "metadata": {
  "kernelspec": {
   "display_name": "base",
   "language": "python",
   "name": "python3"
  },
  "language_info": {
   "codemirror_mode": {
    "name": "ipython",
    "version": 3
   },
   "file_extension": ".py",
   "mimetype": "text/x-python",
   "name": "python",
   "nbconvert_exporter": "python",
   "pygments_lexer": "ipython3",
   "version": "3.12.4"
  }
 },
 "nbformat": 4,
 "nbformat_minor": 5
}
