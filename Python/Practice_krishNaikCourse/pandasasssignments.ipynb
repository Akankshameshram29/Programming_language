{
 "cells": [
  {
   "cell_type": "markdown",
   "metadata": {},
   "source": [
    "# Module: Pandas Assignments\n",
    "## Lesson: Pandas\n",
    "### Assignment 1: DataFrame Creation and Indexing\n",
    "\n",
    "1. Create a Pandas DataFrame with 4 columns and 6 rows filled with random integers. Set the index to be the first column.\n",
    "2. Create a Pandas DataFrame with columns 'A', 'B', 'C' and index 'X', 'Y', 'Z'. Fill the DataFrame with random integers and access the element at row 'Y' and column 'B'.\n",
    "\n",
    "### Assignment 2: DataFrame Operations\n",
    "\n",
    "1. Create a Pandas DataFrame with 3 columns and 5 rows filled with random integers. Add a new column that is the product of the first two columns.\n",
    "2. Create a Pandas DataFrame with 3 columns and 4 rows filled with random integers. Compute the row-wise and column-wise sum.\n",
    "\n",
    "### Assignment 3: Data Cleaning\n",
    "\n",
    "1. Create a Pandas DataFrame with 3 columns and 5 rows filled with random integers. Introduce some NaN values. Fill the NaN values with the mean of the respective columns.\n",
    "2. Create a Pandas DataFrame with 4 columns and 6 rows filled with random integers. Introduce some NaN values. Drop the rows with any NaN values.\n",
    "\n",
    "### Assignment 4: Data Aggregation\n",
    "\n",
    "1. Create a Pandas DataFrame with 2 columns: 'Category' and 'Value'. Fill the 'Category' column with random categories ('A', 'B', 'C') and the 'Value' column with random integers. Group the DataFrame by 'Category' and compute the sum and mean of 'Value' for each category.\n",
    "2. Create a Pandas DataFrame with 3 columns: 'Product', 'Category', and 'Sales'. Fill the DataFrame with random data. Group the DataFrame by 'Category' and compute the total sales for each category.\n",
    "\n",
    "### Assignment 5: Merging DataFrames\n",
    "\n",
    "1. Create two Pandas DataFrames with a common column. Merge the DataFrames using the common column.\n",
    "2. Create two Pandas DataFrames with different columns. Concatenate the DataFrames along the rows and along the columns.\n",
    "\n",
    "### Assignment 6: Time Series Analysis\n",
    "\n",
    "1. Create a Pandas DataFrame with a datetime index and one column filled with random integers. Resample the DataFrame to compute the monthly mean of the values.\n",
    "2. Create a Pandas DataFrame with a datetime index ranging from '2021-01-01' to '2021-12-31' and one column filled with random integers. Compute the rolling mean with a window of 7 days.\n",
    "\n",
    "### Assignment 7: MultiIndex DataFrame\n",
    "\n",
    "1. Create a Pandas DataFrame with a MultiIndex (hierarchical index). Perform some basic indexing and slicing operations on the MultiIndex DataFrame.\n",
    "2. Create a Pandas DataFrame with MultiIndex consisting of 'Category' and 'SubCategory'. Fill the DataFrame with random data and compute the sum of values for each 'Category' and 'SubCategory'.\n",
    "\n",
    "### Assignment 8: Pivot Tables\n",
    "\n",
    "1. Create a Pandas DataFrame with columns 'Date', 'Category', and 'Value'. Create a pivot table to compute the sum of 'Value' for each 'Category' by 'Date'.\n",
    "2. Create a Pandas DataFrame with columns 'Year', 'Quarter', and 'Revenue'. Create a pivot table to compute the mean 'Revenue' for each 'Quarter' by 'Year'.\n",
    "\n",
    "### Assignment 9: Applying Functions\n",
    "\n",
    "1. Create a Pandas DataFrame with 3 columns and 5 rows filled with random integers. Apply a function that doubles the values of the DataFrame.\n",
    "2. Create a Pandas DataFrame with 3 columns and 6 rows filled with random integers. Apply a lambda function to create a new column that is the sum of the existing columns.\n",
    "\n",
    "### Assignment 10: Working with Text Data\n",
    "\n",
    "1. Create a Pandas Series with 5 random text strings. Convert all the strings to uppercase.\n",
    "2. Create a Pandas Series with 5 random text strings. Extract the first three characters of each string.\n"
   ]
  },
  {
   "cell_type": "code",
   "execution_count": null,
   "metadata": {},
   "outputs": [],
   "source": [
    "### Assignment 1: DataFrame Creation and Indexing\n",
    "#1. Create a Pandas DataFrame with 4 columns and 6 rows filled with random integers. Set the index to be the first column.\n",
    "import numpy as np\n",
    "import pandas as pd\n",
    "\n",
    "df = pd.DataFrame(np.random.randint(1, 100, size=(6, 4)), columns=['A','B','C','D'])\n",
    "print(\"original dataframe:\")\n",
    "print(df)\n",
    "\n",
    "df.set_index('A',inplace=True)\n",
    "print(\"DataFrame with new index:\")\n",
    "print(df)"
   ]
  },
  {
   "cell_type": "code",
   "execution_count": null,
   "id": "7bea8c37",
   "metadata": {},
   "outputs": [
    {
     "name": "stdout",
     "output_type": "stream",
     "text": [
      "    A   B   C\n",
      "X  39  63  26\n",
      "Y  60   1  72\n",
      "Z  80  60  49\n",
      "element at row y and column B 1\n"
     ]
    }
   ],
   "source": [
    "### Assignment 1: DataFrame Creation and Indexing\n",
    "#2. Create a Pandas DataFrame with columns 'A', 'B', 'C' and index 'X', 'Y', 'Z'. Fill the DataFrame with random integers and access the element at row 'Y' and column 'B'.\n",
    "\n",
    "df = pd.DataFrame(np.random.randint(1,100,size=(3,3)),columns=['A','B','C'],index=['X','Y','Z'])\n",
    "print(df)\n",
    "print(\"element at row y and column B\",df.at['Y','B'])"
   ]
  },
  {
   "cell_type": "code",
   "execution_count": null,
   "id": "3b001f6b",
   "metadata": {},
   "outputs": [],
   "source": [
    "## Assignment 2: DataFrame Operations\n",
    "#1. Create a Pandas DataFrame with 3 columns and 5 rows filled with random integers. Add a new column that is the product of the first two columns.\n",
    "\n",
    "df = pd.DataFrame(np.random.randint(1,100,size=(5,3)),columns=['A','B','C'])\n",
    "print(df)\n",
    "df['D'] = df['A']*df['B']\n",
    "print(\"after adding a new column\",df)"
   ]
  },
  {
   "cell_type": "code",
   "execution_count": null,
   "id": "a13d3ad5",
   "metadata": {},
   "outputs": [],
   "source": [
    "## Assignment 2: DataFrame Operations\n",
    "#2. Create a Pandas DataFrame with 3 columns and 4 rows filled with random integers. Compute the row-wise and column-wise sum.\n",
    "df = pd.DataFrame(np.random.randint(1,100,size=(5,3)),columns=['A','B','C'])\n",
    "print(df)\n",
    "row_wise = df.sum(axis=1)\n",
    "col_wise = df.sum(axis=0)\n",
    "print(\"row wise sum of the data frame\",row_wise)\n",
    "print(\"column wise sum of the data frame\",col_wise)"
   ]
  },
  {
   "cell_type": "code",
   "execution_count": null,
   "id": "dcb2c0a1",
   "metadata": {},
   "outputs": [],
   "source": [
    "### Assignment 3: Data Cleaning\n",
    "#1. Create a Pandas DataFrame with 3 columns and 5 rows filled with random integers. Introduce some NaN values. Fill the NaN values with the mean of the respective columns.\n",
    "df = pd.DataFrame(np.random.randint(1, 100, size=(5, 3)), columns=['A', 'B', 'C'])\n",
    "print(\"Original DataFrame:\")\n",
    "print(df)\n",
    "\n",
    "df.iloc[0, 2] = np.nan\n",
    "df.iloc[2, 1] = np.nan\n",
    "df.iloc[4, 0] = np.nan\n",
    "df.iloc[3, 2] = np.nan\n",
    "df.iloc[2, 2] = np.nan\n",
    "print(\"dataframe with NaN value\",df)\n",
    "\n",
    "df.fillna(df.mean(),inplace=True)\n",
    "print(\"dataframe after replacing with mean of columns\",df)"
   ]
  },
  {
   "cell_type": "code",
   "execution_count": null,
   "id": "700507d0",
   "metadata": {},
   "outputs": [],
   "source": [
    "## Assignment 3: Data Cleaning\n",
    "#2. Create a Pandas DataFrame with 4 columns and 6 rows filled with random integers. Introduce some NaN values. Drop the rows with any NaN values.\n",
    "\n",
    "df = pd.DataFrame(np.random.randint(1, 100, size=(6, 4)), columns=['A', 'B', 'C','D'])\n",
    "print(\"original Dataframe\",df)\n",
    "\n",
    "df.iloc[0,1] = np.nan\n",
    "df.iloc[2,2] = np.nan\n",
    "df.iloc[4,0] = np.nan \n",
    "print(\"dataframe with nan values\",df)\n",
    "df.dropna(axis=0,inplace= True)\n",
    "print(\"Aftering dropping the rows with nan values\",df)"
   ]
  },
  {
   "cell_type": "code",
   "execution_count": null,
   "id": "5a45bf19",
   "metadata": {},
   "outputs": [],
   "source": [
    "### Assignment 4: Data Aggregation\n",
    "#1. Create a Pandas DataFrame with 2 columns: 'Category' and 'Value'. Fill the 'Category' \n",
    "# column with random categories ('A', 'B', 'C') and the 'Value' column with random integers.\n",
    "#  Group the DataFrame by 'Category' and compute the sum and mean of 'Value' for each category.\n",
    "df = pd.DataFrame({'Category': np.random.choice(['A', 'B', 'C'], size=10), 'Value': np.random.randint(1, 100, size=10)})\n",
    "print(\"Original DataFrame:\")\n",
    "print(df)\n",
    "\n",
    "sum_mean =df.groupby('Category')['Value'].agg(['sum', 'mean'])\n",
    "print(\"Grouped DataFrame:\")\n",
    "print(sum_mean)"
   ]
  },
  {
   "cell_type": "code",
   "execution_count": null,
   "id": "0712445a",
   "metadata": {},
   "outputs": [],
   "source": [
    "#Assignment 4: Data Aggregation\n",
    "# 2. Create a Pandas DataFrame with 3 columns: 'Product', 'Category', and 'Sales'. \n",
    "# Fill the DataFrame with random data. \n",
    "# Group the DataFrame by 'Category' and compute the total sales for each category.\n",
    "\n",
    "df = pd.DataFrame({'Product': np.random.choice(['Prod1', 'Prod2', 'Prod3'], size=10), 'Category': np.random.choice(['A', 'B', 'C'], size=10), 'Sales': np.random.randint(1, 100, size=10)})\n",
    "print(\"Original DataFrame:\")\n",
    "print(df)\n",
    "\n",
    "total_sales = df.groupby('Category')['Sales'].sum()\n",
    "print(\"total sales\",total_sales)"
   ]
  },
  {
   "cell_type": "code",
   "execution_count": null,
   "id": "24260f66",
   "metadata": {},
   "outputs": [],
   "source": [
    "### Assignment 5: Merging DataFrames\n",
    "#1. Create two Pandas DataFrames with a common column. Merge the DataFrames using the common column.\n",
    "df1 = pd.DataFrame({'rollno':[1,2,3,4,5,6,7,8,9,10],'marks':np.random.randint(1,100,size=10)})\n",
    "print(\"first dataframe\",df1)\n",
    "df2 = pd.DataFrame({'rollno':[1,2,3,4,5,6,7,8,9,10],'age':np.random.randint(15,20,size=10)})\n",
    "print(\"Second Dataframe\",df2)\n",
    "\n",
    "df3 = pd.merge(df1,df2,on='rollno')\n",
    "print(\"final dataframe after merging two dataframe\",df3)\n",
    "\n"
   ]
  },
  {
   "cell_type": "code",
   "execution_count": null,
   "id": "f2881890",
   "metadata": {},
   "outputs": [],
   "source": [
    "### Assignment 5: Merging DataFrames\n",
    "#2. Create two Pandas DataFrames with different columns. Concatenate the DataFrames along the rows and along the columns.\n",
    "df1 = pd.DataFrame({'A': np.random.randint(1, 100, size=3), 'B': np.random.randint(1, 100, size=3)})\n",
    "df2 = pd.DataFrame({'C': np.random.randint(1, 100, size=3), 'D': np.random.randint(1, 100, size=3)})\n",
    "print(\"first dataframe\")\n",
    "print(df1)\n",
    "print(\"second dataframe\")\n",
    "print(df2)\n",
    "\n",
    "concat_rows = pd.concat([df1, df2], axis=0)\n",
    "print(\"Concatenated DataFrame (rows):\")\n",
    "print(concat_rows)\n",
    "\n",
    "concat_columns = pd.concat([df1, df2], axis=1)\n",
    "print(\"Concatenated DataFrame (columns):\")\n",
    "print(concat_columns)\n"
   ]
  },
  {
   "cell_type": "code",
   "execution_count": null,
   "id": "4a545d65",
   "metadata": {},
   "outputs": [],
   "source": [
    "### Assignment 6: Time Series Analysis\n",
    "#1. Create a Pandas DataFrame with a datetime index and one column filled with random integers. Resample the DataFrame to compute the monthly mean of the values.\n",
    "date_rng = pd.date_range(start='2024-01-01', end='2024-12-31', freq='D')\n",
    "df = pd.DataFrame(date_rng, columns=['date'])\n",
    "df['data'] = np.random.randint(0, 100, size=(len(date_rng)))\n",
    "df.set_index('date', inplace=True)\n",
    "print(\"Original DataFrame:\")\n",
    "print(df)\n",
    "\n",
    "monthly_mean = df.resample('ME').mean()\n",
    "print(\"monthly mean of the values\",monthly_mean)"
   ]
  },
  {
   "cell_type": "code",
   "execution_count": null,
   "id": "76dcb090",
   "metadata": {},
   "outputs": [],
   "source": [
    "## Assignment 6: Time Series Analysis\n",
    "#2. Create a Pandas DataFrame with a datetime index ranging from '2021-01-01' to '2021-12-31'\n",
    "#  and one column filled with random integers. Compute the rolling mean with a window of 7 days.\n",
    "date_rng = pd.date_range(start='2021-01-01', end='2021-12-31', freq='D')\n",
    "df = pd.DataFrame(date_rng, columns=['date'])\n",
    "df['data'] = np.random.randint(0, 100, size=(len(date_rng)))\n",
    "df.set_index('date', inplace=True)\n",
    "print(\"Original DataFrame:\")\n",
    "print(df)\n",
    "\n",
    "rolling_mean = df.rolling(window=7).mean()\n",
    "print(\"Rolling mean DataFrame:\")\n",
    "print(rolling_mean)\n"
   ]
  },
  {
   "cell_type": "code",
   "execution_count": null,
   "id": "64db1816",
   "metadata": {},
   "outputs": [],
   "source": [
    "### Assignment 7: MultiIndex DataFrame\n",
    "#1. Create a Pandas DataFrame with a MultiIndex (hierarchical index). Perform some basic indexing and slicing operations on the MultiIndex DataFrame.\n",
    "arrays = [['A', 'A', 'B', 'B'], ['one', 'two', 'one', 'two']]\n",
    "index = pd.MultiIndex.from_arrays(arrays, names=('Category', 'SubCategory'))\n",
    "df = pd.DataFrame(np.random.randint(1, 100, size=(4, 3)), index=index, columns=['Value1', 'Value2', 'Value3'])\n",
    "print(\"MultiIndex DataFrame:\")\n",
    "print(df)\n",
    "print(\"Indexing at Category 'A':\")\n",
    "print(df.loc['A'])\n",
    "\n",
    "print(\"Slicing at Category 'B' and SubCategory 'two':\")\n",
    "print(df.loc[('B', 'two')])"
   ]
  },
  {
   "cell_type": "code",
   "execution_count": null,
   "id": "6ccf8f55",
   "metadata": {},
   "outputs": [],
   "source": [
    "#Assignment 7: MultiIndex DataFrame\n",
    "#2. Create a Pandas DataFrame with MultiIndex consisting of 'Category' and 'SubCategory'.\n",
    "#  Fill the DataFrame with random data and compute the sum of values for each 'Category' and 'SubCategory'.\n",
    "arrays = [['A', 'A', 'B', 'B', 'C', 'C'], ['one', 'two', 'one', 'two', 'one', 'two']]\n",
    "index = pd.MultiIndex.from_arrays(arrays, names=('Category', 'SubCategory'))\n",
    "df = pd.DataFrame(np.random.randint(1, 100, size=(6, 3)), index=index, columns=['Value1', 'Value2', 'Value3'])\n",
    "print(\"MultiIndex DataFrame:\")\n",
    "print(df)\n",
    "\n",
    "# Compute the sum of values for each 'Category' and 'SubCategory'\n",
    "sum_values = df.groupby(['Category', 'SubCategory']).sum()\n",
    "print(\"Sum of values:\")\n",
    "print(sum_values)"
   ]
  },
  {
   "cell_type": "code",
   "execution_count": null,
   "id": "85343b9b",
   "metadata": {},
   "outputs": [],
   "source": [
    "### Assignment 8: Pivot Tables\n",
    "#1. Create a Pandas DataFrame with columns 'Date', 'Category', and 'Value'. Create a pivot table to compute the sum of 'Value' for each 'Category' by 'Date'.\n",
    "date_rng = pd.date_range(start='2022-01-01', end='2022-01-10', freq='D')\n",
    "df = pd.DataFrame({'Date': np.random.choice(date_rng, size=20), 'Category': np.random.choice(['A', 'B', 'C'], size=20), 'Value': np.random.randint(1, 100, size=20)})\n",
    "print(\"Original DataFrame:\")\n",
    "print(df)\n",
    "\n",
    "pivot_table = df.pivot_table(values='Value',index='Date',columns='Category', aggfunc='sum')\n",
    "print(\"pivot table for value\",pivot_table)"
   ]
  },
  {
   "cell_type": "code",
   "execution_count": null,
   "id": "18ac12a1",
   "metadata": {},
   "outputs": [],
   "source": [
    "### Assignment 8: Pivot Tables\n",
    "#2. Create a Pandas DataFrame with columns 'Year', 'Quarter', and 'Revenue'. Create a pivot table to compute the mean 'Revenue' for each 'Quarter' by 'Year'.\n",
    "df = pd.DataFrame({'Year': np.random.choice([2020, 2021, 2022], size=12), 'Quarter': np.random.choice(['Q1', 'Q2', 'Q3', 'Q4'], size=12), 'Revenue': np.random.randint(1, 1000, size=12)})\n",
    "print(\"Original DataFrame:\")\n",
    "print(df)\n",
    "\n",
    "pivot_table = df.pivot_table(values='Revenue',index='Year', columns='Quarter',aggfunc='mean')\n",
    "print(pivot_table)"
   ]
  },
  {
   "cell_type": "code",
   "execution_count": null,
   "id": "aef3dae1",
   "metadata": {},
   "outputs": [],
   "source": [
    "### Assignment 9: Applying Functions\n",
    "\n",
    "#1. Create a Pandas DataFrame with 3 columns and 5 rows filled with random integers. Apply a function that doubles the values of the DataFrame.\n",
    "df = pd.DataFrame(np.random.randint(1,100,size=(5,3)),columns=['A','B','C'])\n",
    "print(\"original df\",df)\n",
    "\n",
    "double = df.map(lambda x:x**2)\n",
    "print(\"Dataframe with doubled values\",double)"
   ]
  },
  {
   "cell_type": "code",
   "execution_count": null,
   "id": "a8f02895",
   "metadata": {},
   "outputs": [],
   "source": [
    "# Assignment 9: Applying Functions\n",
    "# 2. Create a Pandas DataFrame with 3 columns and 6 rows filled with random integers. Apply a lambda function to create a new column that is the sum of the existing columns.\n",
    "df = pd.DataFrame(np.random.randint(1,100,size=(6,3)),columns=['A','B','C'])\n",
    "print(\"original df\",df)\n",
    "\n",
    "df['sum'] = df.apply(lambda row:row.sum(),axis =1)\n",
    "print(\"after creating a new column with values of existing columns\",df)\n"
   ]
  },
  {
   "cell_type": "code",
   "execution_count": null,
   "id": "060ddd2b",
   "metadata": {},
   "outputs": [],
   "source": [
    "### Assignment 10: Working with Text Data\n",
    "#1. Create a Pandas Series with 5 random text strings. Convert all the strings to uppercase.\n",
    "text = pd.Series(['one','two','three','four','five'])\n",
    "print(\"original series\",text)\n",
    "\n",
    "upper_data = text.str.upper()\n",
    "print(\"After converting the text string to uppercase\",upper_data)"
   ]
  },
  {
   "cell_type": "code",
   "execution_count": null,
   "id": "60162d6e",
   "metadata": {},
   "outputs": [],
   "source": [
    "### Assignment 10: Working with Text Data\n",
    "#2. Create a Pandas Series with 5 random text strings. Extract the first three characters of each string.\n",
    "\n",
    "text = pd.Series(['python','Java','C++','SQL','Ruby'])\n",
    "print(\"original series\",text)\n",
    "\n",
    "first_three = text.str[:3]\n",
    "print(\"first three character of each string in series\",first_three)"
   ]
  }
 ],
 "metadata": {
  "kernelspec": {
   "display_name": "base",
   "language": "python",
   "name": "python3"
  },
  "language_info": {
   "codemirror_mode": {
    "name": "ipython",
    "version": 3
   },
   "file_extension": ".py",
   "mimetype": "text/x-python",
   "name": "python",
   "nbconvert_exporter": "python",
   "pygments_lexer": "ipython3",
   "version": "3.12.4"
  }
 },
 "nbformat": 4,
 "nbformat_minor": 5
}
