{
 "cells": [
  {
   "cell_type": "markdown",
   "metadata": {},
   "source": [
    "# Module: Classes and Objects Assignments\n",
    "## Lesson: Creating and Working with Classes and Objects\n",
    "### Assignment 1: Basic Class and Object Creation\n",
    "\n",
    "Create a class named `Car` with attributes `make`, `model`, and `year`. Create an object of the class and print its attributes.\n",
    "\n",
    "### Assignment 2: Methods in Class\n",
    "\n",
    "Add a method named `start_engine` to the `Car` class that prints a message when the engine starts. Create an object of the class and call the method.\n",
    "\n",
    "### Assignment 3: Class with Constructor\n",
    "\n",
    "Create a class named `Student` with attributes `name` and `age`. Use a constructor to initialize these attributes. Create an object of the class and print its attributes.\n",
    "\n",
    "### Assignment 4: Class with Private Attributes\n",
    "\n",
    "Create a class named `BankAccount` with private attributes `account_number` and `balance`. Add methods to deposit and withdraw money, and to check the balance. Create an object of the class and perform some operations.\n",
    "\n",
    "### Assignment 5: Class Inheritance\n",
    "\n",
    "Create a base class named `Person` with attributes `name` and `age`. Create a derived class named `Employee` that inherits from `Person` and adds an attribute `employee_id`. Create an object of the derived class and print its attributes.\n",
    "\n",
    "### Assignment 6: Method Overriding\n",
    "\n",
    "In the `Employee` class, override the `__str__` method to return a string representation of the object. Create an object of the class and print it.\n",
    "\n",
    "### Assignment 7: Class Composition\n",
    "\n",
    "Create a class named `Address` with attributes `street`, `city`, and `zipcode`. Create a class named `Person` that has an `Address` object as an attribute. Create an object of the `Person` class and print its address.\n",
    "\n",
    "### Assignment 8: Class with Class Variables\n",
    "\n",
    "Create a class named `Counter` with a class variable `count`. Each time an object is created, increment the count. Add a method to get the current count. Create multiple objects and print the count.\n",
    "\n",
    "### Assignment 9: Static Methods\n",
    "\n",
    "Create a class named `MathOperations` with a static method to calculate the square root of a number. Call the static method without creating an object.\n",
    "\n",
    "### Assignment 10: Class with Properties\n",
    "\n",
    "Create a class named `Rectangle` with private attributes `length` and `width`. Use properties to get and set these attributes. Create an object of the class and test the properties.\n",
    "\n",
    "### Assignment 11: Abstract Base Class\n",
    "\n",
    "Create an abstract base class named `Shape` with an abstract method `area`. Create derived classes `Circle` and `Square` that implement the `area` method. Create objects of the derived classes and call the `area` method.\n",
    "\n",
    "### Assignment 12: Operator Overloading\n",
    "\n",
    "Create a class named `Vector` with attributes `x` and `y`. Overload the `+` operator to add two `Vector` objects. Create objects of the class and test the operator overloading.\n",
    "\n",
    "### Assignment 13: Class with Custom Exception\n",
    "\n",
    "Create a custom exception named `InsufficientBalanceError`. In the `BankAccount` class, raise this exception when a withdrawal amount is greater than the balance. Handle the exception and print an appropriate message.\n",
    "\n",
    "### Assignment 14: Class with Context Manager\n",
    "\n",
    "Create a class named `FileManager` that implements the context manager protocol to open and close a file. Use this class to read the contents of a file.\n",
    "\n",
    "### Assignment 15: Chaining Methods\n",
    "\n",
    "Create a class named `Calculator` with methods to add, subtract, multiply, and divide. Each method should return the object itself to allow method chaining. Create an object and chain multiple method calls."
   ]
  },
  {
   "cell_type": "code",
   "execution_count": 3,
   "metadata": {},
   "outputs": [
    {
     "name": "stdout",
     "output_type": "stream",
     "text": [
      "m202 tata 2010\n"
     ]
    }
   ],
   "source": [
    "### Assignment 1: Basic Class and Object Creation\n",
    "\n",
    "#Create a class named `Car` with attributes `make`, `model`, and `year`. \n",
    "# Create an object of the class and print its attributes.\n",
    "\n",
    "class Car:\n",
    "    def __init__(self,make,model,year):\n",
    "        self.make = make\n",
    "        self.model = model\n",
    "        self.year = year\n",
    "\n",
    "nano = Car(\"tata\",\"m202\",\"2010\")\n",
    "print(nano.model,nano.make,nano.year)"
   ]
  },
  {
   "cell_type": "code",
   "execution_count": 5,
   "id": "11c8a30e",
   "metadata": {},
   "outputs": [
    {
     "name": "stdout",
     "output_type": "stream",
     "text": [
      "The engine is started\n"
     ]
    }
   ],
   "source": [
    "## Assignment 2: Methods in Class\n",
    "\n",
    "#Add a method named `start_engine` to the `Car` class that prints a \n",
    "# message when the engine starts. Create an object of the class and call the method.\n",
    "class Car:\n",
    "    def __init__(self,make,model,year):\n",
    "        self.make = make\n",
    "        self.model = model\n",
    "        self.year = year\n",
    "    \n",
    "    def start_engine(self):\n",
    "        print(\"The engine is started\")\n",
    "\n",
    "suzuki = Car(\"Maruti\",\"s25\",\"1990\")\n",
    "suzuki.start_engine()"
   ]
  },
  {
   "cell_type": "code",
   "execution_count": 8,
   "id": "5a706c23",
   "metadata": {},
   "outputs": [
    {
     "name": "stdout",
     "output_type": "stream",
     "text": [
      "Akanksha 21\n"
     ]
    }
   ],
   "source": [
    "### Assignment 3: Class with Constructor\n",
    "\n",
    "#Create a class named `Student` with attributes `name` and `age`. \n",
    "# Use a constructor to initialize these attributes.\n",
    "#  Create an object of the class and print its attributes.\n",
    "\n",
    "class Student:\n",
    "    def __init__(self,name,age):\n",
    "        self.name = name\n",
    "        self.age = age\n",
    "\n",
    "s1 = Student(\"Akanksha\",\"21\")\n",
    "print(s1.name,s1.age)"
   ]
  },
  {
   "cell_type": "code",
   "execution_count": 18,
   "id": "495f4b5c",
   "metadata": {},
   "outputs": [
    {
     "name": "stdout",
     "output_type": "stream",
     "text": [
      "the balance after depositing 3000 is 3300\n",
      "the  balance after withdrawing 100 is 3200\n"
     ]
    }
   ],
   "source": [
    "### Assignment 4: Class with Private Attributes\n",
    "\n",
    "#Create a class named `BankAccount` with private attributes `account_number` and `balance`.\n",
    "#  Add methods to deposit and withdraw money, and to check the balance. \n",
    "# Create an object of the class and perform some operations.\n",
    "\n",
    "class BankAccount:\n",
    "    def __init__(self,account_number,balance):\n",
    "        self.__account_number = account_number\n",
    "        self.__balance = balance\n",
    "\n",
    "    def deposit(self,amount):\n",
    "        self.__balance += amount\n",
    "        print(f\"the balance after depositing {amount} is {self.__balance}\")\n",
    "    \n",
    "    def withdraw(self,amount):\n",
    "        if self.__balance < amount:\n",
    "            print(\"INSUFFICIENT BALANCE\")\n",
    "        else:\n",
    "            self.__balance -= amount\n",
    "            print(f\"the  balance after withdrawing {amount} is {self.__balance}\")\n",
    "\n",
    "    def check_balance(self):\n",
    "        print(f'your balance is {self.__balance}')\n",
    "\n",
    "Akanksha = BankAccount(101,300)\n",
    "Akanksha.deposit(3000)\n",
    "Akanksha.withdraw(100)\n"
   ]
  },
  {
   "cell_type": "code",
   "execution_count": 6,
   "id": "701fa62b",
   "metadata": {},
   "outputs": [
    {
     "name": "stdout",
     "output_type": "stream",
     "text": [
      "AKanksha\n"
     ]
    }
   ],
   "source": [
    "### Assignment 5: Class Inheritance\n",
    "\n",
    "#Create a base class named `Person` with attributes `name` and `age`. \n",
    "# Create a derived class named `Employee` that inherits from `Person` and \n",
    "# adds an attribute `employee_id`. Create an object of the derived class and print its attributes.\n",
    "\n",
    "class Person:\n",
    "    def __init__(self,name,age):\n",
    "        self.name = name\n",
    "        self.age = age\n",
    "\n",
    "class Employee(Person):\n",
    "    def __init__(self,name, age, employee_id):\n",
    "        super().__init__(name,age)\n",
    "        self.employee_id  = employee_id\n",
    "\n",
    "emp1 = Employee(\"AKanksha\",21,101)\n",
    "print(emp1.name)\n",
    "\n"
   ]
  },
  {
   "cell_type": "code",
   "execution_count": 10,
   "id": "8445396e",
   "metadata": {},
   "outputs": [
    {
     "name": "stdout",
     "output_type": "stream",
     "text": [
      "Employee(Name:Tanvi,age:16,employee id:102)\n"
     ]
    }
   ],
   "source": [
    "### Assignment 6: Method Overriding\n",
    "\n",
    "#In the `Employee` class, override the `__str__` method to return \n",
    "# a string representation of the object. Create an object of the class and print it.\n",
    "class Employee(Person):\n",
    "    def __init__(self,name, age, employee_id):\n",
    "        super().__init__(name,age)\n",
    "        self.employee_id  = employee_id\n",
    "\n",
    "    def __str__(self):\n",
    "        return f\"Employee(Name:{self.name},age:{self.age},employee id:{self.employee_id})\"\n",
    "\n",
    "emp2 = Employee(\"Tanvi\",16,102)\n",
    "print(emp2)\n"
   ]
  },
  {
   "cell_type": "code",
   "execution_count": 15,
   "id": "e52aa0e8",
   "metadata": {},
   "outputs": [
    {
     "name": "stdout",
     "output_type": "stream",
     "text": [
      "new lane Nagpur 440034\n"
     ]
    }
   ],
   "source": [
    "### Assignment 7: Class Composition\n",
    "\n",
    "#Create a class named `Address` with attributes `street`, `city`, and `zipcode`.\n",
    "#  Create a class named `Person` that has an `Address` object as an attribute.\n",
    "#  Create an object of the `Person` class and print its address.\n",
    "\n",
    "class Address:\n",
    "    def __init__(self,Street,city,zipcode):\n",
    "        self.Street= Street\n",
    "        self.city = city\n",
    "        self.zipcode = zipcode\n",
    "\n",
    "\n",
    "class Person:\n",
    "    def __init__(self,name,age,address):\n",
    "        self.name = name\n",
    "        self.age = age\n",
    "        self.address = address\n",
    "\n",
    "address = Address(\"new lane\",\"Nagpur\",\"440034\")\n",
    "p1 = Person(\"Akanksha\",21,address)\n",
    "print(p1.address.Street,p1.address.city,p1.address.zipcode)"
   ]
  },
  {
   "cell_type": "code",
   "execution_count": 16,
   "id": "55d7f8f4",
   "metadata": {},
   "outputs": [
    {
     "name": "stdout",
     "output_type": "stream",
     "text": [
      "2\n"
     ]
    }
   ],
   "source": [
    "### Assignment 8: Class with Class Variables\n",
    "\n",
    "#Create a class named `Counter` with a class variable `count`. \n",
    "# Each time an object is created, increment the count.\n",
    "#  Add a method to get the current count. Create multiple objects and print the count.\n",
    "\n",
    "class counter:\n",
    "    count = 0\n",
    "    def __init__(self):\n",
    "        counter.count += 1\n",
    "\n",
    "    @classmethod\n",
    "    def get_count(cls):\n",
    "        return cls.count\n",
    "\n",
    "a = counter()\n",
    "b = counter()\n",
    "\n",
    "print(counter.get_count())\n"
   ]
  },
  {
   "cell_type": "code",
   "execution_count": 17,
   "id": "8fc34c80",
   "metadata": {},
   "outputs": [
    {
     "name": "stdout",
     "output_type": "stream",
     "text": [
      "25\n"
     ]
    }
   ],
   "source": [
    "### Assignment 9: Static Methods\n",
    "\n",
    "#Create a class named `MathOperations` with a static method to\n",
    "#  calculate the square root of a number. Call the static method without creating an object.\n",
    "\n",
    "class MathOperations:\n",
    "    @staticmethod\n",
    "    def sqrt(num):\n",
    "        return num**2\n",
    "\n",
    "print(MathOperations.sqrt(5))\n"
   ]
  },
  {
   "cell_type": "code",
   "execution_count": 19,
   "id": "17745f55",
   "metadata": {},
   "outputs": [
    {
     "name": "stdout",
     "output_type": "stream",
     "text": [
      "10\n"
     ]
    }
   ],
   "source": [
    "### Assignment 10: Class with Properties\n",
    "\n",
    "#Create a class named `Rectangle` with private attributes `length` and `width`.\n",
    "#  Use properties to get and set these attributes.\n",
    "#  Create an object of the class and test the properties.\n",
    "\n",
    "class Rectangle:\n",
    "    def __init__(self, length, width):\n",
    "        self.__length = length\n",
    "        self.__width = width\n",
    "\n",
    "    @property\n",
    "    def length(self):\n",
    "        return self.__length\n",
    "\n",
    "    @length.setter\n",
    "    def length(self, length):\n",
    "        self.__length = length\n",
    "\n",
    "    @property\n",
    "    def width(self):\n",
    "        return self.__width\n",
    "\n",
    "    @width.setter\n",
    "    def width(self, width):\n",
    "        self.__width = width\n",
    "\n",
    "rect1 = Rectangle(10,4)\n",
    "print(rect1.length)\n"
   ]
  },
  {
   "cell_type": "code",
   "execution_count": 10,
   "id": "8ebc459f",
   "metadata": {},
   "outputs": [
    {
     "name": "stdout",
     "output_type": "stream",
     "text": [
      "25\n"
     ]
    }
   ],
   "source": [
    "### Assignment 11: Abstract Base Class\n",
    "\n",
    "#Create an abstract base class named `Shape` with an abstract method `area`.\n",
    "# Create derived classes `Circle` and `Square` that implement the `area` method.\n",
    "# Create objects of the derived classes and call the `area` method.\n",
    "from abc import ABC,abstractmethod\n",
    "class Shape(ABC):\n",
    "    @abstractmethod\n",
    "    def area(self):\n",
    "        pass\n",
    "\n",
    "class Circle(Shape):\n",
    "    def __init__(self,radius):\n",
    "        self.radius =radius\n",
    "\n",
    "    def area(self,radius):\n",
    "        return 3.14* self.radius**2\n",
    "\n",
    "class Square(Shape):\n",
    "    def __init__(self,size):\n",
    "        self.size = size\n",
    "\n",
    "    def area(self,size):\n",
    "        return self.size**2\n",
    "\n",
    "\n",
    "print(square1.area(5))\n",
    "\n",
    "\n"
   ]
  },
  {
   "cell_type": "code",
   "execution_count": null,
   "id": "a823ebab",
   "metadata": {},
   "outputs": [
    {
     "name": "stdout",
     "output_type": "stream",
     "text": [
      "you have withdrawn1000,current balance:500\n"
     ]
    }
   ],
   "source": [
    "### Assignment 13: Class with Custom Exception\n",
    "\n",
    "#Create a custom exception named `InsufficientBalanceError`. \n",
    "# In the `BankAccount` class, raise this exception when a withdrawal amount \n",
    "# is greater than the balance. Handle the exception and print an appropriate message.\n",
    "\n",
    "class InsufficientBalanceError(Exception):\n",
    "    pass\n",
    "\n",
    "class BankAccount:\n",
    "    def __init__(self,balance,account_number):\n",
    "        self.__balance= balance\n",
    "        self.__account_number = account_number\n",
    "\n",
    "    def deposit(self,amount):\n",
    "        self.__balance += amount\n",
    "\n",
    "    def withdraw(self, amount):\n",
    "        try:\n",
    "         if amount>self.__balance:\n",
    "            raise InsufficientBalanceError(\"balance is not enough\")\n",
    "         else:\n",
    "           self.__balance -= amount\n",
    "           print(f\"you have withdrawn {amount},current balance:{self.__balance}\")\n",
    "        except InsufficientBalanceError as e:\n",
    "            print(\"error\",e)\n",
    "\n",
    "    def check_balance(self):\n",
    "        return self.__balance\n",
    "\n",
    "account1 = BankAccount(1000,'101')\n",
    "account1.deposit(500)\n",
    "account1.withdraw(1000)\n"
   ]
  },
  {
   "cell_type": "code",
   "execution_count": 23,
   "id": "09eaafb0",
   "metadata": {},
   "outputs": [
    {
     "name": "stdout",
     "output_type": "stream",
     "text": [
      "hi guys\n"
     ]
    }
   ],
   "source": [
    "### Assignment 14: Class with Context Manager\n",
    "\n",
    "#Create a class named `FileManager` that implements \n",
    "# the context manager protocol to open and close a file. \n",
    "# Use this class to read the contents of a file.\n",
    "\n",
    "class FileManager:\n",
    "    def __init__(self,filename,mode):\n",
    "        self.filename = filename\n",
    "        self.mode = mode\n",
    "        self.file = None\n",
    "\n",
    "    def __enter__(self):\n",
    "        self.file = open(self.filename, self.mode)\n",
    "        return self.file\n",
    "    \n",
    "    def __exit__(self,exc_type, exc_value, traceback):\n",
    "        if self.file:\n",
    "            self.file.close()\n",
    "\n",
    "with FileManager('sample.txt', 'r') as file:\n",
    "    content = file.read()\n",
    "    print(content)"
   ]
  },
  {
   "cell_type": "code",
   "execution_count": null,
   "id": "18d99c5b",
   "metadata": {},
   "outputs": [
    {
     "name": "stdout",
     "output_type": "stream",
     "text": [
      "Final Result: 0.0\n"
     ]
    }
   ],
   "source": [
    "### Assignment 15: Chaining Methods\n",
    "\n",
    "#Create a class named `Calculator` with methods to add, subtract, multiply, and divide.\n",
    "# Each method should return the object itself to allow method chaining. \n",
    "# Create an object and chain multiple method calls.\n",
    "\n",
    "class Calculator:\n",
    "    def __init__(self,value=0):\n",
    "        self.value = value\n",
    "\n",
    "\n",
    "    def add(self,amount):\n",
    "        self.value += amount\n",
    "        return self\n",
    "\n",
    "    def subtract(self,amount):\n",
    "        self.value -= amount\n",
    "        return self\n",
    "\n",
    "    def multiply(self,amount):\n",
    "        self.value *= amount\n",
    "        return self\n",
    "\n",
    "    def division(self,amount):\n",
    "        if amount != 0:\n",
    "            self.value /= amount\n",
    "        else:\n",
    "            print(\"Cannot divide by zero!\")\n",
    "        return self\n",
    "\n",
    "num = Calculator()\n",
    "result = num.add().subtract(4).multiply(2).division(9).value\n",
    "print(\"Final Result:\", result)\n",
    "\n"
   ]
  },
  {
   "cell_type": "code",
   "execution_count": 4,
   "id": "c9f7690d",
   "metadata": {},
   "outputs": [
    {
     "name": "stdout",
     "output_type": "stream",
     "text": [
      "Vector(6, 8)\n"
     ]
    }
   ],
   "source": [
    "### Assignment 12: Operator Overloading\n",
    "\n",
    "#Create a class named `Vector` with attributes `x` and `y`.\n",
    "#  Overload the `+` operator to add two `Vector` objects. \n",
    "# Create objects of the class and test the operator overloading.\n",
    "\n",
    "class Vector:\n",
    "    def __init__(self,x,y):\n",
    "        self.x = x\n",
    "        self.y = y\n",
    "\n",
    "    def __add__(self, other):\n",
    "        return Vector(self.x + other.x, self.y + other.y)\n",
    "\n",
    "    def __str__(self):\n",
    "        return f\"Vector({self.x}, {self.y})\"\n",
    "\n",
    "v1 = Vector(2, 3)\n",
    "v2 = Vector(4, 5)\n",
    "v3 = v1 + v2\n",
    "print(v3)  # Vector(6, 8)\n",
    "\n"
   ]
  },
  {
   "cell_type": "code",
   "execution_count": null,
   "id": "455ad692",
   "metadata": {},
   "outputs": [],
   "source": []
  }
 ],
 "metadata": {
  "kernelspec": {
   "display_name": "base",
   "language": "python",
   "name": "python3"
  },
  "language_info": {
   "codemirror_mode": {
    "name": "ipython",
    "version": 3
   },
   "file_extension": ".py",
   "mimetype": "text/x-python",
   "name": "python",
   "nbconvert_exporter": "python",
   "pygments_lexer": "ipython3",
   "version": "3.12.4"
  }
 },
 "nbformat": 4,
 "nbformat_minor": 5
}
