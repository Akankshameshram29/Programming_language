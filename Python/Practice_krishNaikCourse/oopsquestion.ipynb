{
 "cells": [
  {
   "cell_type": "markdown",
   "metadata": {},
   "source": [
    "# Module: OOP Assignments\n",
    "## Lesson: Polymorphism, Abstraction, and Encapsulation\n",
    "### Assignment 1: Polymorphism with Methods\n",
    "\n",
    "Create a base class named `Shape` with a method `area`. Create two derived classes `Circle` and `Square` that override the `area` method. Create a list of `Shape` objects and call the `area` method on each object to demonstrate polymorphism.\n",
    "\n",
    "### Assignment 2: Polymorphism with Function Arguments\n",
    "\n",
    "Create a function named `describe_shape` that takes a `Shape` object as an argument and calls its `area` method. Create objects of `Circle` and `Square` classes and pass them to the `describe_shape` function.\n",
    "\n",
    "### Assignment 3: Abstract Base Class with Abstract Methods\n",
    "\n",
    "Create an abstract base class named `Vehicle` with an abstract method `start_engine`. Create derived classes `Car` and `Bike` that implement the `start_engine` method. Create objects of the derived classes and call the `start_engine` method.\n",
    "\n",
    "### Assignment 4: Abstract Base Class with Concrete Methods\n",
    "\n",
    "In the `Vehicle` class, add a concrete method `fuel_type` that returns a generic fuel type. Override this method in `Car` and `Bike` classes to return specific fuel types. Create objects of the derived classes and call the `fuel_type` method.\n",
    "\n",
    "### Assignment 5: Encapsulation with Private Attributes\n",
    "\n",
    "Create a class named `BankAccount` with private attributes `account_number` and `balance`. Add methods to deposit and withdraw money, and to check the balance. Ensure that the balance cannot be accessed directly.\n",
    "\n",
    "### Assignment 6: Encapsulation with Property Decorators\n",
    "\n",
    "In the `BankAccount` class, use property decorators to get and set the `balance` attribute. Ensure that the balance cannot be set to a negative value.\n",
    "\n",
    "### Assignment 7: Combining Encapsulation and Inheritance\n",
    "\n",
    "Create a base class named `Person` with private attributes `name` and `age`. Add methods to get and set these attributes. Create a derived class named `Student` that adds an attribute `student_id`. Create an object of the `Student` class and test the encapsulation.\n",
    "\n",
    "### Assignment 8: Polymorphism with Inheritance\n",
    "\n",
    "Create a base class named `Animal` with a method `speak`. Create two derived classes `Dog` and `Cat` that override the `speak` method. Create a list of `Animal` objects and call the `speak` method on each object to demonstrate polymorphism.\n",
    "\n",
    "### Assignment 9: Abstract Methods in Base Class\n",
    "\n",
    "Create an abstract base class named `Employee` with an abstract method `calculate_salary`. Create two derived classes `FullTimeEmployee` and `PartTimeEmployee` that implement the `calculate_salary` method. Create objects of the derived classes and call the `calculate_salary` method.\n",
    "\n",
    "### Assignment 10: Encapsulation in Data Classes\n",
    "\n",
    "Create a data class named `Product` with private attributes `product_id`, `name`, and `price`. Add methods to get and set these attributes. Ensure that the price cannot be set to a negative value.\n",
    "\n",
    "### Assignment 11: Polymorphism with Operator Overloading\n",
    "\n",
    "Create a class named `Vector` with attributes `x` and `y`. Overload the `+` operator to add two `Vector` objects. Create objects of the class and test the operator overloading.\n",
    "\n",
    "### Assignment 12: Abstract Properties\n",
    "\n",
    "Create an abstract base class named `Appliance` with an abstract property `power`. Create two derived classes `WashingMachine` and `Refrigerator` that implement the `power` property. Create objects of the derived classes and access the `power` property.\n",
    "\n",
    "### Assignment 13: Encapsulation in Class Hierarchies\n",
    "\n",
    "Create a base class named `Account` with private attributes `account_number` and `balance`. Add methods to get and set these attributes. Create a derived class named `SavingsAccount` that adds an attribute `interest_rate`. Create an object of the `SavingsAccount` class and test the encapsulation.\n",
    "\n",
    "### Assignment 14: Polymorphism with Multiple Inheritance\n",
    "\n",
    "Create a class named `Flyer` with a method `fly`. Create a class named `Swimmer` with a method `swim`. Create a class named `Superhero` that inherits from both `Flyer` and `Swimmer` and overrides both methods. Create an object of the `Superhero` class and call both methods.\n",
    "\n",
    "### Assignment 15: Abstract Methods and Multiple Inheritance\n",
    "\n",
    "Create an abstract base class named `Worker` with an abstract method `work`. Create two derived classes `Engineer` and `Doctor` that implement the `work` method. Create another derived class `Scientist` that inherits from both `Engineer` and `Doctor`. Create an object of the `Scientist` class and call the `work` method."
   ]
  },
  {
   "cell_type": "code",
   "execution_count": 2,
   "metadata": {},
   "outputs": [
    {
     "name": "stdout",
     "output_type": "stream",
     "text": [
      "314.0\n",
      "9\n"
     ]
    }
   ],
   "source": [
    "### Assignment 1: Polymorphism with Methods\n",
    "\n",
    "#Create a base class named `Shape` with a method `area`. \n",
    "# Create two derived classes `Circle` and `Square` that override the `area` method. \n",
    "# Create a list of `Shape` objects and call the `area` method on each object to demonstrate polymorphism.\n",
    "\n",
    "class Shape:\n",
    "    def area(self):\n",
    "        pass\n",
    "\n",
    "class Circle(Shape):\n",
    "    def __init__(self,radius):\n",
    "        self.radius = radius\n",
    "\n",
    "    def area(self):\n",
    "        return 3.14 * self.radius **2\n",
    "\n",
    "class Square(Shape):\n",
    "    def __init__(self,side):\n",
    "        self.side = side\n",
    "\n",
    "    def area(self):\n",
    "        return self.side ** 2\n",
    "\n",
    "\n",
    "shapes = [Circle(10), Square(3)]\n",
    "for shape in shapes:\n",
    "    print(shape.area())\n",
    "\n"
   ]
  },
  {
   "cell_type": "code",
   "execution_count": 6,
   "id": "8c2c5be2",
   "metadata": {},
   "outputs": [
    {
     "name": "stdout",
     "output_type": "stream",
     "text": [
      "the area of the shape is : 314.0\n"
     ]
    }
   ],
   "source": [
    "### Assignment 2: Polymorphism with Function Arguments\n",
    "\n",
    "#Create a function named `describe_shape` that takes a `Shape` \n",
    "# object as an argument and calls its `area` method. Create objects\n",
    "#  of `Circle` and `Square` classes and pass them to the `describe_shape` function.\n",
    "\n",
    "def describe_shape(Shape):\n",
    "    print(f\"the area of the shape is : {Shape.area()}\")\n",
    "\n",
    "describe_shape(Circle(10))\n"
   ]
  },
  {
   "cell_type": "code",
   "execution_count": 2,
   "id": "d9ce632a",
   "metadata": {},
   "outputs": [
    {
     "name": "stdout",
     "output_type": "stream",
     "text": [
      "The car is started\n",
      "Bike is started\n"
     ]
    }
   ],
   "source": [
    "### Assignment 3: Abstract Base Class with Abstract Methods\n",
    "\n",
    "#Create an abstract base class named `Vehicle` with an abstract method `start_engine`. \n",
    "# Create derived classes `Car` and `Bike` that implement the `start_engine` method. \n",
    "# Create objects of the derived classes and call the `start_engine` method.\n",
    "\n",
    "from abc import ABC,abstractmethod\n",
    "\n",
    "class Vehicle(ABC):\n",
    "    @abstractmethod\n",
    "    def start_engine(self):\n",
    "        pass\n",
    "\n",
    "class Car(Vehicle):\n",
    "    def start_engine(self):\n",
    "        print(\"The car is started\")\n",
    "\n",
    "class Bike(Vehicle):\n",
    "    def start_engine(self):\n",
    "        print(\"Bike is started\")\n",
    "\n",
    "Nano = Car()\n",
    "R15 = Bike()\n",
    "Nano.start_engine()\n",
    "R15.start_engine()\n"
   ]
  },
  {
   "cell_type": "code",
   "execution_count": 4,
   "id": "dd468bf2",
   "metadata": {},
   "outputs": [
    {
     "name": "stdout",
     "output_type": "stream",
     "text": [
      "petrol\n",
      "Diesel\n"
     ]
    }
   ],
   "source": [
    "### Assignment 4: Abstract Base Class with Concrete Methods\n",
    "\n",
    "#In the `Vehicle` class, add a concrete method `fuel_type` that\n",
    "#  returns a generic fuel type. Override this method in `Car` and `Bike`\n",
    "#  classes to return specific fuel types. Create objects of the derived \n",
    "# classes and call the `fuel_type` method.\n",
    "\n",
    "\n",
    "class Vehicle(ABC):\n",
    "    def fuel_type(self):\n",
    "        return \"generic fuel\"\n",
    "\n",
    "class Car(Vehicle):\n",
    "    def fuel_type(self):\n",
    "        return \"petrol\"\n",
    "\n",
    "class Bike(Vehicle):\n",
    "    def fuel_type(self):\n",
    "        return \"Diesel\"\n",
    "\n",
    "suzuki = Car()\n",
    "print(suzuki.fuel_type())\n",
    "Honda = Bike()\n",
    "print(Honda.fuel_type())"
   ]
  },
  {
   "cell_type": "code",
   "execution_count": null,
   "id": "7bc89764",
   "metadata": {},
   "outputs": [
    {
     "name": "stdout",
     "output_type": "stream",
     "text": [
      "Insufficient balance!\n"
     ]
    },
    {
     "data": {
      "text/plain": [
       "5500"
      ]
     },
     "execution_count": 8,
     "metadata": {},
     "output_type": "execute_result"
    }
   ],
   "source": [
    "### Assignment 5: Encapsulation with Private Attributes\n",
    "\n",
    "#Create a class named `BankAccount` with private attributes `account_number` \n",
    "# and `balance`. Add methods to deposit and withdraw money, and to check the balance.\n",
    "#  Ensure that the balance cannot be accessed directly.\n",
    "\n",
    "class BankAccount:\n",
    "    def __init__(self, account_number, balance=0):\n",
    "        self.__account_number = account_number\n",
    "        self.__balance = balance\n",
    "\n",
    "    def deposit(self, amount):\n",
    "        self.__balance += amount\n",
    "\n",
    "    def withdraw(self, amount):\n",
    "        if amount > self.__balance:\n",
    "            print(\"Insufficient balance!\")\n",
    "        else:\n",
    "            self.__balance -= amount\n",
    "\n",
    "    def check_balance(self):\n",
    "        return self.__balance\n",
    "\n",
    "Akanksha = BankAccount(\"101\",0)\n",
    "Akanksha.deposit(1000)\n",
    "Akanksha.withdraw(500)\n",
    "Akanksha.deposit(5000)\n",
    "Akanksha.withdraw(7000)\n",
    "Akanksha.check_balance()\n",
    "\n"
   ]
  },
  {
   "cell_type": "code",
   "execution_count": 9,
   "id": "0d07a61f",
   "metadata": {},
   "outputs": [
    {
     "name": "stdout",
     "output_type": "stream",
     "text": [
      "1300\n",
      "Balance cannot be negative!\n"
     ]
    }
   ],
   "source": [
    "### Assignment 6: Encapsulation with Property Decorators\n",
    "\n",
    "#In the `BankAccount` class, use property decorators to get and \n",
    "# set the `balance` attribute. Ensure that the balance cannot be set to a negative value.\n",
    "\n",
    "class BankAccount:\n",
    "    def __init__(self, account_number, balance=0):\n",
    "        self.__account_number = account_number\n",
    "        self.__balance = balance\n",
    "    \n",
    "    @property\n",
    "    def balance(self):\n",
    "        return self.__balance\n",
    "\n",
    "\n",
    "    @balance.setter\n",
    "    def balance(self, amount):\n",
    "        if amount < 0:\n",
    "            print(\"Balance cannot be negative!\")\n",
    "        else:\n",
    "            self.__balance = amount\n",
    "    \n",
    "    def deposit(self, amount):\n",
    "        self.__balance += amount\n",
    "    \n",
    "\n",
    "    def withdraw(self, amount):\n",
    "        if amount > self.__balance:\n",
    "            print(\"Insufficient balance!\")\n",
    "        else:\n",
    "            self.__balance -= amount\n",
    "\n",
    "    def check_balance(self):\n",
    "        return self.__balance\n",
    "\n",
    "account = BankAccount('12345678', 1000)\n",
    "account.deposit(500)\n",
    "account.withdraw(200)\n",
    "print(account.balance)  \n",
    "account.balance = -500"
   ]
  },
  {
   "cell_type": "code",
   "execution_count": 15,
   "id": "1dd99ac7",
   "metadata": {},
   "outputs": [
    {
     "name": "stdout",
     "output_type": "stream",
     "text": [
      "Akanksha 21 101\n"
     ]
    }
   ],
   "source": [
    "### Assignment 7: Combining Encapsulation and Inheritance\n",
    "\n",
    "#Create a base class named `Person` with private attributes `name` and `age`. \n",
    "# Add methods to get and set these attributes. Create a derived class named `Student` \n",
    "# that adds an attribute `student_id`. Create an object of the `Student` class and test the encapsulation.\n",
    "\n",
    "class Person:\n",
    "    def __init__(self,name,age):\n",
    "        self.__name = name\n",
    "        self.__age = age\n",
    "\n",
    "    def get_name(self):\n",
    "        return self.__name\n",
    "\n",
    "    def set_name(self, name):\n",
    "        self.__name = name\n",
    "\n",
    "    def get_age(self):\n",
    "        return self.__age\n",
    "\n",
    "    def set_age(self, age):\n",
    "        self.__age = age\n",
    "\n",
    "class Student(Person):\n",
    "    def __init__(self,name,age,student_id):\n",
    "        super().__init__(name,age)\n",
    "        self.student_id = student_id\n",
    "\n",
    "S1 = Student(\"Akanksha\",21,\"101\")\n",
    "print(S1.get_name(), S1.get_age(), S1.student_id)"
   ]
  },
  {
   "cell_type": "code",
   "execution_count": 18,
   "id": "443a65ff",
   "metadata": {},
   "outputs": [
    {
     "name": "stdout",
     "output_type": "stream",
     "text": [
      "dog barks woof woof..\n",
      "The cat says meow meow..\n"
     ]
    }
   ],
   "source": [
    "### Assignment 8: Polymorphism with Inheritance\n",
    "#Create a base class named `Animal` with a method `speak`. \n",
    "# Create two derived classes `Dog` and `Cat` that override the `speak` method. \n",
    "# Create a list of `Animal` objects and call the `speak` method on each object to demonstrate polymorphism.\n",
    "\n",
    "class Animal:\n",
    "    def speak(self):\n",
    "        pass\n",
    "\n",
    "\n",
    "class Dog(Animal):\n",
    "    def speak(self):\n",
    "        print(\"dog barks woof woof..\")\n",
    "\n",
    "class Cat(Animal):\n",
    "    def speak(self):\n",
    "        print(\"The cat says meow meow..\")\n",
    "\n",
    "Animals = [Dog(),Cat()]\n",
    "for animal in Animals:\n",
    "    animal.speak()"
   ]
  },
  {
   "cell_type": "code",
   "execution_count": 20,
   "id": "c7057c92",
   "metadata": {},
   "outputs": [
    {
     "name": "stdout",
     "output_type": "stream",
     "text": [
      "100000\n",
      "16000\n"
     ]
    }
   ],
   "source": [
    "## Assignment 9: Abstract Methods in Base Class\n",
    "\n",
    "#Create an abstract base class named `Employee` with an abstract method `calculate_salary`.\n",
    "# Create two derived classes `FullTimeEmployee` and `PartTimeEmployee` that implement the `calculate_salary` method.\n",
    "# Create objects of the derived classes and call the `calculate_salary` method.\n",
    "\n",
    "class Employee:\n",
    "    @abstractmethod\n",
    "    def calculate_salary(self):\n",
    "        pass\n",
    "\n",
    "class FullTimeEmployee(Employee):\n",
    "    def __init__(self,salary):\n",
    "        self.salary = salary\n",
    "    def calculate_salary(self):\n",
    "        return self.salary\n",
    "\n",
    "class PartTimeEmployee(Employee):\n",
    "    def __init__(self, hourly_rate, hours_worked):\n",
    "        self.hourly_rate = hourly_rate\n",
    "        self.hours_worked = hours_worked\n",
    "\n",
    "    def calculate_salary(self):\n",
    "        return self.hourly_rate * self.hours_worked\n",
    "\n",
    "\n",
    "full_time = FullTimeEmployee(100000)\n",
    "part_time = PartTimeEmployee(200, 80)\n",
    "print(full_time.calculate_salary())  \n",
    "print(part_time.calculate_salary())  "
   ]
  },
  {
   "cell_type": "code",
   "execution_count": 22,
   "id": "5c2bda8f",
   "metadata": {},
   "outputs": [
    {
     "name": "stdout",
     "output_type": "stream",
     "text": [
      "P001 Laptop 1000\n",
      "Price cannot be negative!\n",
      "P001 Laptop 1500\n"
     ]
    }
   ],
   "source": [
    "### Assignment 10: Encapsulation in Data Classes\n",
    "\n",
    "#Create a data class named `Product` with private attributes `product_id`, \n",
    "# `name`, and `price`. Add methods to get and set these attributes. \n",
    "# Ensure that the price cannot be set to a negative value.\n",
    "\n",
    "class Product:\n",
    "    def __init__(self,product_id,name,price):\n",
    "        self.__product_id = product_id\n",
    "        self.__name = name\n",
    "        self.__price = price\n",
    "\n",
    "    def get_product_id(self):\n",
    "        return self.__product_id\n",
    "\n",
    "    def get_name(self):\n",
    "        return self.__name\n",
    "\n",
    "    def get_price(self):\n",
    "        return self.__price\n",
    "\n",
    "    def set_product_id(self, product_id):\n",
    "        self.__product_id = product_id\n",
    "\n",
    "    def set_name(self, name):\n",
    "        self.__name = name\n",
    "\n",
    "    def set_price(self, price):\n",
    "        if price < 0:\n",
    "            print(\"Price cannot be negative!\")\n",
    "        else:\n",
    "            self.__price = price\n",
    "\n",
    "product = Product('P001', 'Laptop', 1000)\n",
    "print(product.get_product_id(), product.get_name(), product.get_price())\n",
    "product.set_price(-500)  # Price cannot be negative!\n",
    "product.set_price(1500)\n",
    "print(product.get_product_id(), product.get_name(), product.get_price())\n",
    "\n"
   ]
  },
  {
   "cell_type": "code",
   "execution_count": null,
   "id": "8f0f2912",
   "metadata": {},
   "outputs": [
    {
     "name": "stdout",
     "output_type": "stream",
     "text": [
      "Vector(6, 13)\n"
     ]
    }
   ],
   "source": [
    "### Assignment 11: Polymorphism with Operator Overloading\n",
    "\n",
    "#Create a class named `Vector` with attributes `x` and `y`. \n",
    "# Overload the `+` operator to add two `Vector` objects. \n",
    "# Create objects of the class and test the operator overloading.\n",
    "\n",
    "class Vector:\n",
    "    def __init__(self,X,Y):\n",
    "        self.X = X\n",
    "        self.Y = Y\n",
    "    \n",
    "    def __add__(self, other):\n",
    "        return Vector(self.X + other.X, self.Y + other.Y)\n",
    "\n",
    "    def __str__(self):\n",
    "        return f\"Vector({self.X}, {self.Y})\"\n",
    "\n",
    "v1 = Vector(4,8)\n",
    "v2 = Vector(2,5)\n",
    "v3 =v1 + v2\n",
    "print(v3)"
   ]
  },
  {
   "cell_type": "code",
   "execution_count": 27,
   "id": "66f31ae7",
   "metadata": {},
   "outputs": [
    {
     "name": "stdout",
     "output_type": "stream",
     "text": [
      "1000w\n",
      "500w\n"
     ]
    }
   ],
   "source": [
    "## Assignment 12: Abstract Properties\n",
    "\n",
    "#Create an abstract base class named `Appliance` with an abstract property `power`. \n",
    "# Create two derived classes `WashingMachine` and `Refrigerator` that \n",
    "# implement the `power` property. Create objects of the derived classes \n",
    "# and access the `power` property.\n",
    "class Appliance(ABC):\n",
    "    @property\n",
    "    @abstractmethod\n",
    "    def power(self):\n",
    "        pass\n",
    "\n",
    "class WashingMachine(Appliance):\n",
    "    def power(self):\n",
    "        return \"1000w\"\n",
    "\n",
    "class Refrigerator(Appliance):\n",
    "    def power(self):\n",
    "        return \"500w\"\n",
    "\n",
    "c0m = WashingMachine()\n",
    "print(c0m.power())\n",
    "havels = Refrigerator()\n",
    "print(havels.power())"
   ]
  },
  {
   "cell_type": "code",
   "execution_count": 30,
   "id": "e9e9b01c",
   "metadata": {},
   "outputs": [
    {
     "name": "stdout",
     "output_type": "stream",
     "text": [
      "12345678 1000 0.05\n",
      "12345678 1500 0.05\n"
     ]
    }
   ],
   "source": [
    "### Assignment 13: Encapsulation in Class Hierarchies\n",
    "\n",
    "#Create a base class named `Account` with private attributes `account_number` and `balance`. \n",
    "# Add methods to get and set these attributes. \n",
    "# Create a derived class named `SavingsAccount` that adds an attribute `interest_rate`.\n",
    "#  Create an object of the `SavingsAccount` class and test the encapsulation.\n",
    "\n",
    "class Account:\n",
    "    def __init__(self,account_number,balance):\n",
    "        self.__account_number = account_number\n",
    "        self.__balance = balance\n",
    "\n",
    "    def get_account_number(self):\n",
    "        return self.__account_number\n",
    "\n",
    "    def get_balance(self):\n",
    "        return self.__balance\n",
    "\n",
    "    def set_balance(self, balance):\n",
    "        if balance < 0:\n",
    "            print(\"Balance cannot be negative!\")\n",
    "        else:\n",
    "            self.__balance = balance\n",
    "\n",
    "class SavingsAccount(Account):\n",
    "    def __init__(self,account_number,balance,interest_rate):\n",
    "        super().__init__(account_number,balance)\n",
    "        self.interest_rate = interest_rate\n",
    "\n",
    "savings = SavingsAccount('12345678', 1000, 0.05)\n",
    "print(savings.get_account_number(), savings.get_balance(), savings.interest_rate)\n",
    "savings.set_balance(1500)\n",
    "print(savings.get_account_number(), savings.get_balance(), savings.interest_rate)"
   ]
  },
  {
   "cell_type": "code",
   "execution_count": 31,
   "id": "350eac1c",
   "metadata": {},
   "outputs": [
    {
     "name": "stdout",
     "output_type": "stream",
     "text": [
      "Superhero flying...\n",
      "Superhero swimming...\n"
     ]
    }
   ],
   "source": [
    "### Assignment 14: Polymorphism with Multiple Inheritance\n",
    "\n",
    "#Create a class named `Flyer` with a method `fly`.\n",
    "#  Create a class named `Swimmer` with a method `swim`.\n",
    "#  Create a class named `Superhero` that inherits from both \n",
    "# `Flyer` and `Swimmer` and overrides both methods.\n",
    "#  Create an object of the `Superhero` class and call both methods.\n",
    "\n",
    "class Flyer:\n",
    "    def fly(self):\n",
    "        print(\"I can fly\")\n",
    "\n",
    "class Swimmer:\n",
    "    def swim(self):\n",
    "        print(\"I Can swim\")\n",
    "\n",
    "class Superhero(Flyer,Swimmer):\n",
    "    def fly(self):\n",
    "        print(\"Superhero flying...\")\n",
    "\n",
    "    def swim(self):\n",
    "        print(\"Superhero swimming...\")\n",
    "\n",
    "\n",
    "Spiderman = Superhero()\n",
    "Spiderman.fly()\n",
    "Spiderman.swim()\n"
   ]
  },
  {
   "cell_type": "code",
   "execution_count": 32,
   "id": "37180646",
   "metadata": {},
   "outputs": [
    {
     "name": "stdout",
     "output_type": "stream",
     "text": [
      "Engineer works..\n",
      "Doctor works..\n"
     ]
    }
   ],
   "source": [
    "### Assignment 15: Abstract Methods and Multiple Inheritance\n",
    "\n",
    "#Create an abstract base class named `Worker` with an abstract method `work`. \n",
    "# Create two derived classes `Engineer` and `Doctor` that implement the `work` method. \n",
    "# Create another derived class `Scientist` that inherits from both `Engineer` and `Doctor`. \n",
    "# Create an object of the `Scientist` class and call the `work` method.\n",
    "\n",
    "class Worker(ABC):\n",
    "    @abstractmethod\n",
    "    def work(self):\n",
    "        pass\n",
    "\n",
    "class Engineer(Worker):\n",
    "    def work(self):\n",
    "        print(\"Engineer works..\")\n",
    "\n",
    "class Doctor(Worker):\n",
    "    def work(self):\n",
    "        print(\"Doctor works..\")\n",
    "\n",
    "class Scientist(Engineer,Doctor):\n",
    "    def work(self):\n",
    "        Engineer.work(self)\n",
    "        Doctor.work(self)\n",
    "\n",
    "scientist = Scientist()\n",
    "scientist.work()\n"
   ]
  }
 ],
 "metadata": {
  "kernelspec": {
   "display_name": "base",
   "language": "python",
   "name": "python3"
  },
  "language_info": {
   "codemirror_mode": {
    "name": "ipython",
    "version": 3
   },
   "file_extension": ".py",
   "mimetype": "text/x-python",
   "name": "python",
   "nbconvert_exporter": "python",
   "pygments_lexer": "ipython3",
   "version": "3.12.4"
  }
 },
 "nbformat": 4,
 "nbformat_minor": 5
}
