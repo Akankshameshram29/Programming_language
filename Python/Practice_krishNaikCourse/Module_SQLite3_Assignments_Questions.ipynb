{
 "cells": [
  {
   "cell_type": "markdown",
   "id": "964cf61d",
   "metadata": {},
   "source": [
    "\n",
    "### Assignment 1: Creating and Connecting to a Database\n",
    "1. Write a Python function to create a new SQLite3 database named `test.db`.# Module: SQLite3 Assignments\n",
    "2. Write a Python function to create a table named `employees` with columns `id` (integer), `name` (text), `age` (integer), and `department` (text) in the `test.db` database.\n",
    "\n",
    "### Assignment 2: Inserting Data\n",
    "\n",
    "1. Write a Python function to insert a new employee into the `employees` table.\n",
    "2. Insert at least 5 different employees into the `employees` table.\n",
    "\n",
    "### Assignment 3: Querying Data\n",
    "\n",
    "1. Write a Python function to fetch and display all records from the `employees` table.\n",
    "2. Write a Python function to fetch and display all employees from a specific department.\n",
    "\n",
    "### Assignment 4: Updating Data\n",
    "\n",
    "1. Write a Python function to update the department of an employee based on their `id`.\n",
    "2. Update the department of at least 2 employees and display the updated records.\n",
    "\n",
    "### Assignment 5: Deleting Data\n",
    "\n",
    "1. Write a Python function to delete an employee from the `employees` table based on their `id`.\n",
    "2. Delete at least 1 employee and display the remaining records.\n",
    "\n",
    "### Assignment 6: Advanced Queries\n",
    "\n",
    "1. Write a Python function to fetch and display employees older than a certain age.\n",
    "2. Write a Python function to fetch and display employees whose names start with a specific letter.\n",
    "\n",
    "### Assignment 7: Handling Transactions\n",
    "\n",
    "1. Write a Python function to insert multiple employees into the `employees` table in a single transaction. Ensure that if any insertion fails, none of the insertions are committed.\n",
    "2. Write a Python function to update the age of multiple employees in a single transaction. Ensure that if any update fails, none of the updates are committed.\n",
    "\n",
    "### Assignment 8: Creating Relationships\n",
    "\n",
    "1. Create a new table named `departments` with columns `id` (integer) and `name` (text).\n",
    "2. Modify the `employees` table to include a foreign key referencing the `id` column in the `departments` table.\n",
    "3. Write a Python function to insert data into both the `departments` and `employees` tables, ensuring referential integrity.\n",
    "\n",
    "### Assignment 9: Indexing and Optimization\n",
    "\n",
    "1. Create an index on the `name` column of the `employees` table.\n",
    "2. Write a Python function to fetch and display all employees whose names start with a specific letter. Compare the performance with and without the index.\n",
    "\n",
    "### Assignment 10: Backing Up and Restoring Data\n",
    "\n",
    "1. Write a Python function to back up the `test.db` database to a file named `backup.db`.\n",
    "2. Write a Python function to restore the `test.db` database from the `backup.db` file."
   ]
  },
  {
   "cell_type": "code",
   "execution_count": 8,
   "metadata": {},
   "outputs": [
    {
     "name": "stdout",
     "output_type": "stream",
     "text": [
      "New SQLite3 database is created and connected\n"
     ]
    }
   ],
   "source": [
    "\n",
    "#1. Write a Python function to create a new SQLite3 database named `test.db`.\n",
    "import sqlite3 \n",
    "\n",
    "def create_database():\n",
    "    connection = sqlite3.connect('test.db')\n",
    "    connection.close()\n",
    "    print(\"New SQLite3 database is created and connected\")\n",
    "\n",
    "create_database()"
   ]
  },
  {
   "cell_type": "code",
   "execution_count": 2,
   "id": "42f6b0a2",
   "metadata": {},
   "outputs": [
    {
     "name": "stdout",
     "output_type": "stream",
     "text": [
      "employees table created\n"
     ]
    }
   ],
   "source": [
    "### Assignment 1: Creating and Connecting to a Database\n",
    "#2. Write a Python function to create a table named `employees` with columns `id` (integer), \n",
    "# `name` (text), `age` (integer), and `department` (text) in the `test.db` database.\n",
    "def create_table():\n",
    "    connection = sqlite3.connect('test.db')\n",
    "    cursor = connection.cursor()\n",
    "    cursor.execute('''\n",
    "        Create Table if Not Exists employees(\n",
    "        id INTEGER PRIMARY KEY,\n",
    "        name TEXT NOT NULL,\n",
    "        age INTEGER,\n",
    "        department TEXT NOT NULL\n",
    "        )\n",
    "    ''')\n",
    "    connection.commit()\n",
    "    connection.close()\n",
    "    print(\"employees table created\")\n",
    "\n",
    "create_table()"
   ]
  },
  {
   "cell_type": "code",
   "execution_count": null,
   "id": "48479aeb",
   "metadata": {},
   "outputs": [],
   "source": [
    "## Assignment 2: Inserting Data\n",
    "#1. Write a Python function to insert a new employee into the `employees` table.\n",
    "#2. Insert at least 5 different employees into the `employees` table.\n",
    "def insert_table(id, name, age, department):\n",
    "    connection = sqlite3.connect('test.db')\n",
    "    cursor = connection.cursor()\n",
    "    cursor.execute('''\n",
    "           INSERT INTO employees(id,name,age,department)\n",
    "           VALUES(?,?,?,?)\n",
    "\n",
    "    ''',(id, name, age, department))\n",
    "    connection.commit()\n",
    "    connection.close()\n",
    "    print(\"new employee inserted successfully\")\n",
    "\n",
    "insert_table(101,'Akanksha Meshram',21,'AI&DS')\n",
    "insert_table(102,'Anchal',20,'AI&DS')\n",
    "insert_table(116,'krupali',22,'AI&DS')\n",
    "insert_table(110,'kamakshi',20,'AI&DS')\n",
    "insert_table(114,'komal',20,'AI&DS')\n",
    "insert_table(119,'Teena',20,\"IT\")"
   ]
  },
  {
   "cell_type": "code",
   "execution_count": null,
   "id": "41f45682",
   "metadata": {},
   "outputs": [],
   "source": [
    "#### Assignment 3: Querying Data\n",
    "#1. Write a Python function to fetch and display all records from the `employees` table.\n",
    "def fetch_data():\n",
    "    connection = sqlite3.connect('test.db')\n",
    "    cursor = connection.cursor()\n",
    "    cursor.execute('Select * from employees')\n",
    "    records = cursor.fetchall()\n",
    "    connection.close()\n",
    "    for record in records:\n",
    "        print(record)\n",
    "\n",
    "fetch_data()"
   ]
  },
  {
   "cell_type": "code",
   "execution_count": null,
   "id": "8ea84192",
   "metadata": {},
   "outputs": [
    {
     "name": "stdout",
     "output_type": "stream",
     "text": [
      "(101, 'Akanksha Meshram', 21, 'AI&DS')\n",
      "(102, 'Anchal', 20, 'AI&DS')\n",
      "(116, 'krupali', 22, 'AI&DS')\n"
     ]
    }
   ],
   "source": [
    "#### Assignment 3: Querying Data\n",
    "#2. Write a Python function to fetch and display all employees from a specific department.\n",
    "def specific_dataFetch(department):\n",
    "    connection = sqlite3.connect('test.db')\n",
    "    cursor = connection.cursor()\n",
    "    cursor.execute('SELECT * FROM employees WHERE department = ?', (department,))\n",
    "    records = cursor.fetchall()\n",
    "    connection.close()\n",
    "    for record in records:\n",
    "        print(record)\n",
    "\n",
    "specific_dataFetch('AI&DS')"
   ]
  },
  {
   "cell_type": "code",
   "execution_count": null,
   "id": "fa9dc183",
   "metadata": {},
   "outputs": [],
   "source": [
    "### Assignment 4: Updating Data\n",
    "#1. Write a Python function to update the department of an employee based on their `id`.\n",
    "#2. Update the department of at least 2 employees and display the updated records.\n",
    "\n",
    "\n",
    "def update_info(id,department):\n",
    "    connection = sqlite3.connect('test.db')\n",
    "    cursor = connection.cursor()\n",
    "    cursor.execute('''\n",
    "        UPDATE employees\n",
    "        SET department = ?\n",
    "        WHERE id = ?\n",
    "    ''', (id,department))\n",
    "    connection.commit()\n",
    "    connection.close()\n",
    "    print(\"Employee department updated successfully.\")\n",
    "\n",
    "update_info(102,'IT')\n",
    "update_info(116,'CSE')"
   ]
  },
  {
   "cell_type": "code",
   "execution_count": null,
   "id": "da84276b",
   "metadata": {},
   "outputs": [],
   "source": [
    "### Assignment 5: Deleting Data\n",
    "\n",
    "#1. Write a Python function to delete an employee from the `employees` table based on their `id`.\n",
    "#2. Delete at least 1 employee and display the remaining records.\n",
    "def delete(id):\n",
    "    connection = sqlite3.connect('test.db')\n",
    "    cursor = connection.cursor()\n",
    "    cursor.execute('''\n",
    "         Delete from employees \n",
    "         where id = ?\n",
    "    ''',(id,))\n",
    "    connection.commit()\n",
    "    connection.close()\n",
    "    print(\"employee deleted from employees table\")\n",
    "\n",
    "delete(102)\n",
    "fetch_data()\n"
   ]
  },
  {
   "cell_type": "code",
   "execution_count": 11,
   "id": "23746716",
   "metadata": {},
   "outputs": [
    {
     "name": "stdout",
     "output_type": "stream",
     "text": [
      "(101, 'Akanksha Meshram', 21, 'AI&DS')\n",
      "(116, 'krupali', 22, 'AI&DS')\n"
     ]
    }
   ],
   "source": [
    "### Assignment 6: Advanced Queries\n",
    "#1. Write a Python function to fetch and display employees older than a certain age.\n",
    "def fetch_display(age):\n",
    "    connection = sqlite3.connect('test.db')\n",
    "    cursor = connection.cursor()\n",
    "    cursor.execute('select * FROM employees where age > ?', (age,))\n",
    "    records = cursor.fetchall()\n",
    "    connection.close()\n",
    "    for record in records:\n",
    "        print(record)\n",
    "\n",
    "fetch_display(20)"
   ]
  },
  {
   "cell_type": "code",
   "execution_count": 15,
   "id": "fe75c716",
   "metadata": {},
   "outputs": [
    {
     "name": "stdout",
     "output_type": "stream",
     "text": [
      "(101, 'Akanksha Meshram', 21, 'AI&DS')\n",
      "(102, 'Anchal', 20, 'AI&DS')\n"
     ]
    }
   ],
   "source": [
    "### Assignment 6: Advanced Queries\n",
    "#2. Write a Python function to fetch and display employees whose names start with a specific letter.\n",
    "\n",
    "def fetch_nameLetter(letter):\n",
    "    connection = sqlite3.connect('test.db')\n",
    "    cursor = connection.cursor()\n",
    "    cursor.execute('SELECT * FROM employees WHERE name LIKE ?', (letter + '%',))\n",
    "    records = cursor.fetchall()\n",
    "    connection.close()\n",
    "    for record in records:\n",
    "        print(record)\n",
    "\n",
    "fetch_nameLetter('A')\n"
   ]
  },
  {
   "cell_type": "code",
   "execution_count": null,
   "id": "8709b307",
   "metadata": {},
   "outputs": [],
   "source": [
    "### Assignment 7: Handling Transactions\n",
    "#1. Write a Python function to insert multiple employees into the `employees` table in a single transaction.\n",
    "#  Ensure that if any insertion fails, none of the insertions are committed.\n",
    "def multiple_insertion(employees):\n",
    "    connection = sqlite3.connect('test.db')\n",
    "    cursor = connection.cursor()\n",
    "    try:\n",
    "        cursor.executemany('''\n",
    "            INSERT INTO employees (id, name, age, department)\n",
    "            VALUES (?, ?, ?, ?)\n",
    "        ''', employees)\n",
    "        connection.commit()\n",
    "        print(\"All employees inserted successfully.\")\n",
    "    except  Exception as e:\n",
    "           connection.rollback()\n",
    "           print(\"Error occurred, transaction rolled back.\")\n",
    "           print(e)\n",
    "    finally:\n",
    "        connection.close()\n",
    "\n"
   ]
  },
  {
   "cell_type": "code",
   "execution_count": null,
   "id": "d2bdacd1",
   "metadata": {},
   "outputs": [
    {
     "name": "stdout",
     "output_type": "stream",
     "text": [
      "All employee ages updated successfully.\n"
     ]
    }
   ],
   "source": [
    "## Assignment 7: Handling Transactions\n",
    "#2. Write a Python function to update the age of multiple employees in a single transaction. Ensure that if any update fails, none of the updates are committed.\n",
    "def update_multiple_employees_ages(updates):\n",
    "    conn = sqlite3.connect('test.db')\n",
    "    cursor = conn.cursor()\n",
    "    try:\n",
    "        cursor.executemany('''\n",
    "            UPDATE employees\n",
    "            SET age = ?\n",
    "            WHERE id = ?\n",
    "        ''', updates)\n",
    "        conn.commit()\n",
    "        print(\"All employee ages updated successfully.\")\n",
    "    except Exception as e:\n",
    "        conn.rollback()\n",
    "        print(\"Error occurred, transaction rolled back.\")\n",
    "        print(e)\n",
    "    finally:\n",
    "        conn.close()\n",
    "\n",
    "# Test the function with valid and invalid data\n",
    "updates = [\n",
    "    (32, 1),\n",
    "    (26, 2),\n",
    "    (33, 3),\n",
    "    (41, 4),  # Non-existing ID to cause an error\n",
    "    (23, 5)\n",
    "]\n",
    "update_multiple_employees_ages(updates)"
   ]
  },
  {
   "cell_type": "code",
   "execution_count": 23,
   "id": "38fd0e79",
   "metadata": {},
   "outputs": [],
   "source": [
    "### Assignment 8: Creating Relationships\n",
    "\n",
    "#1. Create a new table named `departments` with columns `id` (integer) and `name` (text).\n",
    "def create_table():\n",
    "    connection = sqlite3.connect('departments.db')\n",
    "    cursor = connection.cursor()\n",
    "    cursor.execute('''\n",
    "    Create Table if Not Exists departments(\n",
    "        id INTEGER PRIMARY KEY,\n",
    "        name TEXT NOT NULL\n",
    "    )\n",
    "   ''')\n",
    "    connection.commit()\n",
    "    connection.close()\n",
    "    print(\"table created\")\n",
    " "
   ]
  },
  {
   "cell_type": "code",
   "execution_count": null,
   "id": "47aaf278",
   "metadata": {},
   "outputs": [],
   "source": [
    "### Assignment 8: Creating Relationships\n",
    "#2. Modify the `employees` table to include a foreign key referencing the `id` column in the `departments` table.\n",
    "def add_department_foreign_key():\n",
    "    conn = sqlite3.connect('test.db')\n",
    "    cursor = conn.cursor()\n",
    "    cursor.execute('''\n",
    "        PRAGMA foreign_keys=off;\n",
    "        BEGIN TRANSACTION;\n",
    "        ALTER TABLE employees RENAME TO old_employees;\n",
    "        CREATE TABLE employees (\n",
    "            id INTEGER PRIMARY KEY,\n",
    "            name TEXT NOT NULL,\n",
    "            age INTEGER,\n",
    "            department TEXT,\n",
    "            department_id INTEGER,\n",
    "            FOREIGN KEY(department_id) REFERENCES departments(id)\n",
    "        );\n",
    "        INSERT INTO employees (id, name, age, department)\n",
    "        SELECT id, name, age, department FROM old_employees;\n",
    "        DROP TABLE old_employees;\n",
    "        COMMIT;\n",
    "        PRAGMA foreign_keys=on;\n",
    "    ''')\n",
    "    conn.commit()\n",
    "    conn.close()\n",
    "    print(\"Table 'employees' modified successfully.\")\n",
    "\n",
    "# Test the function\n",
    "add_department_foreign_key()"
   ]
  },
  {
   "cell_type": "code",
   "execution_count": null,
   "id": "8b9e8b92",
   "metadata": {},
   "outputs": [
    {
     "name": "stdout",
     "output_type": "stream",
     "text": [
      "Error occurred, transaction rolled back.\n",
      "no such table: departments\n"
     ]
    }
   ],
   "source": [
    "### Assignment 8: Creating Relationships\n",
    "#3. Write a Python function to insert data into both the `departments` and `employees` tables, ensuring referential integrity.\n",
    "\n",
    "def insert_department_and_employee(department_id, department_name, employee_id, name, age, department):\n",
    "    conn = sqlite3.connect('test.db')\n",
    "    cursor = conn.cursor()\n",
    "    try:\n",
    "        cursor.execute('''\n",
    "            INSERT INTO departments (id, name)\n",
    "            VALUES (?, ?)\n",
    "        ''', (department_id, department_name))\n",
    "        cursor.execute('''\n",
    "            INSERT INTO employees (id, name, age, department, department_id)\n",
    "            VALUES (?, ?, ?, ?, ?)\n",
    "        ''', (employee_id, name, age, departments, department_id))\n",
    "        conn.commit()\n",
    "        print(\"Department and employee inserted successfully.\")\n",
    "    except Exception as e:\n",
    "        conn.rollback()\n",
    "        print(\"Error occurred, transaction rolled back.\")\n",
    "        print(e)\n",
    "    finally:\n",
    "        conn.close()\n",
    "\n",
    "# Test the function\n",
    "insert_department_and_employee(1, 'Finance', 10, 'Zara', 28, 'Finance')\n"
   ]
  },
  {
   "cell_type": "code",
   "execution_count": 31,
   "id": "48b59db6",
   "metadata": {},
   "outputs": [
    {
     "name": "stdout",
     "output_type": "stream",
     "text": [
      "Index on 'name' column created successfully.\n"
     ]
    }
   ],
   "source": [
    "### Assignment 9: Indexing and Optimization\n",
    "#1. Create an index on the `name` column of the `employees` table.\n",
    "def create_index_on_name():\n",
    "    connection = sqlite3.connect('test.db')\n",
    "    cursor = connection.cursor()\n",
    "    cursor.execute('CREATE INDEX idx_name ON employees(name)')\n",
    "    connection.commit()\n",
    "    connection.close()\n",
    "    print(\"Index on 'name' column created successfully.\")\n",
    "\n",
    "# Test the function\n",
    "create_index_on_name()"
   ]
  },
  {
   "cell_type": "code",
   "execution_count": 32,
   "id": "85edf678",
   "metadata": {},
   "outputs": [
    {
     "name": "stdout",
     "output_type": "stream",
     "text": [
      "Time taken: 0.0003769397735595703 seconds\n",
      "(101, 'Akanksha Meshram', 21, 'AI&DS')\n",
      "(102, 'Anchal', 20, 'AI&DS')\n"
     ]
    }
   ],
   "source": [
    "### Assignment 9: Indexing and Optimization\n",
    "#2. Write a Python function to fetch and display all employees whose names start with a specific letter. Compare the performance with and without the index.\n",
    "import time\n",
    "\n",
    "def fetch_employees_name_starts_with_performance(letter):\n",
    "    conn = sqlite3.connect('test.db')\n",
    "    cursor = conn.cursor()\n",
    "    start_time = time.time()\n",
    "    cursor.execute('SELECT * FROM employees WHERE name LIKE ?', (letter + '%',))\n",
    "    records = cursor.fetchall()\n",
    "    end_time = time.time()\n",
    "    conn.close()\n",
    "    print(\"Time taken: {} seconds\".format(end_time - start_time))\n",
    "    for record in records:\n",
    "        print(record)\n",
    "\n",
    "# Test the function with the index\n",
    "fetch_employees_name_starts_with_performance('A')\n"
   ]
  },
  {
   "cell_type": "code",
   "execution_count": 33,
   "id": "8d48bd9a",
   "metadata": {},
   "outputs": [
    {
     "name": "stdout",
     "output_type": "stream",
     "text": [
      "Database backed up successfully.\n"
     ]
    }
   ],
   "source": [
    "### Assignment 10: Backing Up and Restoring Data\n",
    "#1. Write a Python function to back up the `test.db` database to a file named `backup.db`.\n",
    "import shutil\n",
    "\n",
    "def backup_database():\n",
    "    shutil.copy('test.db', 'backup.db')\n",
    "    print(\"Database backed up successfully.\")\n",
    "\n",
    "# Test the function\n",
    "backup_database()"
   ]
  },
  {
   "cell_type": "code",
   "execution_count": 34,
   "id": "48de108b",
   "metadata": {},
   "outputs": [
    {
     "name": "stdout",
     "output_type": "stream",
     "text": [
      "Database restored successfully.\n"
     ]
    }
   ],
   "source": [
    "### Assignment 10: Backing Up and Restoring Data\n",
    "#2. Write a Python function to restore the `test.db` database from the `backup.db` file.\n",
    "def restore_database():\n",
    "    shutil.copy('backup.db', 'test.db')\n",
    "    print(\"Database restored successfully.\")\n",
    "\n",
    "# Test the function\n",
    "restore_database()"
   ]
  }
 ],
 "metadata": {
  "kernelspec": {
   "display_name": "base",
   "language": "python",
   "name": "python3"
  },
  "language_info": {
   "codemirror_mode": {
    "name": "ipython",
    "version": 3
   },
   "file_extension": ".py",
   "mimetype": "text/x-python",
   "name": "python",
   "nbconvert_exporter": "python",
   "pygments_lexer": "ipython3",
   "version": "3.12.4"
  }
 },
 "nbformat": 4,
 "nbformat_minor": 5
}
