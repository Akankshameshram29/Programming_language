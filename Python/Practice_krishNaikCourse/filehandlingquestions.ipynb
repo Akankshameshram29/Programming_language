{
 "cells": [
  {
   "cell_type": "markdown",
   "metadata": {},
   "source": [
    "# Module: File Handling Assignments\n",
    "## Lesson: File Handling and Operations\n",
    "### Assignment 1: Reading a File\n",
    "\n",
    "Write a function that reads the contents of a file named `sample.txt` and prints each line.\n",
    "\n",
    "### Assignment 2: Writing to a File\n",
    "\n",
    "Write a function that writes a list of strings to a file named `output.txt`, with each string on a new line.\n",
    "\n",
    "### Assignment 3: Copying a File\n",
    "\n",
    "Write a function that copies the contents of a file named `source.txt` to a new file named `destination.txt`.\n",
    "\n",
    "### Assignment 4: Appending to a File\n",
    "\n",
    "Write a function that appends a given string to the end of a file named `log.txt`.\n",
    "\n",
    "### Assignment 5: Counting Words in a File\n",
    "\n",
    "Write a function that reads the contents of a file named `document.txt` and returns the number of words in the file.\n",
    "\n",
    "### Assignment 6: Finding and Replacing Text\n",
    "\n",
    "Write a function that finds and replaces all occurrences of a given word in a file named `data.txt` with another word.\n",
    "\n",
    "### Assignment 7: Reading a File in Reverse\n",
    "\n",
    "Write a function that reads the contents of a file named `reverse.txt` and prints each line in reverse order.\n",
    "\n",
    "### Assignment 8: Counting Lines, Words, and Characters\n",
    "\n",
    "Write a function that reads the contents of a file named `stats.txt` and returns the number of lines, words, and characters in the file.\n",
    "\n",
    "### Assignment 9: Merging Multiple Files\n",
    "\n",
    "Write a function that merges the contents of multiple files into a single file named `merged.txt`.\n",
    "\n",
    "### Assignment 10: Splitting a Large File\n",
    "\n",
    "Write a function that splits a large file named `large.txt` into smaller files of 100 lines each.\n",
    "\n",
    "### Assignment 11: Creating a Log File\n",
    "\n",
    "Write a function that creates a log file named `activity.log` and writes log messages with timestamps.\n",
    "\n",
    "### Assignment 12: Binary File Operations\n",
    "\n",
    "Write a function that reads a binary file named `image.bin` and writes its contents to another binary file named `copy_image.bin`.\n",
    "\n",
    "### Assignment 13: CSV File Operations\n",
    "\n",
    "Write a function that reads a CSV file named `data.csv` and prints its contents as a list of dictionaries.\n",
    "\n",
    "### Assignment 14: JSON File Operations\n",
    "\n",
    "Write a function that reads a JSON file named `data.json` and prints its contents as a Python dictionary.\n",
    "\n",
    "### Assignment 15: File Permission Handling\n",
    "\n",
    "Write a function that attempts to read a file named `protected.txt` and handles any permission errors gracefully by printing an error message."
   ]
  },
  {
   "cell_type": "code",
   "execution_count": 8,
   "metadata": {},
   "outputs": [
    {
     "name": "stdout",
     "output_type": "stream",
     "text": [
      "Hello World\n",
      "what's new?\n"
     ]
    }
   ],
   "source": [
    "### Assignment 1: Reading a File\n",
    "#Write a function that reads the contents of a file named `sample.txt` and prints each line.\n",
    "\n",
    "def read_file(sample):\n",
    "     with open('sample.txt','r') as file:\n",
    "         for line in file:\n",
    "              print(line.strip())\n",
    "\n",
    "read_file('sample.txt')"
   ]
  },
  {
   "cell_type": "code",
   "execution_count": 9,
   "id": "3d3cc90e",
   "metadata": {},
   "outputs": [],
   "source": [
    "### Assignment 2: Writing to a File\n",
    "\n",
    "#Write a function that writes a list of strings to a file named `output.txt`, \n",
    "# with each string on a new line.\n",
    "lst = ['\\nhi\\n','whats up?\\n','nothing\\n']\n",
    "with open('sample.txt','a') as file:\n",
    "    file.writelines(lst)\n"
   ]
  },
  {
   "cell_type": "code",
   "execution_count": 14,
   "id": "9a4e58e1",
   "metadata": {},
   "outputs": [],
   "source": [
    "### Assignment 3: Copying a File\n",
    "#Write a function that copies the contents of a file named `source.txt` \n",
    "# to a new file named `destination.txt`.\n",
    "def copy(source,destination):\n",
    "    with open('sample.txt','r') as file1:\n",
    "        with open('file.txt','w') as file2:\n",
    "             file2.write(file1.read())\n",
    "\n",
    "copy('sample.txt','file.txt')"
   ]
  },
  {
   "cell_type": "code",
   "execution_count": 18,
   "id": "3e9048bf",
   "metadata": {},
   "outputs": [],
   "source": [
    "### Assignment 4: Appending to a File\n",
    "#Write a function that appends a given string to the end of a file named `log.txt`.\n",
    "def function(string):\n",
    "    with open('sample.txt','a') as file:\n",
    "         file.write(string)\n",
    "\n",
    "function('Arun meshram')\n",
    "function('1500')\n"
   ]
  },
  {
   "cell_type": "code",
   "execution_count": 33,
   "id": "9b5a8a82",
   "metadata": {},
   "outputs": [
    {
     "data": {
      "text/plain": [
       "(5, 11, 90)"
      ]
     },
     "execution_count": 33,
     "metadata": {},
     "output_type": "execute_result"
    }
   ],
   "source": [
    "### Assignment 5: Counting Words in a File\n",
    "\n",
    "#Write a function that reads the contents of a file named `document.txt`\n",
    "# and returns the number of words in the file.\n",
    "\n",
    "def count(file_path):\n",
    "    with open(file_path,'r')as file:\n",
    "        lines = file.readlines()\n",
    "        line_count = len(lines)\n",
    "        word_count = sum(len(line.split()) for line in lines)\n",
    "        char_count = sum(len(line) for line in lines)\n",
    "    return line_count, word_count, char_count\n",
    "\n",
    "        \n",
    "\n",
    "count('sample.txt')\n"
   ]
  },
  {
   "cell_type": "code",
   "execution_count": 46,
   "id": "c5607ff3",
   "metadata": {},
   "outputs": [],
   "source": [
    "### Assignment 6: Finding and Replacing Text\n",
    "\n",
    "#Write a function that finds and replaces all occurrences of a \n",
    "# given word in a file named `data.txt` with another word.\n",
    "def replace(filename,word,new_word):\n",
    "    with open(filename,'r') as file:\n",
    "        content = file.read()\n",
    "    update_content = content.replace(word,new_word)\n",
    "    with open(filename,'w') as file:\n",
    "        file.write(update_content)\n",
    "        \n",
    "replace('sample.txt','Hello','Namaste')\n"
   ]
  },
  {
   "cell_type": "code",
   "execution_count": 47,
   "id": "170f5998",
   "metadata": {},
   "outputs": [
    {
     "name": "stdout",
     "output_type": "stream",
     "text": [
      "nothing\n",
      "whats up?\n",
      "what's new?hi\n",
      "Hello World\n"
     ]
    }
   ],
   "source": [
    "## Assignment 7: Reading a File in Reverse\n",
    "\n",
    "#Write a function that reads the contents of a file named `reverse.txt` and \n",
    "# prints each line in reverse order.\n",
    "\n",
    "def reverse(filename):\n",
    "    with open(filename,'r') as file:\n",
    "        lines = file.readlines()\n",
    "        for line in reversed(lines):\n",
    "            print(line.strip())\n",
    "\n",
    "\n",
    "reverse('file.txt')\n",
    "\n"
   ]
  },
  {
   "cell_type": "code",
   "execution_count": 48,
   "id": "80f2ffb7",
   "metadata": {},
   "outputs": [
    {
     "data": {
      "text/plain": [
       "(4, 7, 44)"
      ]
     },
     "execution_count": 48,
     "metadata": {},
     "output_type": "execute_result"
    }
   ],
   "source": [
    "### Assignment 8: Counting Lines, Words, and Characters\n",
    "\n",
    "#Write a function that reads the contents of a file named `stats.txt` and \n",
    "# returns the number of lines, words, and characters in the file.\n",
    "def count(file_path):\n",
    "    with open(file_path,'r')as file:\n",
    "        lines = file.readlines()\n",
    "        line_count = len(lines)\n",
    "        word_count = sum(len(line.split()) for line in lines)\n",
    "        char_count = sum(len(line) for line in lines)\n",
    "    return line_count, word_count, char_count\n",
    "\n",
    "        \n",
    "\n",
    "count('file.txt')"
   ]
  },
  {
   "cell_type": "code",
   "execution_count": 1,
   "id": "7c7dee73",
   "metadata": {},
   "outputs": [],
   "source": [
    "## Assignment 9: Merging Multiple Files\n",
    "\n",
    "#Write a function that merges the contents of multiple files into a single file \n",
    "# named `merged.txt`.\n",
    "def merged_file(input_file,output_file='merged.txt'):\n",
    "    with open(output_file,'w')as outfile:\n",
    "        for file_name in input_file:\n",
    "            with open(file_name,'r')as infile:\n",
    "                outfile.write(infile.read()+'\\n')\n",
    "\n",
    "file_list = ['sample.txt','file.txt']\n",
    "merged_file(file_list)"
   ]
  },
  {
   "cell_type": "code",
   "execution_count": 6,
   "id": "fff276ad",
   "metadata": {},
   "outputs": [],
   "source": [
    "### Assignment 10: Splitting a Large File\n",
    "\n",
    "#Write a function that splits a large file named `large.txt` \n",
    "# into smaller files of 100 lines each.\n",
    "\n",
    "def split_file(filename, lines_per_file):\n",
    "    with open(filename, 'r') as file:\n",
    "        lines = file.readlines()\n",
    "    for i in range(0, len(lines), lines_per_file):\n",
    "        with open(f'{filename}_part{i//lines_per_file + 1}.txt', 'w') as part_file:\n",
    "            part_file.writelines(lines[i:i + lines_per_file])\n",
    "\n",
    "split_file('large.txt',100)"
   ]
  },
  {
   "cell_type": "code",
   "execution_count": 9,
   "id": "514f56ce",
   "metadata": {},
   "outputs": [],
   "source": [
    "### Assignment 11: Creating a Log File\n",
    "\n",
    "#Write a function that creates a log file named \n",
    "# `activity.log` and writes log messages with timestamps.\n",
    "import datetime\n",
    "\n",
    "def log_message(message, filename='activity.log'):\n",
    "    timestamp = datetime.datetime.now().isoformat()\n",
    "    with open(filename, 'a') as file:\n",
    "        file.write(f'[{timestamp}] {message}\\n')\n",
    "\n",
    "log_message('this is a log message')"
   ]
  },
  {
   "cell_type": "code",
   "execution_count": 17,
   "id": "dc5a5cae",
   "metadata": {},
   "outputs": [],
   "source": [
    "### Assignment 12: Binary File Operations\n",
    "\n",
    "#Write a function that reads a binary file named `image.bin`\n",
    "#  and writes its contents to another binary file named `copy_image.bin`.\n",
    "def copy_binary_file(source, destination):\n",
    "    with open(source, 'rb') as src:\n",
    "        with open(destination, 'wb') as dest:\n",
    "            dest.write(src.read())\n",
    "\n",
    "copy_binary_file('image.bin','copy.bin')"
   ]
  },
  {
   "cell_type": "code",
   "execution_count": 21,
   "id": "b51e3799",
   "metadata": {},
   "outputs": [
    {
     "name": "stdout",
     "output_type": "stream",
     "text": [
      "[]\n"
     ]
    }
   ],
   "source": [
    "### Assignment 13: CSV File Operations\n",
    "\n",
    "#Write a function that reads a CSV file named `data.csv` \n",
    "# and prints its contents as a list of dictionaries.\n",
    "import csv\n",
    "\n",
    "def read_csv_as_dicts(filename):\n",
    "    with open(filename, 'r') as file:\n",
    "        reader = csv.DictReader(file)\n",
    "        return list(reader)\n",
    "\n",
    "print(read_csv_as_dicts('data.csv'))"
   ]
  },
  {
   "cell_type": "code",
   "execution_count": 29,
   "id": "0d20c802",
   "metadata": {},
   "outputs": [
    {
     "ename": "FileNotFoundError",
     "evalue": "[Errno 2] No such file or directory: 'data.json'",
     "output_type": "error",
     "traceback": [
      "\u001b[1;31m---------------------------------------------------------------------------\u001b[0m",
      "\u001b[1;31mFileNotFoundError\u001b[0m                         Traceback (most recent call last)",
      "Cell \u001b[1;32mIn[29], line 13\u001b[0m\n\u001b[0;32m      9\u001b[0m         data \u001b[38;5;241m=\u001b[39m json\u001b[38;5;241m.\u001b[39mload(file)\n\u001b[0;32m     10\u001b[0m         \u001b[38;5;28;01mreturn\u001b[39;00m data\n\u001b[1;32m---> 13\u001b[0m read_json(\u001b[38;5;124m'\u001b[39m\u001b[38;5;124mdata.json\u001b[39m\u001b[38;5;124m'\u001b[39m)\n",
      "Cell \u001b[1;32mIn[29], line 8\u001b[0m, in \u001b[0;36mread_json\u001b[1;34m(filename)\u001b[0m\n\u001b[0;32m      7\u001b[0m \u001b[38;5;28;01mdef\u001b[39;00m \u001b[38;5;21mread_json\u001b[39m(filename):\n\u001b[1;32m----> 8\u001b[0m     \u001b[38;5;28;01mwith\u001b[39;00m \u001b[38;5;28mopen\u001b[39m(filename, \u001b[38;5;124m'\u001b[39m\u001b[38;5;124mr\u001b[39m\u001b[38;5;124m'\u001b[39m) \u001b[38;5;28;01mas\u001b[39;00m file:\n\u001b[0;32m      9\u001b[0m         data \u001b[38;5;241m=\u001b[39m json\u001b[38;5;241m.\u001b[39mload(file)\n\u001b[0;32m     10\u001b[0m         \u001b[38;5;28;01mreturn\u001b[39;00m data\n",
      "File \u001b[1;32mc:\\Users\\akanksha meshram\\anaconda3\\Lib\\site-packages\\IPython\\core\\interactiveshell.py:324\u001b[0m, in \u001b[0;36m_modified_open\u001b[1;34m(file, *args, **kwargs)\u001b[0m\n\u001b[0;32m    317\u001b[0m \u001b[38;5;28;01mif\u001b[39;00m file \u001b[38;5;129;01min\u001b[39;00m {\u001b[38;5;241m0\u001b[39m, \u001b[38;5;241m1\u001b[39m, \u001b[38;5;241m2\u001b[39m}:\n\u001b[0;32m    318\u001b[0m     \u001b[38;5;28;01mraise\u001b[39;00m \u001b[38;5;167;01mValueError\u001b[39;00m(\n\u001b[0;32m    319\u001b[0m         \u001b[38;5;124mf\u001b[39m\u001b[38;5;124m\"\u001b[39m\u001b[38;5;124mIPython won\u001b[39m\u001b[38;5;124m'\u001b[39m\u001b[38;5;124mt let you open fd=\u001b[39m\u001b[38;5;132;01m{\u001b[39;00mfile\u001b[38;5;132;01m}\u001b[39;00m\u001b[38;5;124m by default \u001b[39m\u001b[38;5;124m\"\u001b[39m\n\u001b[0;32m    320\u001b[0m         \u001b[38;5;124m\"\u001b[39m\u001b[38;5;124mas it is likely to crash IPython. If you know what you are doing, \u001b[39m\u001b[38;5;124m\"\u001b[39m\n\u001b[0;32m    321\u001b[0m         \u001b[38;5;124m\"\u001b[39m\u001b[38;5;124myou can use builtins\u001b[39m\u001b[38;5;124m'\u001b[39m\u001b[38;5;124m open.\u001b[39m\u001b[38;5;124m\"\u001b[39m\n\u001b[0;32m    322\u001b[0m     )\n\u001b[1;32m--> 324\u001b[0m \u001b[38;5;28;01mreturn\u001b[39;00m io_open(file, \u001b[38;5;241m*\u001b[39margs, \u001b[38;5;241m*\u001b[39m\u001b[38;5;241m*\u001b[39mkwargs)\n",
      "\u001b[1;31mFileNotFoundError\u001b[0m: [Errno 2] No such file or directory: 'data.json'"
     ]
    }
   ],
   "source": [
    "### Assignment 14: JSON File Operations\n",
    "\n",
    "#Write a function that reads a JSON file named `data.json` \n",
    "# and prints its contents as a Python dictionary.\n",
    "import json\n",
    "\n",
    "def read_json(filename):\n",
    "    with open(filename, 'r') as file:\n",
    "        data = json.load(file)\n",
    "        return data\n",
    "        \n",
    "    \n",
    "read_json('data.json')"
   ]
  },
  {
   "cell_type": "code",
   "execution_count": 26,
   "id": "869e103d",
   "metadata": {},
   "outputs": [
    {
     "name": "stdout",
     "output_type": "stream",
     "text": [
      "Namaste World\n",
      "what's new?hi\n",
      "whats up?\n",
      "nothing\n",
      "Arun meshram\n"
     ]
    }
   ],
   "source": [
    "### Assignment 15: File Permission Handling\n",
    "\n",
    "#Write a function that attempts to read a file named `protected.txt`\n",
    "#  and handles any permission errors gracefully by printing an error message.\n",
    "def read_protected_file(filename):\n",
    "    try:\n",
    "        with open(filename, 'r') as file:\n",
    "            print(file.read())\n",
    "    except PermissionError as e:\n",
    "        print(f\"Permission error: {e}\")\n",
    "\n",
    "read_protected_file('sample.txt')"
   ]
  }
 ],
 "metadata": {
  "kernelspec": {
   "display_name": "base",
   "language": "python",
   "name": "python3"
  },
  "language_info": {
   "codemirror_mode": {
    "name": "ipython",
    "version": 3
   },
   "file_extension": ".py",
   "mimetype": "text/x-python",
   "name": "python",
   "nbconvert_exporter": "python",
   "pygments_lexer": "ipython3",
   "version": "3.12.4"
  }
 },
 "nbformat": 4,
 "nbformat_minor": 5
}
