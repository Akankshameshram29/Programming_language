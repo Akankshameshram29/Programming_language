{
 "cells": [
  {
   "cell_type": "markdown",
   "id": "1cc1fc1a",
   "metadata": {},
   "source": [
    "# Module 3: Data Structures Assignments\n",
    "## Lesson 3.1: Lists\n",
    "### Assignment 1: Creating and Accessing Lists\n",
    "\n",
    "Create a list of the first 20 positive integers. Print the list.\n",
    "\n",
    "### Assignment 2: Accessing List Elements\n",
    "\n",
    "Print the first, middle, and last elements of the list created in Assignment 1.\n",
    "\n",
    "### Assignment 3: List Slicing\n",
    "\n",
    "Print the first five elements, the last five elements, and the elements from index 5 to 15 of the list created in Assignment 1.\n",
    "\n",
    "### Assignment 4: List Comprehensions\n",
    "\n",
    "Create a new list containing the squares of the first 10 positive integers using a list comprehension. Print the new list.\n",
    "\n",
    "### Assignment 5: Filtering Lists\n",
    "\n",
    "Create a new list containing only the even numbers from the list created in Assignment 1 using a list comprehension. Print the new list.\n",
    "\n",
    "### Assignment 6: List Methods\n",
    "\n",
    "Create a list of random numbers and sort it in ascending and descending order. Remove the duplicates from the list and print the modified list.\n",
    "\n",
    "### Assignment 7: Nested Lists\n",
    "\n",
    "Create a nested list representing a 3x3 matrix and print the matrix. Access and print the element at the second row and third column.\n",
    "\n",
    "### Assignment 8: List of Dictionaries\n",
    "\n",
    "Create a list of dictionaries where each dictionary represents a student with keys 'name' and 'score'. Sort the list of dictionaries by the 'score' in descending order and print the sorted list.\n",
    "\n",
    "### Assignment 9: Matrix Transposition\n",
    "\n",
    "Write a function that takes a 3x3 matrix (nested list) as input and returns its transpose. Print the original and transposed matrices.\n",
    "\n",
    "### Assignment 10: Flattening a Nested List\n",
    "\n",
    "Write a function that takes a nested list and flattens it into a single list. Print the original and flattened lists.\n",
    "\n",
    "### Assignment 11: List Manipulation\n",
    "\n",
    "Create a list of the first 10 positive integers. Remove the elements at indices 2, 4, and 6, and insert the element '99' at index 5. Print the modified list.\n",
    "\n",
    "### Assignment 12: List Zipping\n",
    "\n",
    "Create two lists of the same length. Use the `zip` function to combine these lists into a list of tuples and print the result.\n",
    "\n",
    "### Assignment 13: List Reversal\n",
    "\n",
    "Write a function that takes a list and returns a new list with the elements in reverse order. Print the original and reversed lists.\n",
    "\n",
    "### Assignment 14: List Rotation\n",
    "\n",
    "Write a function that rotates a list by n positions. Print the original and rotated lists.\n",
    "\n",
    "### Assignment 15: List Intersection\n",
    "\n",
    "Write a function that takes two lists and returns a new list containing only the elements that are present in both lists. Print the intersected list."
   ]
  },
  {
   "cell_type": "code",
   "execution_count": 12,
   "id": "b6e9639a",
   "metadata": {},
   "outputs": [
    {
     "name": "stdout",
     "output_type": "stream",
     "text": [
      "[0, 1, 2, 3, 4, 5, 6, 7, 8, 9, 10, 11, 12, 13, 14, 15, 16, 17, 18, 19, 20]\n"
     ]
    }
   ],
   "source": [
    "### Assignment 1: Creating and Accessing Lists\n",
    "#Create a list of the first 20 positive integers. Print the list.\n",
    "\n",
    "lst = []\n",
    "for i in range(21):\n",
    "    lst.append(i)\n",
    "print(lst)"
   ]
  },
  {
   "cell_type": "code",
   "execution_count": 13,
   "id": "77a37095",
   "metadata": {},
   "outputs": [
    {
     "name": "stdout",
     "output_type": "stream",
     "text": [
      "first number: 0\n",
      "Second number: 10\n",
      "third number: 20\n"
     ]
    }
   ],
   "source": [
    "### Assignment 2: Accessing List Elements\n",
    "#Print the first, middle, and last elements of the list created in Assignment 1.\n",
    "print(\"first number:\", lst[0])\n",
    "print(\"Second number:\", lst[len(lst)//2])\n",
    "print(\"third number:\", lst[-1])\n"
   ]
  },
  {
   "cell_type": "code",
   "execution_count": 16,
   "id": "f84fe73a",
   "metadata": {},
   "outputs": [
    {
     "name": "stdout",
     "output_type": "stream",
     "text": [
      "[0, 1, 2, 3, 4]\n",
      "[16, 17, 18, 19, 20]\n",
      "[5, 6, 7, 8, 9, 10, 11, 12, 13, 14]\n"
     ]
    }
   ],
   "source": [
    "### Assignment 3: List Slicing\n",
    "#Print the first five elements, the last five elements, and the elements from index 5 to 15 of the list created in Assignment 1.\n",
    "print(lst[:5])\n",
    "print(lst[-5:])\n",
    "print(lst[5:15])"
   ]
  },
  {
   "cell_type": "code",
   "execution_count": 20,
   "id": "166c6fbc",
   "metadata": {},
   "outputs": [
    {
     "name": "stdout",
     "output_type": "stream",
     "text": [
      "[0, 1, 4, 9, 16, 25, 36, 49, 64, 81]\n"
     ]
    }
   ],
   "source": [
    "### Assignment 4: List Comprehensions\n",
    "#Create a new list containing the squares of the first 10 positive integers using a list comprehension. Print the new list.\n",
    "\n",
    "new_list = [ x**2 for x in range(10)]\n",
    "print(new_list)\n"
   ]
  },
  {
   "cell_type": "code",
   "execution_count": 21,
   "id": "d82a7bec",
   "metadata": {},
   "outputs": [
    {
     "name": "stdout",
     "output_type": "stream",
     "text": [
      "[0, 2, 4, 6, 8, 10, 12, 14, 16, 18, 20]\n"
     ]
    }
   ],
   "source": [
    "### Assignment 5: Filtering Lists\n",
    "#Create a new list containing only the even numbers from the list created in Assignment 1 using a list comprehension. Print the new list.\n",
    "list2=[]\n",
    "for i in lst:\n",
    "    if lst[i]%2==0:\n",
    "        list2.append(lst[i])\n",
    "print(list2)\n",
    "\n"
   ]
  },
  {
   "cell_type": "code",
   "execution_count": 32,
   "id": "7b2c99b0",
   "metadata": {},
   "outputs": [
    {
     "name": "stdout",
     "output_type": "stream",
     "text": [
      "[10, 9, 8, 7, 5, 3, 2, 2]\n",
      "[2, 2, 3, 5, 7, 8, 9, 10]\n",
      "[2, 3, 5, 7, 8, 9, 10]\n"
     ]
    }
   ],
   "source": [
    "### Assignment 6: List Methods\n",
    "#Create a list of random numbers and sort it in ascending and descending order. Remove the duplicates from the list and print the modified list.\n",
    "\n",
    "num_list = [2,5,9,3,2,8,10,7]\n",
    "num_list.sort(reverse=True)\n",
    "print(num_list)\n",
    "num_list.sort()\n",
    "print(num_list)\n",
    "\n",
    "print(list(set(num_list)))\n",
    "\n",
    "\n"
   ]
  },
  {
   "cell_type": "code",
   "execution_count": 37,
   "id": "add6569a",
   "metadata": {},
   "outputs": [
    {
     "name": "stdout",
     "output_type": "stream",
     "text": [
      "[[1, 2, 3], [4, 5, 6], [7, 8, 9]]\n",
      "element at second row and third column 6\n"
     ]
    }
   ],
   "source": [
    "### Assignment 7: Nested Lists\n",
    "#Create a nested list representing a 3x3 matrix and print the matrix. Access and print the element at the second row and third column.\n",
    "\n",
    "matrix = [[1,2,3],[4,5,6],[7,8,9]]\n",
    "print(matrix)\n",
    "\n",
    "print(\"element at second row and third column\",matrix[1][2])\n"
   ]
  },
  {
   "cell_type": "code",
   "execution_count": 6,
   "id": "e7d2e56f",
   "metadata": {},
   "outputs": [
    {
     "name": "stdout",
     "output_type": "stream",
     "text": [
      "{'name': 'Charlie', 'score': 95}\n",
      "{'name': 'Alice', 'score': 88}\n",
      "{'name': 'Eve', 'score': 78}\n",
      "{'name': 'Bob', 'score': 72}\n",
      "{'name': 'David', 'score': 65}\n"
     ]
    }
   ],
   "source": [
    "### Assignment 8: List of Dictionaries\n",
    "#Create a list of dictionaries where each dictionary represents a student with keys 'name' and 'score'. Sort the list of dictionaries by the 'score' in descending order and print the sorted list.\n",
    "info = [{'name': 'Alice', 'score': 88},\n",
    "        {'name': 'Bob', 'score': 72},\n",
    "        {'name': 'Charlie', 'score': 95},\n",
    "        {'name': 'David', 'score': 65},\n",
    "        {'name': 'Eve', 'score': 78}]\n",
    "sorted_info =sorted(info,key = lambda student:student['score'],reverse = True)\n",
    "for student in sorted_info:\n",
    "    print(student)\n"
   ]
  },
  {
   "cell_type": "code",
   "execution_count": 7,
   "id": "af0600ff",
   "metadata": {},
   "outputs": [
    {
     "name": "stdout",
     "output_type": "stream",
     "text": [
      "Original matrix [[1, 2, 3], [4, 5, 6], [7, 8, 9]]\n",
      "tansposed matrix [[1, 4, 7], [2, 5, 8], [3, 6, 9]]\n"
     ]
    }
   ],
   "source": [
    "### Assignment 9: Matrix Transposition\n",
    "#Write a function that takes a 3x3 matrix (nested list) as input and returns its transpose. Print the original and transposed matrices.\n",
    "\n",
    "original_matrix = [[1,2,3],[4,5,6],[7,8,9]]\n",
    "print(\"Original matrix\",original_matrix)\n",
    "new_matrix = [[0 for _ in range(len(original_matrix))] for _ in range(len(original_matrix[0]))]\n",
    "\n",
    "for i in range(len(original_matrix)):\n",
    "     for j in range(len(original_matrix[0])):\n",
    "        new_matrix[j][i] = original_matrix[i][j]\n",
    "print(\"tansposed matrix\",new_matrix)\n",
    "    "
   ]
  },
  {
   "cell_type": "code",
   "execution_count": 11,
   "id": "6d70d946",
   "metadata": {},
   "outputs": [
    {
     "name": "stdout",
     "output_type": "stream",
     "text": [
      "[1, 2, 3, 4, 5, 6, 7, 8, 9]\n"
     ]
    }
   ],
   "source": [
    "### Assignment 10: Flattening a Nested List\n",
    "#Write a function that takes a nested list and flattens it into a single list. Print the original and flattened lists.\n",
    "nested_list = [[1,2,3],[4,5,6],[7,8,9]]\n",
    "flat_list = [ i for j in nested_list for i in j]\n",
    "print(flat_list)"
   ]
  },
  {
   "cell_type": "code",
   "execution_count": 21,
   "id": "d1485b0e",
   "metadata": {},
   "outputs": [
    {
     "name": "stdout",
     "output_type": "stream",
     "text": [
      "modified list [1, 2, 4, 5, 7, 99, 10]\n"
     ]
    }
   ],
   "source": [
    "## Assignment 11: List Manipulation\n",
    "#Create a list of the first 10 positive integers. Remove the elements at indices 2, 4, and 6, and insert the element '99' at index 5. Print the modified list.\n",
    "new_list = [1,2,3,4,5,6,7,8,9,10]\n",
    "new_list.remove(new_list[2])\n",
    "new_list.remove(new_list[4])\n",
    "new_list.remove(new_list[6])\n",
    "new_list[5]=99\n",
    "print(\"modified list\",new_list)"
   ]
  },
  {
   "cell_type": "code",
   "execution_count": 23,
   "id": "ebdb12ca",
   "metadata": {},
   "outputs": [
    {
     "name": "stdout",
     "output_type": "stream",
     "text": [
      "[(1, 2), (2, 4), (3, 5), (4, 7)]\n"
     ]
    }
   ],
   "source": [
    "### Assignment 12: List Zipping\n",
    "#Create two lists of the same length. Use the `zip` function to combine these lists into a list of tuples and print the result.\n",
    "\n",
    "list_1=[1,2,3,4]\n",
    "list_2=[2,4,5,7]\n",
    "combine_list = list(zip(list_1,list_2))\n",
    "print(combine_list)"
   ]
  },
  {
   "cell_type": "code",
   "execution_count": 24,
   "id": "94852dc9",
   "metadata": {},
   "outputs": [
    {
     "name": "stdout",
     "output_type": "stream",
     "text": [
      "[9, 8, 7, 6, 4, 3, 2]\n"
     ]
    }
   ],
   "source": [
    "### Assignment 13: List Reversal\n",
    "#Write a function that takes a list and returns a new list with the elements in reverse order. Print the original and reversed lists.\n",
    "def rev_list(original_list):\n",
    "    return original_list[::-1]\n",
    "\n",
    "original_list = [2,3,4,6,7,8,9]\n",
    "print(rev_list(original_list))\n"
   ]
  },
  {
   "cell_type": "code",
   "execution_count": 50,
   "id": "1b999289",
   "metadata": {},
   "outputs": [
    {
     "name": "stdout",
     "output_type": "stream",
     "text": [
      "original list [1, 2, 3, 4]\n",
      "rotated list [3, 4, 1, 2]\n"
     ]
    }
   ],
   "source": [
    "### Assignment 14: List Rotation\n",
    "#Write a function that rotates a list by n positions. Print the original and rotated lists.\n",
    "def rotation(list1,k):\n",
    "    l= len(list1)\n",
    "    k = k % l  \n",
    "    rotated_list = list1[-k:] + list1[:-k]  \n",
    "    return rotated_list\n",
    "\n",
    "\n",
    "\n",
    "list1 = [1,2,3,4]\n",
    "\n",
    "print(\"original list\",list1)\n",
    "print(\"rotated list\",rotation(list1,2))"
   ]
  },
  {
   "cell_type": "code",
   "execution_count": 55,
   "id": "19073412",
   "metadata": {},
   "outputs": [
    {
     "name": "stdout",
     "output_type": "stream",
     "text": [
      "list of common elements [2, 4]\n"
     ]
    }
   ],
   "source": [
    "### Assignment 15: List Intersection\n",
    "#Write a function that takes two lists and returns a new list containing only the elements that are present in both lists. Print the intersected list.\n",
    "\n",
    "def common_list(list_1,list_2):\n",
    "    merged_list=[]\n",
    "    for i in list_1:\n",
    "        for j in list_2:\n",
    "            if i==j:\n",
    "                merged_list.append((i))\n",
    "    return merged_list\n",
    "\n",
    "print(\"list of common elements\",common_list(list_1,list_2))\n"
   ]
  }
 ],
 "metadata": {
  "kernelspec": {
   "display_name": "base",
   "language": "python",
   "name": "python3"
  },
  "language_info": {
   "codemirror_mode": {
    "name": "ipython",
    "version": 3
   },
   "file_extension": ".py",
   "mimetype": "text/x-python",
   "name": "python",
   "nbconvert_exporter": "python",
   "pygments_lexer": "ipython3",
   "version": "3.12.4"
  }
 },
 "nbformat": 4,
 "nbformat_minor": 5
}
