{
 "cells": [
  {
   "cell_type": "code",
   "execution_count": null,
   "id": "55d441b6",
   "metadata": {},
   "outputs": [],
   "source": [
    "# Module 4: Advanced Functions Assignments\n",
    "## Lesson 4.1: Defining Functions\n",
    "### Assignment 1: Fibonacci Sequence with Memoization\n",
    "\n",
    "Define a recursive function to calculate the nth Fibonacci number using memoization. Test the function with different inputs.\n",
    "\n",
    "### Assignment 2: Function with Nested Default Arguments\n",
    "\n",
    "Define a function that takes two arguments, a and b, where b is a dictionary with a default value of an empty dictionary. The function should add a new key-value pair to the dictionary and return it. Test the function with different inputs.\n",
    "\n",
    "### Assignment 3: Function with Variable Keyword Arguments\n",
    "\n",
    "Define a function that takes a variable number of keyword arguments and returns a dictionary containing only those key-value pairs where the value is an integer. Test the function with different inputs.\n",
    "\n",
    "### Assignment 4: Function with Callback\n",
    "\n",
    "Define a function that takes another function as a callback and a list of integers. The function should apply the callback to each integer in the list and return a new list with the results. Test with different callback functions.\n",
    "\n",
    "### Assignment 5: Function that Returns a Function\n",
    "\n",
    "Define a function that returns another function. The returned function should take an integer and return its square. Test the returned function with different inputs.\n",
    "\n",
    "### Assignment 6: Function with Decorators\n",
    "\n",
    "Define a function that calculates the time taken to execute another function. Apply this decorator to a function that performs a complex calculation. Test the decorated function with different inputs.\n",
    "\n",
    "### Assignment 7: Higher-Order Function for Filtering and Mapping\n",
    "\n",
    "Define a higher-order function that takes two functions, a filter function and a map function, along with a list of integers. The higher-order function should first filter the integers using the filter function and then apply the map function to the filtered integers. Test with different filter and map functions.\n",
    "\n",
    "### Assignment 8: Function Composition\n",
    "\n",
    "Define a function that composes two functions, f and g, such that the result is f(g(x)). Test with different functions f and g.\n",
    "\n",
    "### Assignment 9: Partial Function Application\n",
    "\n",
    "Use the functools.partial function to create a new function that multiplies its input by 2. Test the new function with different inputs.\n",
    "\n",
    "### Assignment 10: Function with Error Handling\n",
    "\n",
    "Define a function that takes a list of integers and returns their average. The function should handle any errors that occur (e.g., empty list) and return None in such cases. Test with different inputs.\n",
    "\n",
    "### Assignment 11: Function with Generators\n",
    "\n",
    "Define a function that generates an infinite sequence of Fibonacci numbers. Test by printing the first 10 numbers in the sequence.\n",
    "\n",
    "### Assignment 12: Currying\n",
    "\n",
    "Define a curried function that takes three arguments, one at a time, and returns their product. Test the function by providing arguments one at a time.\n",
    "\n",
    "### Assignment 13: Function with Context Manager\n",
    "\n",
    "Define a function that uses a context manager to write a list of integers to a file. The function should handle any errors that occur during file operations. Test with different lists.\n",
    "\n",
    "### Assignment 14: Function with Multiple Return Types\n",
    "\n",
    "Define a function that takes a list of mixed data types (integers, strings, and floats) and returns three lists: one containing all the integers, one containing all the strings, and one containing all the floats. Test with different inputs.\n",
    "\n",
    "### Assignment 15: Function with State\n",
    "\n",
    "Define a function that maintains state between calls using a mutable default argument. The function should keep track of how many times it has been called. Test by calling the function multiple times."
   ]
  },
  {
   "cell_type": "code",
   "execution_count": 16,
   "id": "6534839c",
   "metadata": {},
   "outputs": [
    {
     "name": "stdout",
     "output_type": "stream",
     "text": [
      "2\n"
     ]
    }
   ],
   "source": [
    "### Assignment 1: Fibonacci Sequence with Memoization\n",
    "\n",
    "#Define a recursive function to calculate the nth Fibonacci number using memoization.Test the function with different inputs.\n",
    "def fibo(num,lst = {}):\n",
    "    if num in lst:\n",
    "        return lst[num]\n",
    "    if num<=1:\n",
    "        return num\n",
    "    lst[num] = fibo(num-1,lst)+fibo(num-2,lst)\n",
    "    return lst[num]\n",
    "\n",
    "\n",
    "print(fibo(3))\n",
    "\n"
   ]
  },
  {
   "cell_type": "code",
   "execution_count": 1,
   "metadata": {},
   "outputs": [
    {
     "name": "stdout",
     "output_type": "stream",
     "text": [
      "{5: 25}\n"
     ]
    }
   ],
   "source": [
    "### Assignment 2: Function with Nested Default Arguments\n",
    "#Define a function that takes two arguments, a and b, where b is a dictionary with a default value of an empty dictionary. \n",
    "# The function should add a new key-value pair to the dictionary and return it. Test the function with different inputs.\n",
    "\n",
    "def func(a,b={}):\n",
    "    b[a]=a**2\n",
    "    return b\n",
    "\n",
    "print(func(5))\n"
   ]
  },
  {
   "cell_type": "code",
   "execution_count": 7,
   "id": "3f0aca4d",
   "metadata": {},
   "outputs": [
    {
     "name": "stdout",
     "output_type": "stream",
     "text": [
      "{'x': 10}\n"
     ]
    }
   ],
   "source": [
    "### Assignment 3: Function with Variable Keyword Arguments\n",
    "#Define a function that takes a variable number of keyword arguments and returns a dictionary containing only those key-value pairs where the value is an integer. \n",
    "# Test the function with different inputs.\n",
    "def func1(**kwargs):\n",
    "    return {key:value for key,value in kwargs.items() if isinstance(value,int)}\n",
    "\n",
    "print(func1(x=10,name='akanksha'))"
   ]
  },
  {
   "cell_type": "code",
   "execution_count": 11,
   "id": "a3001f38",
   "metadata": {},
   "outputs": [
    {
     "name": "stdout",
     "output_type": "stream",
     "text": [
      "[False, True, False, True, False, True, False, True, False, True]\n"
     ]
    }
   ],
   "source": [
    "### Assignment 4: Function with Callback\n",
    "\n",
    "#Define a function that takes another function as a callback and a list of integers. \n",
    "# The function should apply the callback to each integer in the list and return a new list with the results. Test with different callback functions.\n",
    "def apply_callback(even_odd,lst):\n",
    "    return [even_odd(x) for x in lst]\n",
    "\n",
    "print(apply_callback(lambda x:x%2==0, [1,2,3,4,5,6,7,8,9,10]))"
   ]
  },
  {
   "cell_type": "code",
   "execution_count": 13,
   "id": "677a1f46",
   "metadata": {},
   "outputs": [
    {
     "name": "stdout",
     "output_type": "stream",
     "text": [
      "16\n"
     ]
    }
   ],
   "source": [
    "### Assignment 5: Function that Returns a Function\n",
    "\n",
    "#Define a function that returns another function. The returned function should take an\n",
    "#  integer and return its square. Test the returned function with different inputs.\n",
    "def main_func():\n",
    "    def square(x):\n",
    "        return x**2\n",
    "    return square\n",
    "\n",
    "square = main_func()\n",
    "print(square(4))"
   ]
  },
  {
   "cell_type": "code",
   "execution_count": null,
   "id": "a6b707ef",
   "metadata": {},
   "outputs": [],
   "source": [
    "### Assignment 6: Function with Decorators\n",
    "\n",
    "#Define a function that calculates the time taken to execute another function. Apply this decorator to a function \n",
    "# that performs a complex calculation. Test the decorated function with different inputs."
   ]
  },
  {
   "cell_type": "code",
   "execution_count": 3,
   "id": "9dd65b47",
   "metadata": {},
   "outputs": [
    {
     "name": "stdout",
     "output_type": "stream",
     "text": [
      "[False, True, False, True, False]\n"
     ]
    }
   ],
   "source": [
    "### Assignment 7: Higher-Order Function for Filtering and Mapping\n",
    "\n",
    "#Define a higher-order function that takes two functions, a filter function and a map function, along with a list of integers. \n",
    "# The higher-order function should first filter the integers using the filter function and then apply the map function to the filtered integers. \n",
    "# Test with different filter and map functions.\n",
    "\n",
    "def higher_order(map,filter,lst):\n",
    "    return [map(x) for x in lst if filter(x)]\n",
    "\n",
    "print(higher_order(lambda x: x % 2 == 0, lambda x: x ** 2, [1, 2, 3, 4, 5]))\n"
   ]
  },
  {
   "cell_type": "code",
   "execution_count": 8,
   "id": "55e19c41",
   "metadata": {},
   "outputs": [
    {
     "name": "stdout",
     "output_type": "stream",
     "text": [
      "9\n"
     ]
    }
   ],
   "source": [
    "### Assignment 8: Function Composition\n",
    "\n",
    "#Define a function that composes two functions, f and g, such that the result is f(g(x)). Test with different functions f and g.\n",
    "def compose(f,g):\n",
    "    return lambda x:f(g(x))\n",
    "\n",
    "f = lambda x:x+1\n",
    "g = lambda x:x*2\n",
    "h = compose(f,g)\n",
    "print(h(4))"
   ]
  },
  {
   "cell_type": "code",
   "execution_count": 3,
   "id": "b02854c8",
   "metadata": {},
   "outputs": [
    {
     "name": "stdout",
     "output_type": "stream",
     "text": [
      "6\n"
     ]
    }
   ],
   "source": [
    "### Assignment 9: Partial Function Application\n",
    "#Use the functools.partial function to create a new function that multiplies its input by 2. \n",
    "\n",
    "from functools import partial\n",
    "\n",
    "def multiply(x,y):\n",
    "    return x*y\n",
    "\n",
    "new = partial(multiply,2)\n",
    "print(new(3))"
   ]
  },
  {
   "cell_type": "code",
   "execution_count": 18,
   "id": "db5d3f9c",
   "metadata": {},
   "outputs": [
    {
     "name": "stdout",
     "output_type": "stream",
     "text": [
      "3\n"
     ]
    }
   ],
   "source": [
    "### Assignment 10: Function with Error Handling\n",
    "\n",
    "#Define a function that takes a list of integers and returns their average. \n",
    "# The function should handle any errors that occur (e.g., empty list) and return None in such cases. Test with different inputs.\n",
    "def function1(lst):\n",
    "    sum=0\n",
    "    if lst==[]:\n",
    "        return None\n",
    "    else:\n",
    "        for i in lst:\n",
    "            sum+=i\n",
    "            avg=sum//len(lst)\n",
    "    return avg\n",
    "\n",
    "lst=[1,2,3,4,5]\n",
    "ans = function1(lst)\n",
    "print(ans)"
   ]
  },
  {
   "cell_type": "code",
   "execution_count": 19,
   "id": "2dfc615a",
   "metadata": {},
   "outputs": [
    {
     "name": "stdout",
     "output_type": "stream",
     "text": [
      "24\n"
     ]
    }
   ],
   "source": [
    "### Assignment 12: Currying\n",
    "\n",
    "#Define a curried function that takes three arguments, one at a time, and returns their product. Test the function by providing arguments one at a time.\n",
    "\n",
    "\n",
    "def curry_product(x):\n",
    "    def inner1(y):\n",
    "        def inner2(z):\n",
    "            return x * y * z\n",
    "        return inner2\n",
    "    return inner1\n",
    "\n",
    "print(curry_product(2)(3)(4))"
   ]
  },
  {
   "cell_type": "code",
   "execution_count": 20,
   "id": "5949fdc1",
   "metadata": {},
   "outputs": [
    {
     "name": "stdout",
     "output_type": "stream",
     "text": [
      "([1, 2], ['a', 'c', 'hello'], [3.14])\n"
     ]
    }
   ],
   "source": [
    "### Assignment 14: Function with Multiple Return Types\n",
    "\n",
    "#Define a function that takes a list of mixed data types (integers, strings, and floats) and returns three lists:\n",
    "#  one containing all the integers, one containing all the strings, and one containing all the floats. Test with different inputs.\n",
    "\n",
    "\n",
    "def separate_types(lst):\n",
    "    ints, strs, floats = [], [], []\n",
    "    for item in lst:\n",
    "        if isinstance(item, int):\n",
    "            ints.append(item)\n",
    "        elif isinstance(item, str):\n",
    "            strs.append(item)\n",
    "        elif isinstance(item, float):\n",
    "            floats.append(item)\n",
    "    return ints, strs, floats\n",
    "\n",
    "print(separate_types([1,2,'a','c','hello',3.14]))"
   ]
  },
  {
   "cell_type": "code",
   "execution_count": null,
   "id": "764289ea",
   "metadata": {},
   "outputs": [],
   "source": [
    "### Assignment 15: Function with State\n",
    "\n",
    "#Define a function that maintains state between calls using a mutable default argument.\n",
    "#  The function should keep track of how many times it has been called. Test by calling the function multiple times.\n",
    "def call_counter(counter={'count': 0}):\n",
    "    counter['count'] += 1\n",
    "    return counter['count']\n",
    "\n",
    "\n",
    "print(call_counter())  \n",
    "print(call_counter())  \n",
    "print(call_counter())  "
   ]
  }
 ],
 "metadata": {
  "kernelspec": {
   "display_name": "base",
   "language": "python",
   "name": "python3"
  },
  "language_info": {
   "codemirror_mode": {
    "name": "ipython",
    "version": 3
   },
   "file_extension": ".py",
   "mimetype": "text/x-python",
   "name": "python",
   "nbconvert_exporter": "python",
   "pygments_lexer": "ipython3",
   "version": "3.12.4"
  }
 },
 "nbformat": 4,
 "nbformat_minor": 5
}
