{
 "cells": [
  {
   "cell_type": "markdown",
   "metadata": {},
   "source": [
    "# Module: Inheritance Assignments\n",
    "## Lesson: Single and Multiple Inheritance\n",
    "### Assignment 1: Single Inheritance Basic\n",
    "\n",
    "Create a base class named `Animal` with attributes `name` and `species`. Create a derived class named `Dog` that inherits from `Animal` and adds an attribute `breed`. Create an object of the `Dog` class and print its attributes.\n",
    "\n",
    "### Assignment 2: Method Overriding in Single Inheritance\n",
    "\n",
    "In the `Dog` class, override the `__str__` method to return a string representation of the object. Create an object of the class and print it.\n",
    "\n",
    "### Assignment 3: Single Inheritance with Additional Methods\n",
    "\n",
    "In the `Dog` class, add a method named `bark` that prints a barking sound. Create an object of the class and call the method.\n",
    "\n",
    "### Assignment 4: Multiple Inheritance Basic\n",
    "\n",
    "Create a base class named `Walker` with a method `walk` that prints a walking message. Create another base class named `Runner` with a method `run` that prints a running message. Create a derived class named `Athlete` that inherits from both `Walker` and `Runner`. Create an object of the `Athlete` class and call both methods.\n",
    "\n",
    "### Assignment 5: Method Resolution Order (MRO) in Multiple Inheritance\n",
    "\n",
    "In the `Athlete` class, override the `walk` method to print a different message. Create an object of the class and call the `walk` method. Use the `super()` function to call the `walk` method of the `Walker` class.\n",
    "\n",
    "### Assignment 6: Multiple Inheritance with Additional Attributes\n",
    "\n",
    "In the `Athlete` class, add an attribute `training_hours` and a method `train` that prints the training hours. Create an object of the class and call the method.\n",
    "\n",
    "### Assignment 7: Diamond Problem in Multiple Inheritance\n",
    "\n",
    "Create a class named `A` with a method `show` that prints a message. Create two derived classes `B` and `C` that inherit from `A` and override the `show` method. Create a class `D` that inherits from both `B` and `C`. Create an object of the `D` class and call the `show` method. Observe the method resolution order.\n",
    "\n",
    "### Assignment 8: Using `super()` in Single Inheritance\n",
    "\n",
    "Create a base class named `Shape` with an attribute `color`. Create a derived class named `Circle` that inherits from `Shape` and adds an attribute `radius`. Use the `super()` function to initialize the attributes. Create an object of the `Circle` class and print its attributes.\n",
    "\n",
    "### Assignment 9: Using `super()` in Multiple Inheritance\n",
    "\n",
    "Create a class named `Person` with an attribute `name`. Create a class named `Employee` with an attribute `employee_id`. Create a derived class `Manager` that inherits from both `Person` and `Employee`. Use the `super()` function to initialize the attributes. Create an object of the `Manager` class and print its attributes.\n",
    "\n",
    "### Assignment 10: Method Overriding and `super()`\n",
    "\n",
    "Create a class named `Vehicle` with a method `start` that prints a starting message. Create a derived class `Car` that overrides the `start` method to print a different message. Use the `super()` function to call the `start` method of the `Vehicle` class. Create an object of the `Car` class and call the `start` method.\n",
    "\n",
    "### Assignment 11: Multiple Inheritance with Different Methods\n",
    "\n",
    "Create a class named `Flyer` with a method `fly` that prints a flying message. Create a class named `Swimmer` with a method `swim` that prints a swimming message. Create a derived class `Superhero` that inherits from both `Flyer` and `Swimmer`. Create an object of the `Superhero` class and call both methods.\n",
    "\n",
    "### Assignment 12: Complex Multiple Inheritance\n",
    "\n",
    "Create a class named `Base1` with an attribute `a`. Create a class named `Base2` with an attribute `b`. Create a class named `Derived` that inherits from both `Base1` and `Base2` and adds an attribute `c`. Initialize all attributes using the `super()` function. Create an object of the `Derived` class and print its attributes.\n",
    "\n",
    "### Assignment 13: Checking Instance Types with Inheritance\n",
    "\n",
    "Create a base class named `Animal` and a derived class named `Cat`. Create objects of both classes and use the `isinstance` function to check the instance types.\n",
    "\n",
    "### Assignment 14: Polymorphism with Inheritance\n",
    "\n",
    "Create a base class named `Bird` with a method `speak`. Create two derived classes `Parrot` and `Penguin` that override the `speak` method. Create a list of `Bird` objects and call the `speak` method on each object to demonstrate polymorphism.\n",
    "\n",
    "### Assignment 15: Combining Single and Multiple Inheritance\n",
    "\n",
    "Create a base class named `Device` with an attribute `brand`. Create a derived class `Phone` that inherits from `Device` and adds an attribute `model`. Create another base class `Camera` with an attribute `resolution`. Create a derived class `Smartphone` that inherits from both `Phone` and `Camera`. Create an object of the `Smartphone` class and print its attributes."
   ]
  },
  {
   "cell_type": "code",
   "execution_count": 30,
   "metadata": {},
   "outputs": [
    {
     "name": "stdout",
     "output_type": "stream",
     "text": [
      "jimmy\n"
     ]
    }
   ],
   "source": [
    "### Assignment 1: Single Inheritance Basic\n",
    "\n",
    "#Create a base class named `Animal` with attributes `name` and `species`.\n",
    "# Create a derived class named `Dog` that inherits from `Animal` and adds an attribute `breed`. \n",
    "#Create an object of the `Dog` class and print its attributes.\n",
    "\n",
    "class Animal:\n",
    "    def __init__(self,name,species):\n",
    "        self.name = name\n",
    "        self.species = species\n",
    "\n",
    "class Dog(Animal):\n",
    "    def __init__(self,name,species,breed):\n",
    "        super().__init__(name,species)\n",
    "        self.breed = breed\n",
    "    \n",
    "jimmy = Dog(\"jimmy\",\"Dog\",\"beagle\")\n",
    "print(jimmy.name)"
   ]
  },
  {
   "cell_type": "code",
   "execution_count": 31,
   "id": "a31a1810",
   "metadata": {},
   "outputs": [
    {
     "name": "stdout",
     "output_type": "stream",
     "text": [
      "Dog(Name: jimmy, Species: Dog, Breed: beagle)\n"
     ]
    }
   ],
   "source": [
    "### Assignment 2: Method Overriding in Single Inheritance\n",
    "\n",
    "#In the `Dog` class, override the `__str__` method to return a \n",
    "# string representation of the object. Create an object of the class and print it.\n",
    "\n",
    "class Dog(Animal):\n",
    "    def __init__(self,name,species,breed):\n",
    "        super().__init__(name,species)\n",
    "        self.breed = breed\n",
    "    \n",
    "    def __str__(self):\n",
    "        return f\"Dog(Name: {self.name}, Species: {self.species}, Breed: {self.breed})\"\n",
    "\n",
    "jimmy = Dog(\"jimmy\",\"Dog\",\"beagle\")\n",
    "print(jimmy)\n",
    "\n",
    "\n",
    "\n"
   ]
  },
  {
   "cell_type": "code",
   "execution_count": 32,
   "id": "0c5329a0",
   "metadata": {},
   "outputs": [
    {
     "name": "stdout",
     "output_type": "stream",
     "text": [
      "jimmy says woof woof\n"
     ]
    }
   ],
   "source": [
    "### Assignment 3: Single Inheritance with Additional Methods\n",
    "\n",
    "#In the `Dog` class, add a method named `bark` that prints a \n",
    "# barking sound. Create an object of the class and call the method.\n",
    "\n",
    "class Dog(Animal):\n",
    "    def __init__(self,name,species,breed):\n",
    "        super().__init__(name,species)\n",
    "        self.breed = breed\n",
    "\n",
    "    def bark(self):\n",
    "        print(f\"{self.name} says woof woof\")\n",
    "\n",
    "jimmy = Dog(\"jimmy\",\"Dog\",\"beagle\")\n",
    "jimmy.bark()"
   ]
  },
  {
   "cell_type": "code",
   "execution_count": 33,
   "id": "4cc2c303",
   "metadata": {},
   "outputs": [
    {
     "name": "stdout",
     "output_type": "stream",
     "text": [
      "walking\n",
      "Running\n"
     ]
    }
   ],
   "source": [
    "### Assignment 4: Multiple Inheritance Basic\n",
    "\n",
    "#Create a base class named `Walker` with a method `walk` that prints a walking message.\n",
    "#  Create another base class named `Runner` with a method `run` that prints a running message. \n",
    "# Create a derived class named `Athlete` that inherits from both `Walker` and `Runner`.\n",
    "#  Create an object of the `Athlete` class and call both methods.\n",
    "\n",
    "class Walker:\n",
    "    def walk(self):\n",
    "        print(\"walking\")\n",
    "\n",
    "class Runner:\n",
    "    def Run(self):\n",
    "        print(\"Running\")\n",
    "\n",
    "class Athlete(Runner,Walker):\n",
    "    pass\n",
    "\n",
    "bolt = Athlete()\n",
    "bolt.walk()\n",
    "bolt.Run()\n",
    "\n"
   ]
  },
  {
   "cell_type": "code",
   "execution_count": 34,
   "id": "e096315c",
   "metadata": {},
   "outputs": [
    {
     "name": "stdout",
     "output_type": "stream",
     "text": [
      "lets Run\n",
      "walking\n"
     ]
    }
   ],
   "source": [
    "### Assignment 5: Method Resolution Order (MRO) in Multiple Inheritance\n",
    "\n",
    "#In the `Athlete` class, override the `walk` method to print a different message.\n",
    "#  Create an object of the class and call the `walk` method. \n",
    "# Use the `super()` function to call the `walk` method of the `Walker` class.\n",
    "\n",
    "class Athlete(Runner,Walker):\n",
    "    def walk(self):\n",
    "        print(\"lets Run\")\n",
    "        super().walk()\n",
    "\n",
    "student1 = Athlete()\n",
    "student1.walk()\n"
   ]
  },
  {
   "cell_type": "code",
   "execution_count": 35,
   "id": "c7f26cb6",
   "metadata": {},
   "outputs": [
    {
     "name": "stdout",
     "output_type": "stream",
     "text": [
      "training hours: 12\n"
     ]
    }
   ],
   "source": [
    "### Assignment 6: Multiple Inheritance with Additional Attributes\n",
    "\n",
    "#In the `Athlete` class, add an attribute `training_hours` and a method \n",
    "# `train` that prints the training hours. Create an object of the class and call the method.\n",
    "\n",
    "class Athlete(Runner,Walker):\n",
    "    def __init__(self,training_hours):\n",
    "        self.training_hours = training_hours\n",
    "\n",
    "    def train(self):\n",
    "        print(f\"training hours: {self.training_hours}\")\n",
    "\n",
    "athelete1 = Athlete(12)\n",
    "athelete1.train()"
   ]
  },
  {
   "cell_type": "code",
   "execution_count": 36,
   "id": "95461b96",
   "metadata": {},
   "outputs": [
    {
     "name": "stdout",
     "output_type": "stream",
     "text": [
      "this is class B\n"
     ]
    }
   ],
   "source": [
    "### Assignment 7: Diamond Problem in Multiple Inheritance\n",
    "\n",
    "#Create a class named `A` with a method `show` that prints a message. \n",
    "# Create two derived classes `B` and `C` that inherit from `A` and override the `show` method.\n",
    "#  Create a class `D` that inherits from both `B` and `C`. \n",
    "# Create an object of the `D` class and call the `show` method. Observe the method resolution order.\n",
    "class A:\n",
    "    def show(self):\n",
    "        print(\"This is class A\")\n",
    "\n",
    "class B(A):\n",
    "    def show(self):\n",
    "        print(\"this is class B\")\n",
    "\n",
    "class C(A):\n",
    "    def show(self):\n",
    "        print(\"This is class C\")\n",
    "\n",
    "class D(B,C):\n",
    "    pass\n",
    "d = D()\n",
    "d.show()"
   ]
  },
  {
   "cell_type": "code",
   "execution_count": 40,
   "id": "bfdde8e1",
   "metadata": {},
   "outputs": [
    {
     "name": "stdout",
     "output_type": "stream",
     "text": [
      "7 blue\n"
     ]
    }
   ],
   "source": [
    "### Assignment 8: Using `super()` in Single Inheritance\n",
    "\n",
    "#Create a base class named `Shape` with an attribute `color`.\n",
    "#  Create a derived class named `Circle` that inherits from `Shape` \n",
    "# and adds an attribute `radius`. Use the `super()` function to\n",
    "#  initialize the attributes. Create an object of the `Circle` class and print its attributes.\n",
    "\n",
    "class Shape:\n",
    "    def __init__(self,color):\n",
    "        self.color = color\n",
    "\n",
    "class circle(Shape):\n",
    "    def __init__(self,color,radius):\n",
    "        self.radius = radius\n",
    "        super().__init__(color)\n",
    "\n",
    "\n",
    "circle1 = circle(\"blue\",7)\n",
    "print(circle1.radius,circle1.color)"
   ]
  },
  {
   "cell_type": "code",
   "execution_count": 49,
   "id": "f96b7112",
   "metadata": {},
   "outputs": [
    {
     "name": "stdout",
     "output_type": "stream",
     "text": [
      "Arun 12123\n"
     ]
    }
   ],
   "source": [
    "### Assignment 9: Using `super()` in Multiple Inheritance\n",
    "\n",
    "#Create a class named `Person` with an attribute `name`. \n",
    "# Create a class named `Employee` with an attribute `employee_id`. \n",
    "# Create a derived class `Manager` that inherits from both `Person` and `Employee`. \n",
    "# Use the `super()` function to initialize the attributes. Create an object of the `Manager` class and print its attributes.\n",
    "\n",
    "class Person:\n",
    "    def __init__(self,name):\n",
    "        self.name = name\n",
    "\n",
    "class Employee:\n",
    "    def __init__(self,employee_id):\n",
    "        self.employee_id = employee_id\n",
    "\n",
    "class Manager(Person,Employee):\n",
    "    def __init__(self,name,employee_id):\n",
    "        super().__init__(name)\n",
    "        Employee.__init__(self,employee_id)\n",
    "\n",
    "\n",
    "Man1 = Manager(\"Arun\",12123)\n",
    "print(Man1.name,Man1.employee_id)"
   ]
  },
  {
   "cell_type": "code",
   "execution_count": 50,
   "id": "19f07eca",
   "metadata": {},
   "outputs": [
    {
     "name": "stdout",
     "output_type": "stream",
     "text": [
      "car is starting\n",
      "starting\n"
     ]
    }
   ],
   "source": [
    "### Assignment 10: Method Overriding and `super()`\n",
    "\n",
    "#Create a class named `Vehicle` with a method `start` that prints a starting message. \n",
    "# Create a derived class `Car` that overrides the `start` method to print a different message. \n",
    "# Use the `super()` function to call the `start` method of the `Vehicle` class.\n",
    "#  Create an object of the `Car` class and call the `start` method.\n",
    "\n",
    "class Vehicle:\n",
    "    def start(self):\n",
    "        print(\"starting\")\n",
    "\n",
    "class car(Vehicle):\n",
    "    def start(self):\n",
    "        print(\"car is starting\")\n",
    "        super().start()\n",
    "\n",
    "ferrari = car()\n",
    "ferrari.start()"
   ]
  },
  {
   "cell_type": "code",
   "execution_count": 53,
   "id": "09fb3f52",
   "metadata": {},
   "outputs": [
    {
     "name": "stdout",
     "output_type": "stream",
     "text": [
      "flying...\n",
      "swimming...\n"
     ]
    }
   ],
   "source": [
    "### Assignment 11: Multiple Inheritance with Different Methods\n",
    "\n",
    "#Create a class named `Flyer` with a method `fly` that prints a flying message.\n",
    "#  Create a class named `Swimmer` with a method `swim` that prints a swimming message. \n",
    "# Create a derived class `Superhero` that inherits from both `Flyer` and `Swimmer`. \n",
    "# Create an object of the `Superhero` class and call both methods.\n",
    "\n",
    "class Flyer:\n",
    "    def fly(self):\n",
    "        print(\"flying...\")\n",
    "\n",
    "class Swimmer:\n",
    "    def swim(self):\n",
    "        print(\"swimming...\")\n",
    "\n",
    "class Superhero(Flyer,Swimmer):\n",
    "    pass\n",
    "\n",
    "SpiderMan = Superhero()\n",
    "SpiderMan.fly()\n",
    "SpiderMan.swim()"
   ]
  },
  {
   "cell_type": "code",
   "execution_count": 57,
   "id": "f8d8165d",
   "metadata": {},
   "outputs": [
    {
     "name": "stdout",
     "output_type": "stream",
     "text": [
      "1 2 3\n"
     ]
    }
   ],
   "source": [
    "### Assignment 12: Complex Multiple Inheritance\n",
    "\n",
    "\n",
    "#Create a class named `Base1` with an attribute `a`. \n",
    "# Create a class named `Base2` with an attribute `b`. \n",
    "# Create a class named `Derived` that inherits from both `Base1` and `Base2` \n",
    "# and adds an attribute `c`. Initialize all attributes using the `super()` function.\n",
    "#  Create an object of the `Derived` class and print its attributes.\n",
    "\n",
    "class Base1:\n",
    "    def __init__(self,a):\n",
    "        self.a = a\n",
    "\n",
    "class Base2:\n",
    "    def __init__(self,b):\n",
    "        self.b = b\n",
    "\n",
    "class Derived(Base1,Base2):\n",
    "    def __init__(self,a,b,c):\n",
    "        super().__init__(a)\n",
    "        Base2.__init__(self, b)\n",
    "        self.c = c\n",
    "\n",
    "derived = Derived(1,2,3)\n",
    "print(derived.a , derived.b, derived.c)\n"
   ]
  },
  {
   "cell_type": "code",
   "execution_count": 58,
   "id": "9c4137a2",
   "metadata": {},
   "outputs": [
    {
     "name": "stdout",
     "output_type": "stream",
     "text": [
      "True\n",
      "True\n",
      "True\n",
      "False\n"
     ]
    }
   ],
   "source": [
    "### Assignment 13: Checking Instance Types with Inheritance\n",
    "\n",
    "#reate a base class named `Animal` and a derived class named `Cat`. \n",
    "# Create objects of both classes and use the `isinstance` function to check the instance types.\n",
    "\n",
    "class Animal:\n",
    "    pass\n",
    "\n",
    "class Cat(Animal):\n",
    "    pass\n",
    "\n",
    "animal = Animal()\n",
    "cat = Cat()\n",
    "print(isinstance(animal, Animal))  # True\n",
    "print(isinstance(cat, Animal))  # True\n",
    "print(isinstance(cat, Cat))  # True\n",
    "print(isinstance(animal, Cat))  # False\n"
   ]
  },
  {
   "cell_type": "code",
   "execution_count": 60,
   "id": "1fba283d",
   "metadata": {},
   "outputs": [
    {
     "name": "stdout",
     "output_type": "stream",
     "text": [
      "squawk\n",
      "chirp\n"
     ]
    }
   ],
   "source": [
    "### Assignment 14: Polymorphism with Inheritance\n",
    "\n",
    "#reate a base class named `Bird` with a method `speak`. \n",
    "# Create two derived classes `Parrot` and `Penguin` that override the `speak` method. \n",
    "# Create a list of `Bird` objects and call the `speak` method on each object to demonstrate polymorphism.\n",
    "\n",
    "class Bird:\n",
    "    def speak(self):\n",
    "        print(\"chiu chiu\")\n",
    "\n",
    "class Parrot(Bird):\n",
    "    def speak(self):\n",
    "        print(\"squawk\")\n",
    "\n",
    "class Penguin(Bird):\n",
    "    def speak(self):\n",
    "        print(\"chirp\")\n",
    "\n",
    "birds = [Parrot(), Penguin()]\n",
    "for bird in birds:\n",
    "  bird.speak()"
   ]
  },
  {
   "cell_type": "code",
   "execution_count": 63,
   "id": "ef583983",
   "metadata": {},
   "outputs": [
    {
     "name": "stdout",
     "output_type": "stream",
     "text": [
      "realme 5i\n"
     ]
    }
   ],
   "source": [
    "### Assignment 15: Combining Single and Multiple Inheritance\n",
    "#Create a base class named `Device` with an attribute `brand`. \n",
    "# Create a derived class `Phone` that inherits from `Device` and adds an attribute `model`.\n",
    "#  Create another base class `Camera` with an attribute `resolution`. \n",
    "# Create a derived class `Smartphone` that inherits from both `Phone` and `Camera`.\n",
    "#  Create an object of the `Smartphone` class and print its attributes.\n",
    "\n",
    "\n",
    "class Device:\n",
    "    def __init__(self,brand):\n",
    "        self.brand = brand\n",
    "\n",
    "class Phone(Device):\n",
    "    def __init__(self, brand, model):\n",
    "        super().__init__(brand)\n",
    "        self.model = model\n",
    "\n",
    "class Camera:\n",
    "    def __init__(self,resolution):\n",
    "        self.resolution = resolution\n",
    "\n",
    "class Smartphone(Phone,Camera):\n",
    "   def __init__(self, brand, model, resolution):\n",
    "        Phone.__init__(self, brand, model)\n",
    "        Camera.__init__(self, resolution)\n",
    "\n",
    "m24 = Smartphone(\"realme\",\"5i\",\"32 megapixel\")\n",
    "print(m24.brand,m24.model)"
   ]
  }
 ],
 "metadata": {
  "kernelspec": {
   "display_name": "base",
   "language": "python",
   "name": "python3"
  },
  "language_info": {
   "codemirror_mode": {
    "name": "ipython",
    "version": 3
   },
   "file_extension": ".py",
   "mimetype": "text/x-python",
   "name": "python",
   "nbconvert_exporter": "python",
   "pygments_lexer": "ipython3",
   "version": "3.12.4"
  }
 },
 "nbformat": 4,
 "nbformat_minor": 5
}
