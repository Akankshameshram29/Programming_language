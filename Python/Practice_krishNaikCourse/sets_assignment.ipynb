{
 "cells": [
  {
   "cell_type": "markdown",
   "id": "54ba63b6",
   "metadata": {},
   "source": [
    "# Module 3: Data Structures Assignments\n",
    "## Lesson 3.3: Sets\n",
    "### Assignment 1: Creating and Accessing Sets\n",
    "\n",
    "Create a set with the first 10 positive integers. Print the set\n",
    "\n",
    "\n",
    "### Assignment 2: Adding and Removing Elements\n",
    "\n",
    "Add the number 11 to the set created in Assignment 1. Then remove the number 1 from the set. Print the modified set.\n",
    "\n",
    "### Assignment 3: Set Operations\n",
    "\n",
    "Create two sets: one with the first 5 positive integers and another with the first 5 even integers. Perform and print the results of union, intersection, difference, and symmetric difference operations on these sets.\n",
    "\n",
    "### Assignment 4: Set Comprehensions\n",
    "\n",
    "Create a new set containing the squares of the first 10 positive integers using a set comprehension. Print the new set.\n",
    "\n",
    "### Assignment 5: Filtering Sets\n",
    "\n",
    "Create a new set containing only the even numbers from the set created in Assignment 1 using a set comprehension. Print the new set.\n",
    "\n",
    "### Assignment 6: Set Methods\n",
    "\n",
    "Create a set with duplicate elements and remove the duplicates using set methods. Print the modified set.\n",
    "\n",
    "### Assignment 7: Subsets and Supersets\n",
    "\n",
    "Create two sets: one with the first 5 positive integers and another with the first 3 positive integers. Check if the second set is a subset of the first set and if the first set is a superset of the second set. Print the results.\n",
    "\n",
    "### Assignment 8: Frozenset\n",
    "\n",
    "Create a frozenset with the first 5 positive integers. Print the frozenset.\n",
    "\n",
    "### Assignment 9: Set and List Conversion\n",
    "\n",
    "Create a set with the first 5 positive integers. Convert it to a list, append the number 6, and convert it back to a set. Print the resulting set.\n",
    "\n",
    "### Assignment 10: Set and Dictionary\n",
    "\n",
    "Create a dictionary with set keys and integer values. Print the dictionary.\n",
    "\n",
    "### Assignment 11: Iterating Over Sets\n",
    "\n",
    "Create a set and iterate over the elements, printing each element.\n",
    "\n",
    "### Assignment 12: Removing Elements from Sets\n",
    "\n",
    "Create a set and remove elements from it until it is empty. Print the set after each removal.\n",
    "\n",
    "### Assignment 13: Set Symmetric Difference Update\n",
    "\n",
    "Create two sets and update the first set with the symmetric difference of the two sets. Print the modified first set.\n",
    "\n",
    "### Assignment 14: Set Membership Testing\n",
    "\n",
    "Create a set and test if certain elements are present in the set. Print the results.\n",
    "\n",
    "### Assignment 15: Set of Tuples\n",
    "\n",
    "Create a set containing tuples, where each tuple contains two elements. Print the set."
   ]
  },
  {
   "cell_type": "code",
   "execution_count": 2,
   "metadata": {},
   "outputs": [
    {
     "name": "stdout",
     "output_type": "stream",
     "text": [
      "{1, 2, 3, 4, 5, 6, 7, 8, 9, 10}\n"
     ]
    }
   ],
   "source": [
    "### Assignment 1: Creating and Accessing Sets\n",
    "\n",
    "#Create a set with the first 10 positive integers. Print the set\n",
    "my_set = set(range(1,11))\n",
    "print(my_set)\n",
    "\n"
   ]
  },
  {
   "cell_type": "code",
   "execution_count": 3,
   "id": "34742e39",
   "metadata": {},
   "outputs": [
    {
     "name": "stdout",
     "output_type": "stream",
     "text": [
      "{2, 3, 4, 5, 6, 7, 8, 9, 10, 11}\n"
     ]
    }
   ],
   "source": [
    "### Assignment 2: Adding and Removing Elements\n",
    "\n",
    "#Add the number 11 to the set created in Assignment 1. Then remove the number 1 from the set. Print the modified set.\n",
    "my_set.add(11)\n",
    "my_set.remove(1)\n",
    "print(my_set)"
   ]
  },
  {
   "cell_type": "code",
   "execution_count": 7,
   "id": "efcc4380",
   "metadata": {},
   "outputs": [
    {
     "name": "stdout",
     "output_type": "stream",
     "text": [
      "union {1, 2, 3, 4, 5, 6, 8, 10}\n",
      "Intersection {2, 4}\n",
      "Difference {1, 3, 5}\n",
      "symmetric difference  {1, 3, 5, 6, 8, 10}\n"
     ]
    }
   ],
   "source": [
    "### Assignment 3: Set Operations\n",
    "#Create two sets: one with the first 5 positive integers and another with the first 5 even integers. Perform and print the results of union, \n",
    "# intersection, difference, and symmetric difference operations on these sets.\n",
    "\n",
    "set1 = {1,2,3,4,5}\n",
    "set2 = {2,4,6,8,10}\n",
    "print(\"union\",set1.union(set2))\n",
    "print(\"Intersection\",set1.intersection(set2))\n",
    "print(\"Difference\",set1.difference(set2))\n",
    "print(\"symmetric difference \",set1.symmetric_difference(set2))"
   ]
  },
  {
   "cell_type": "code",
   "execution_count": 11,
   "id": "987b5a7d",
   "metadata": {},
   "outputs": [
    {
     "name": "stdout",
     "output_type": "stream",
     "text": [
      "{64, 1, 4, 36, 100, 9, 16, 49, 81, 25}\n",
      "<class 'set'>\n"
     ]
    }
   ],
   "source": [
    "### Assignment 4: Set Comprehensions\n",
    "\n",
    "#Create a new set containing the squares of the first 10 positive integers using a set comprehension. Print the new set.\n",
    "\n",
    "square_set = {x**2 for x in range (1,11)}\n",
    "print(square_set)\n"
   ]
  },
  {
   "cell_type": "code",
   "execution_count": 15,
   "id": "4f12f54b",
   "metadata": {},
   "outputs": [
    {
     "name": "stdout",
     "output_type": "stream",
     "text": [
      "<class 'set'>\n",
      "{2, 4, 6, 8, 10}\n"
     ]
    }
   ],
   "source": [
    "### Assignment 5: Filtering Sets\n",
    "\n",
    "#Create a new set containing only the even numbers from the set created in Assignment 1 using a set comprehension. Print the new set\n",
    "new_set = set()\n",
    "print(type(new_set))\n",
    "for x in my_set:\n",
    "    if x%2==0:\n",
    "        new_set.add(x)\n",
    "print(new_set)"
   ]
  },
  {
   "cell_type": "code",
   "execution_count": 16,
   "id": "83897269",
   "metadata": {},
   "outputs": [
    {
     "name": "stdout",
     "output_type": "stream",
     "text": [
      "{1, 2, 3, 4, 5, 6, 7}\n"
     ]
    }
   ],
   "source": [
    "### Assignment 6: Set Methods\n",
    "#Create a set with duplicate elements and remove the duplicates using set methods. Print the modified set.\n",
    "duplicate = {2,2,4,1,5,7,3,4,7,6}\n",
    "print(set(duplicate))"
   ]
  },
  {
   "cell_type": "code",
   "execution_count": 1,
   "id": "d000ce2a",
   "metadata": {},
   "outputs": [
    {
     "name": "stdout",
     "output_type": "stream",
     "text": [
      "second set is a subset of the first set: True\n",
      "first set is a superset of the second set : True\n"
     ]
    }
   ],
   "source": [
    "### Assignment 7: Subsets and Supersets\n",
    "#Create two sets: one with the first 5 positive integers and another with the first 3 positive integers.\n",
    "#  Check if the second set is a subset of the first set and if the first set is a superset of the second set. Print the results.second\n",
    "\n",
    "\n",
    "set_a = {1,2,3,4,5}\n",
    "set_b = {1,2,3}\n",
    "print(\"second set is a subset of the first set:\",set_b.issubset(set_a))\n",
    "print(\"first set is a superset of the second set :\",set_a.issuperset(set_b))"
   ]
  },
  {
   "cell_type": "code",
   "execution_count": 2,
   "id": "f7bb66ea",
   "metadata": {},
   "outputs": [
    {
     "name": "stdout",
     "output_type": "stream",
     "text": [
      "frozenset({1, 2, 3, 4, 5})\n"
     ]
    }
   ],
   "source": [
    "### Assignment 8: Frozenset\n",
    "#Create a frozenset with the first 5 positive integers. Print the frozenset.\n",
    "print(frozenset(set_a))"
   ]
  },
  {
   "cell_type": "code",
   "execution_count": 5,
   "id": "8a4ce4aa",
   "metadata": {},
   "outputs": [
    {
     "name": "stdout",
     "output_type": "stream",
     "text": [
      "resulting_set: {1, 2, 3, 4, 5, 6}\n"
     ]
    }
   ],
   "source": [
    "### Assignment 9: Set and List Conversion\n",
    "\n",
    "#Create a set with the first 5 positive integers. Convert it to a list, append the number 6, and convert it back to a set. Print the resulting set.\n",
    "\n",
    "positive = {1,2,3,4,5}\n",
    "lst = list(positive)\n",
    "lst.append(6)\n",
    "resulting_set = set(lst)\n",
    "print(\"resulting_set:\",resulting_set)"
   ]
  },
  {
   "cell_type": "code",
   "execution_count": 6,
   "id": "cd735d92",
   "metadata": {},
   "outputs": [
    {
     "name": "stdout",
     "output_type": "stream",
     "text": [
      "{(1, 2): 3, (2, 3): 5, (3, 4): 7, (4, 5): 9}\n"
     ]
    }
   ],
   "source": [
    "### Assignment 10: Set and Dictionary\n",
    "#Create a dictionary with set keys and integer values. Print the dictionary.\n",
    "\n",
    "dict1 = {\n",
    "    (1,2):3,\n",
    "    (2,3):5,\n",
    "    (3,4):7,\n",
    "    (4,5):9\n",
    "}\n",
    "print(dict1)\n"
   ]
  },
  {
   "cell_type": "code",
   "execution_count": 10,
   "id": "a4583c0b",
   "metadata": {},
   "outputs": [
    {
     "name": "stdout",
     "output_type": "stream",
     "text": [
      "3\n",
      "6\n",
      "9\n",
      "12\n",
      "15\n",
      "18\n",
      "21\n",
      "24\n",
      "27\n",
      "30\n"
     ]
    }
   ],
   "source": [
    "### Assignment 11: Iterating Over Sets\n",
    "#Create a set and iterate over the elements, printing each element.\n",
    "three_set={3,6,9,12,15,18,21,24,27,30}\n",
    "for x in three_set:\n",
    "    print(x)"
   ]
  },
  {
   "cell_type": "code",
   "execution_count": 16,
   "id": "8cdf4425",
   "metadata": {},
   "outputs": [
    {
     "name": "stdout",
     "output_type": "stream",
     "text": [
      "{3, 4, 5, 6, 7, 8, 9}\n",
      "{4, 5, 6, 7, 8, 9}\n",
      "{5, 6, 7, 8, 9}\n",
      "{6, 7, 8, 9}\n",
      "{7, 8, 9}\n",
      "{8, 9}\n",
      "{9}\n",
      "set()\n"
     ]
    }
   ],
   "source": [
    "### Assignment 12: Removing Elements from Sets\n",
    "#Create a set and remove elements from it until it is empty. Print the set after each removal.\n",
    "\n",
    "elements = {2,3,4,5,6,7,8,9}\n",
    "while elements:\n",
    "    elements.pop()\n",
    "    print(elements)"
   ]
  },
  {
   "cell_type": "code",
   "execution_count": 18,
   "id": "0dd5f199",
   "metadata": {},
   "outputs": [
    {
     "name": "stdout",
     "output_type": "stream",
     "text": [
      " modified first set {3, 35, 6, 28}\n"
     ]
    }
   ],
   "source": [
    "### Assignment 13: Set Symmetric Difference Update\n",
    "#Create two sets and update the first set with the symmetric difference of the two sets. Print the modified first set.\n",
    "first = {7,14,21,28,35}\n",
    "second = (3,6,7,14,21)\n",
    "first = first.symmetric_difference(second)\n",
    "print(\" modified first set\",first)"
   ]
  },
  {
   "cell_type": "code",
   "execution_count": 20,
   "id": "956bfe45",
   "metadata": {},
   "outputs": [
    {
     "name": "stdout",
     "output_type": "stream",
     "text": [
      "True\n",
      "False\n"
     ]
    }
   ],
   "source": [
    "### Assignment 14: Set Membership Testing\n",
    "#Create a set and test if certain elements are present in the set. Print the results.\n",
    "\n",
    "random = set(range(7,35,2))\n",
    "print(25 in random)\n",
    "print(32 in random)"
   ]
  },
  {
   "cell_type": "code",
   "execution_count": 25,
   "id": "9ff23a99",
   "metadata": {},
   "outputs": [
    {
     "name": "stdout",
     "output_type": "stream",
     "text": [
      "{(1, 2), (4, 5), (8, 9)}\n",
      "<class 'set'>\n"
     ]
    }
   ],
   "source": [
    "### Assignment 15: Set of Tuples\n",
    "#Create a set containing tuples, where each tuple contains two elements. Print the set.\n",
    "\n",
    "t_set = {(1,2),(4,5),(8,9)}\n",
    "print(t_set)\n",
    "print(type(t_set))"
   ]
  }
 ],
 "metadata": {
  "kernelspec": {
   "display_name": "base",
   "language": "python",
   "name": "python3"
  },
  "language_info": {
   "codemirror_mode": {
    "name": "ipython",
    "version": 3
   },
   "file_extension": ".py",
   "mimetype": "text/x-python",
   "name": "python",
   "nbconvert_exporter": "python",
   "pygments_lexer": "ipython3",
   "version": "3.12.4"
  }
 },
 "nbformat": 4,
 "nbformat_minor": 5
}
