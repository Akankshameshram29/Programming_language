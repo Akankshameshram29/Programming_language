{
 "cells": [
  {
   "cell_type": "markdown",
   "metadata": {},
   "source": [
    "# Module: Exception Handling Assignments\n",
    "## Lesson: Exception Handling with try, except, and finally\n",
    "### Assignment 1: Handling Division by Zero\n",
    "\n",
    "Write a function that takes two integers as input and returns their division. Use try, except, and finally blocks to handle division by zero and print an appropriate message.\n",
    "\n",
    "### Assignment 2: File Reading with Exception Handling\n",
    "\n",
    "Write a function that reads the contents of a file named `data.txt`. Use try, except, and finally blocks to handle file not found errors and ensure the file is properly closed.\n",
    "\n",
    "### Assignment 3: Handling Multiple Exceptions\n",
    "\n",
    "Write a function that takes a list of integers and returns their sum. Use try, except, and finally blocks to handle TypeError if a non-integer value is encountered and print an appropriate message.\n",
    "\n",
    "### Assignment 4: Exception Handling in User Input\n",
    "\n",
    "Write a function that prompts the user to enter an integer. Use try, except, and finally blocks to handle ValueError if the user enters a non-integer value and print an appropriate message.\n",
    "\n",
    "### Assignment 5: Exception Handling in Dictionary Access\n",
    "\n",
    "Write a function that takes a dictionary and a key as input and returns the value associated with the key. Use try, except, and finally blocks to handle KeyError if the key is not found in the dictionary and print an appropriate message.\n",
    "\n",
    "### Assignment 6: Nested Exception Handling\n",
    "\n",
    "Write a function that performs nested exception handling. It should first attempt to convert a string to an integer, and then attempt to divide by that integer. Use nested try, except, and finally blocks to handle ValueError and ZeroDivisionError and print appropriate messages.\n",
    "\n",
    "### Assignment 7: Exception Handling in List Operations\n",
    "\n",
    "Write a function that takes a list and an index as input and returns the element at the given index. Use try, except, and finally blocks to handle IndexError if the index is out of range and print an appropriate message.\n",
    "\n",
    "### Assignment 8: Exception Handling in Network Operations\n",
    "\n",
    "Write a function that attempts to open a URL and read its contents. Use try, except, and finally blocks to handle network-related errors and print an appropriate message.\n",
    "\n",
    "### Assignment 9: Exception Handling in JSON Parsing\n",
    "\n",
    "Write a function that attempts to parse a JSON string. Use try, except, and finally blocks to handle JSONDecodeError if the string is not a valid JSON and print an appropriate message.\n",
    "\n",
    "### Assignment 10: Custom Exception Handling\n",
    "\n",
    "Define a custom exception named `NegativeNumberError`. Write a function that raises this exception if a negative number is encountered in a list. Use try, except, and finally blocks to handle the custom exception and print an appropriate message.\n",
    "\n",
    "### Assignment 11: Exception Handling in Function Calls\n",
    "\n",
    "Write a function that calls another function which may raise an exception. Use try, except, and finally blocks to handle the exception and print an appropriate message.\n",
    "\n",
    "## Assignment 12: Exception Handling in Class Methods\n",
    "\n",
    "Define a class with a method that performs a division operation. Use try, except, and finally blocks within the method to handle division by zero and print an appropriate message.\n",
    "\n",
    "### Assignment 13: Exception Handling in Data Conversion\n",
    "\n",
    "Write a function that takes a list of strings and converts them to integers. Use try, except, and finally blocks to handle ValueError if a string cannot be converted and print an appropriate message.\n",
    "\n",
    "### Assignment 14: Exception Handling in List Comprehensions\n",
    "\n",
    "Write a function that uses a list comprehension to convert a list of strings to integers. Use try, except, and finally blocks within the list comprehension to handle ValueError and print an appropriate message.\n",
    "\n",
    "### Assignment 15: Exception Handling in File Writing\n",
    "\n",
    "Write a function that attempts to write a list of strings to a file. Use try, except, and finally blocks to handle IOError and ensure the file is properly closed."
   ]
  },
  {
   "cell_type": "code",
   "execution_count": 2,
   "metadata": {},
   "outputs": [
    {
     "name": "stdout",
     "output_type": "stream",
     "text": [
      "please enter number greater than zero\n",
      "EXecution Completed\n"
     ]
    }
   ],
   "source": [
    "### Assignment 1: Handling Division by Zero\n",
    "\n",
    "#Write a function that takes two integers as input and returns their division. Use try, except, and finally \n",
    "# blocks to handle division by zero and print an appropriate message.\n",
    "\n",
    "def div(a,b):\n",
    "    try:\n",
    "        result = a/b\n",
    "    except ZeroDivisionError as ex:\n",
    "        print(\"please enter number greater than zero\")\n",
    "    finally:\n",
    "        print(\"EXecution Completed\")\n",
    "    return result\n",
    "div(2,0)\n"
   ]
  },
  {
   "cell_type": "code",
   "execution_count": 7,
   "id": "30354488",
   "metadata": {},
   "outputs": [
    {
     "name": "stdout",
     "output_type": "stream",
     "text": [
      "[]\n"
     ]
    }
   ],
   "source": [
    "### Assignment 2: File Reading with Exception Handling\n",
    "\n",
    "#Write a function that reads the contents of a file named `data.txt`.\n",
    "# Use try, except, and finally blocks to handle file not found errors and ensure the file is properly closed.\n",
    "def read(filename):\n",
    "    try:\n",
    "        with open(filename,'r') as file:\n",
    "            return file.readlines()\n",
    "            \n",
    "    except FileNotFoundError as ex:\n",
    "        print(ex)\n",
    "        return None\n",
    "    finally:\n",
    "        if file is not None:\n",
    "           file.close()\n",
    "\n",
    "content = read('data.txt')\n",
    "print(content)\n",
    "        "
   ]
  },
  {
   "cell_type": "code",
   "execution_count": 8,
   "id": "2dc8b2f2",
   "metadata": {},
   "outputs": [
    {
     "name": "stdout",
     "output_type": "stream",
     "text": [
      "error: unsupported operand type(s) for +=: 'int' and 'str'\n",
      "Execution complete\n",
      "None\n"
     ]
    }
   ],
   "source": [
    "### Assignment 3: Handling Multiple Exceptions\n",
    "\n",
    "#Write a function that takes a list of integers and returns their sum. Use try,\n",
    "# except, and finally blocks to handle TypeError if a non-integer value is \n",
    "# encountered and print an appropriate message.\n",
    "\n",
    "def int_list(lst):\n",
    "    sum = 0\n",
    "    try:\n",
    "        \n",
    "        for i in lst:\n",
    "            sum+=i\n",
    "    except TypeError as ex:\n",
    "        print(\"error:\",ex)\n",
    "        return None\n",
    "    finally:\n",
    "        print('Execution complete')\n",
    "\n",
    "print(int_list([2,23,4,'a']))\n",
    "\n"
   ]
  },
  {
   "cell_type": "code",
   "execution_count": 14,
   "id": "86cf718a",
   "metadata": {},
   "outputs": [
    {
     "name": "stdout",
     "output_type": "stream",
     "text": [
      "Error: invalid literal for int() with base 10: 'a'\n",
      "please enter a integer\n",
      "execution completed\n",
      "None\n"
     ]
    }
   ],
   "source": [
    "## Assignment 4: Exception Handling in User Input\n",
    "\n",
    "#Write a function that prompts the user to enter an integer. Use try, except,\n",
    "# and finally blocks to handle ValueError if the user enters a non-integer value\n",
    "# and print an appropriate message.\n",
    "\n",
    "def func():\n",
    "    try:\n",
    "        num = int(input())\n",
    "    except ValueError as v:\n",
    "         print('Error:',v)\n",
    "         print('please enter a integer')\n",
    "         num = None\n",
    "    finally:\n",
    "        print('execution completed')\n",
    "    return num\n",
    "    \n",
    "print(func())\n"
   ]
  },
  {
   "cell_type": "code",
   "execution_count": 21,
   "id": "95169182",
   "metadata": {},
   "outputs": [
    {
     "name": "stdout",
     "output_type": "stream",
     "text": [
      "execution completed\n",
      "2\n"
     ]
    }
   ],
   "source": [
    "### Assignment 5: Exception Handling in Dictionary Access\n",
    "\n",
    "#Write a function that takes a dictionary and a key as input and returns the value associated with the key. Use try, except,\n",
    "#  and finally blocks to handle KeyError if the key is not found in the dictionary and print an appropriate message.\n",
    "\n",
    "def function1(dict,key):\n",
    "    try:\n",
    "        value = dict[key]\n",
    "    except KeyError as ky: \n",
    "        print(\"Error:\",ky)\n",
    "        value = None\n",
    "    finally:\n",
    "        print('execution completed')\n",
    "        return value\n",
    "        \n",
    "\n",
    "dict = {'a': 1, 'b': 2, 'c': 3}\n",
    "print(function1(dict,'b')) \n",
    "\n",
    "\n"
   ]
  },
  {
   "cell_type": "code",
   "execution_count": 24,
   "id": "e5b5be62",
   "metadata": {},
   "outputs": [
    {
     "name": "stdout",
     "output_type": "stream",
     "text": [
      "Conversion completed\n",
      "division attempt completed\n",
      "execution completed\n",
      "0.17857142857142858\n"
     ]
    }
   ],
   "source": [
    "### Assignment 6: Nested Exception Handling\n",
    "\n",
    "#Write a function that performs nested exception handling.\n",
    "# It should first attempt to convert a string to an integer,\n",
    "# and then attempt to divide by that integer. Use nested try, \n",
    "# except, and finally blocks to handle ValueError and ZeroDivisionError and print appropriate messages.\n",
    "\n",
    "def nested(string):\n",
    "    try:\n",
    "\n",
    "      try:\n",
    "         num = int(string)\n",
    "      except ValueError as v:\n",
    "         print(\"error\",v)\n",
    "         num = None\n",
    "      finally:\n",
    "         print(\"Conversion completed\")\n",
    "      if num is not None:\n",
    "          try:\n",
    "             result = 10/num\n",
    "          except ZeroDivisionError as ze:\n",
    "              print('Division error:',ze)\n",
    "              result = None\n",
    "          finally:\n",
    "            print(\"division attempt completed\")\n",
    "            return result\n",
    "    finally:\n",
    "        print(\"execution completed\")\n",
    "\n",
    "print(nested('56'))"
   ]
  },
  {
   "cell_type": "code",
   "execution_count": 25,
   "id": "f0714549",
   "metadata": {},
   "outputs": [
    {
     "name": "stdout",
     "output_type": "stream",
     "text": [
      "Execution completed\n",
      "3\n"
     ]
    }
   ],
   "source": [
    "### Assignment 7: Exception Handling in List Operations\n",
    "\n",
    "#Write a function that takes a list and an index as input and\n",
    "#  returns the element at the given index. Use try, except, and \n",
    "# finally blocks to handle IndexError if the index is out of range and print an appropriate message.\n",
    "\n",
    "def lst_func(lst,index):\n",
    "    try:\n",
    "       element = lst[index]\n",
    "    except IndexError as i:\n",
    "        print('error:',i)\n",
    "        element = None\n",
    "    finally:\n",
    "        print(\"Execution completed\")\n",
    "        return element\n",
    "\n",
    "print(lst_func([1,2,3,4,5],2))"
   ]
  },
  {
   "cell_type": "code",
   "execution_count": 29,
   "id": "b383dd2e",
   "metadata": {},
   "outputs": [
    {
     "name": "stdout",
     "output_type": "stream",
     "text": [
      "Execution complete.\n",
      "{'name': 'John', 'age': 30}\n",
      "JSON error: Expecting value: line 1 column 1 (char 0)\n",
      "Execution complete.\n",
      "None\n"
     ]
    }
   ],
   "source": [
    "### Assignment 9: Exception Handling in JSON Parsing\n",
    "\n",
    "#Write a function that attempts to parse a JSON string. \n",
    "# Use try, except, and finally blocks to handle JSONDecodeError \n",
    "# if the string is not a valid JSON and print an appropriate message.\n",
    "import json\n",
    "\n",
    "def parse_json(json_string):\n",
    "    try:\n",
    "        data = json.loads(json_string)\n",
    "        return data\n",
    "    except json.JSONDecodeError as e:\n",
    "        print(f\"JSON error: {e}\")\n",
    "        return None\n",
    "    finally:\n",
    "        print(\"Execution complete.\")\n",
    "\n",
    "\n",
    "print(parse_json('{\"name\": \"John\", \"age\": 30}'))  \n",
    "print(parse_json('Invalid JSON'))  "
   ]
  },
  {
   "cell_type": "code",
   "execution_count": 27,
   "id": "4926967e",
   "metadata": {},
   "outputs": [
    {
     "name": "stdout",
     "output_type": "stream",
     "text": [
      "Error: Negative number found: -2\n",
      "Execution complete.\n",
      "None\n"
     ]
    }
   ],
   "source": [
    "### Assignment 10: Custom Exception Handling\n",
    "\n",
    "#Define a custom exception named `NegativeNumberError`. \n",
    "# Write a function that raises this exception if a negative number is encountered in a list. \n",
    "# Use try, except, and finally blocks to handle the custom exception and print an appropriate message.\n",
    "class NegativeNumberError(Exception):\n",
    "    pass\n",
    "\n",
    "def check_for_negatives(lst):\n",
    "    try:\n",
    "        for num in lst:\n",
    "            if num < 0:\n",
    "                raise NegativeNumberError(f\"Negative number found: {num}\")\n",
    "    except NegativeNumberError as e:\n",
    "        print(f\"Error: {e}\")\n",
    "    finally:\n",
    "        print(\"Execution complete.\")\n",
    "\n",
    "print(check_for_negatives([1,2,-2,3,4]))"
   ]
  },
  {
   "cell_type": "code",
   "execution_count": 28,
   "id": "fcad9645",
   "metadata": {},
   "outputs": [
    {
     "name": "stdout",
     "output_type": "stream",
     "text": [
      "Execution complete.\n",
      "{\n",
      "  \"userId\": 1,\n",
      "  \"id\": 1,\n",
      "  \"title\": \"sunt aut facere repellat provident occaecati excepturi optio reprehenderit\",\n",
      "  \"body\": \"quia et suscipit\\nsuscipit recusandae consequuntur expedita et cum\\nreprehenderit molestiae ut ut quas totam\\nnostrum rerum est autem sunt rem eveniet architecto\"\n",
      "}\n",
      "Network error: HTTPSConnectionPool(host='nonexistent.url', port=443): Max retries exceeded with url: / (Caused by NameResolutionError(\"<urllib3.connection.HTTPSConnection object at 0x000001A338B803B0>: Failed to resolve 'nonexistent.url' ([Errno 11001] getaddrinfo failed)\"))\n",
      "Execution complete.\n",
      "None\n"
     ]
    }
   ],
   "source": [
    "### Assignment 8: Exception Handling in Network Operations\n",
    "\n",
    "#Write a function that attempts to open a URL and read its contents. \n",
    "# Use try, except, and finally blocks to handle network-related errors and print an appropriate message.\n",
    "import requests\n",
    "\n",
    "def read_url(url):\n",
    "    try:\n",
    "        response = requests.get(url)\n",
    "        response.raise_for_status()\n",
    "        return response.text\n",
    "    except requests.RequestException as e:\n",
    "        print(f\"Network error: {e}\")\n",
    "        return None\n",
    "    finally:\n",
    "        print(\"Execution complete.\")\n",
    "\n",
    "print(read_url('https://jsonplaceholder.typicode.com/posts/1'))\n",
    "print(read_url('https://nonexistent.url'))"
   ]
  },
  {
   "cell_type": "code",
   "execution_count": 30,
   "id": "f4b8f9db",
   "metadata": {},
   "outputs": [
    {
     "name": "stdout",
     "output_type": "stream",
     "text": [
      "Error: An error occurred in risky_function.\n",
      "Execution complete.\n",
      "None\n"
     ]
    }
   ],
   "source": [
    "### Assignment 11: Exception Handling in Function Calls\n",
    "\n",
    "#Write a function that calls another function which may raise an exception. \n",
    "# Use try, except, and finally blocks to handle the exception and print an appropriate message.\n",
    "\n",
    "def risky_function():\n",
    "    raise ValueError(\"An error occurred in risky_function.\")\n",
    "\n",
    "def safe_function():\n",
    "    try:\n",
    "        risky_function()\n",
    "    except ValueError as e:\n",
    "        print(f\"Error: {e}\")\n",
    "    finally:\n",
    "        print(\"Execution complete.\")\n",
    "\n",
    "print(safe_function())"
   ]
  },
  {
   "cell_type": "code",
   "execution_count": 1,
   "id": "9edb516e",
   "metadata": {},
   "outputs": [
    {
     "name": "stdout",
     "output_type": "stream",
     "text": [
      "error division by zero\n",
      "Execution completed\n",
      "None\n"
     ]
    }
   ],
   "source": [
    "## Assignment 12: Exception Handling in Class Methods\n",
    "\n",
    "#Define a class with a method that performs a division operation. \n",
    "# Use try, except, and finally blocks within the method to handle \n",
    "# division by zero and print an appropriate message.\n",
    "\n",
    "\n",
    "class calc:\n",
    "    def divide(a,b):\n",
    "        try:\n",
    "            result = a/b\n",
    "        except ZeroDivisionError as e:\n",
    "            print(\"error\",e)\n",
    "            result = None\n",
    "        finally:\n",
    "            print(\"Execution completed\")\n",
    "        return result\n",
    "\n",
    "calc()\n",
    "print(calc.divide(2,0))"
   ]
  },
  {
   "cell_type": "code",
   "execution_count": 6,
   "id": "5cd8c374",
   "metadata": {},
   "outputs": [
    {
     "name": "stdout",
     "output_type": "stream",
     "text": [
      "error invalid literal for int() with base 10: 'four'\n",
      "Execution completed\n",
      "None\n"
     ]
    }
   ],
   "source": [
    "### Assignment 13: Exception Handling in Data Conversion\n",
    "\n",
    "#Write a function that takes a list of strings and converts\n",
    "#  them to integers. Use try, except, and finally blocks to\n",
    "#  handle ValueError if a string cannot be converted and print an appropriate message.\n",
    "\n",
    "def func(lst):\n",
    "    integer = []\n",
    "    try:\n",
    "        for item in lst:\n",
    "           integer.append(int(item))\n",
    "    except ValueError as v:\n",
    "        print(\"error\",v)\n",
    "        integer = None\n",
    "    finally:\n",
    "        print(\"Execution completed\")\n",
    "        return integer\n",
    "\n",
    "print(func([\"56\",\"4\",\"four\"]))\n"
   ]
  },
  {
   "cell_type": "code",
   "execution_count": 8,
   "id": "3ddc1a5b",
   "metadata": {},
   "outputs": [
    {
     "name": "stdout",
     "output_type": "stream",
     "text": [
      "error invalid literal for int() with base 10: 'a'\n",
      "exection completed\n",
      "None\n"
     ]
    }
   ],
   "source": [
    "### Assignment 14: Exception Handling in List Comprehensions\n",
    "\n",
    "#Write a function that uses a list comprehension to convert a\n",
    "#  list of strings to integers. Use try, except, and finally blocks\n",
    "#  within the list comprehension to handle ValueError and print an appropriate message.\n",
    "\n",
    "def list_com(lst):\n",
    "    try:\n",
    "        integer = [int(i) for i in lst]\n",
    "    except ValueError as ve:\n",
    "         print(\"error\",ve)\n",
    "         integer = None\n",
    "    finally:\n",
    "        print(\"exection completed\")\n",
    "        return integer\n",
    "\n",
    "print(list_com([\"34\",\"45\",\"a\"]))"
   ]
  },
  {
   "cell_type": "code",
   "execution_count": 15,
   "id": "b414b494",
   "metadata": {},
   "outputs": [
    {
     "name": "stdout",
     "output_type": "stream",
     "text": [
      "execution completed\n"
     ]
    }
   ],
   "source": [
    "### Assignment 15: Exception Handling in File Writing\n",
    "\n",
    "#Write a function that attempts to write a list of strings to a file. \n",
    "# Use try, except, and finally blocks to handle IOError and ensure the file is properly closed.\n",
    "def function2(lst,filename):\n",
    "    try:\n",
    "       with open(filename,'a') as file:\n",
    "         for i in lst:\n",
    "            file.write(i+'\\n')\n",
    "    except IOError as io:\n",
    "        print(\"Error:\",io)\n",
    "    finally:\n",
    "        file.close()\n",
    "        print(\"execution completed\")\n",
    "\n",
    "lst = [\"samm\",\"poster\"]\n",
    "function2(lst,\"data.txt\")\n"
   ]
  }
 ],
 "metadata": {
  "kernelspec": {
   "display_name": "base",
   "language": "python",
   "name": "python3"
  },
  "language_info": {
   "codemirror_mode": {
    "name": "ipython",
    "version": 3
   },
   "file_extension": ".py",
   "mimetype": "text/x-python",
   "name": "python",
   "nbconvert_exporter": "python",
   "pygments_lexer": "ipython3",
   "version": "3.12.4"
  }
 },
 "nbformat": 4,
 "nbformat_minor": 5
}
